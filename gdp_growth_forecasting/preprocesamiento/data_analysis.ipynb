{
 "cells": [
  {
   "cell_type": "code",
   "execution_count": 1,
   "metadata": {},
   "outputs": [],
   "source": [
    "import pandas as pd\n",
    "import numpy as np\n",
    "import matplotlib.pyplot as plt\n",
    "from statsmodels.graphics.tsaplots import plot_acf"
   ]
  },
  {
   "cell_type": "code",
   "execution_count": 2,
   "metadata": {},
   "outputs": [],
   "source": [
    "def graficar(s: pd.Series, t, linea_cero=False):\n",
    "    fig, ax = plt.subplots(figsize=[8,4])\n",
    "    s.plot(ax=ax)\n",
    "    ax.set_title(t)\n",
    "    if linea_cero:\n",
    "        ax.axhline(y=0,color='grey',linestyle='--')\n",
    "\n",
    "def graficar2(s1: pd.Series, t1,s2: pd.Series, t2, linea_cero=False):\n",
    "    fig, ax = plt.subplots(1,2,figsize=[10,4])\n",
    "    s1.plot(ax=ax[0])\n",
    "    s2.plot(ax=ax[1])\n",
    "    ax[0].set_title(t1)\n",
    "    ax[1].set_title(t2)\n",
    "    if linea_cero:\n",
    "        ax[0].axhline(y=0,color='grey',linestyle='--')\n",
    "        ax[1].axhline(y=0,color='grey',linestyle='--')"
   ]
  },
  {
   "cell_type": "markdown",
   "metadata": {},
   "source": [
    "# Carga de datos\n",
    "Se extrayeron los datos de [https://databank.bancomundial.org/](https://databank.bancomundial.org/)"
   ]
  },
  {
   "cell_type": "markdown",
   "metadata": {},
   "source": [
    "Indicadores Macroeconómicos"
   ]
  },
  {
   "cell_type": "code",
   "execution_count": 3,
   "metadata": {},
   "outputs": [
    {
     "data": {
      "text/html": [
       "<div>\n",
       "<style scoped>\n",
       "    .dataframe tbody tr th:only-of-type {\n",
       "        vertical-align: middle;\n",
       "    }\n",
       "\n",
       "    .dataframe tbody tr th {\n",
       "        vertical-align: top;\n",
       "    }\n",
       "\n",
       "    .dataframe thead th {\n",
       "        text-align: right;\n",
       "    }\n",
       "</style>\n",
       "<table border=\"1\" class=\"dataframe\">\n",
       "  <thead>\n",
       "    <tr style=\"text-align: right;\">\n",
       "      <th></th>\n",
       "      <th>país Name</th>\n",
       "      <th>país Code</th>\n",
       "      <th>tiempo</th>\n",
       "      <th>FP.CPI.TOTL</th>\n",
       "      <th>NY.GDP.MKTP.KD</th>\n",
       "      <th>NE.TRD.GNFS.ZS</th>\n",
       "      <th>NE.EXP.GNFS.ZS</th>\n",
       "      <th>NE.IMP.GNFS.ZS</th>\n",
       "      <th>NE.CON.GOVT.ZS</th>\n",
       "      <th>NE.GDI.FTOT.ZS</th>\n",
       "      <th>NV.IND.TOTL.ZS</th>\n",
       "      <th>NV.IND.MANF.ZS</th>\n",
       "      <th>SL.UEM.TOTL.NE.ZS</th>\n",
       "      <th>NV.AGR.TOTL.ZS</th>\n",
       "    </tr>\n",
       "  </thead>\n",
       "  <tbody>\n",
       "    <tr>\n",
       "      <th>0</th>\n",
       "      <td>Alemania</td>\n",
       "      <td>DEU</td>\n",
       "      <td>1960</td>\n",
       "      <td>24.646074</td>\n",
       "      <td>NaN</td>\n",
       "      <td>NaN</td>\n",
       "      <td>NaN</td>\n",
       "      <td>NaN</td>\n",
       "      <td>NaN</td>\n",
       "      <td>NaN</td>\n",
       "      <td>NaN</td>\n",
       "      <td>NaN</td>\n",
       "      <td>NaN</td>\n",
       "      <td>NaN</td>\n",
       "    </tr>\n",
       "    <tr>\n",
       "      <th>1</th>\n",
       "      <td>Alemania</td>\n",
       "      <td>DEU</td>\n",
       "      <td>1961</td>\n",
       "      <td>25.211375</td>\n",
       "      <td>NaN</td>\n",
       "      <td>NaN</td>\n",
       "      <td>NaN</td>\n",
       "      <td>NaN</td>\n",
       "      <td>NaN</td>\n",
       "      <td>NaN</td>\n",
       "      <td>NaN</td>\n",
       "      <td>NaN</td>\n",
       "      <td>NaN</td>\n",
       "      <td>NaN</td>\n",
       "    </tr>\n",
       "    <tr>\n",
       "      <th>2</th>\n",
       "      <td>Alemania</td>\n",
       "      <td>DEU</td>\n",
       "      <td>1962</td>\n",
       "      <td>25.928205</td>\n",
       "      <td>NaN</td>\n",
       "      <td>NaN</td>\n",
       "      <td>NaN</td>\n",
       "      <td>NaN</td>\n",
       "      <td>NaN</td>\n",
       "      <td>NaN</td>\n",
       "      <td>NaN</td>\n",
       "      <td>NaN</td>\n",
       "      <td>NaN</td>\n",
       "      <td>NaN</td>\n",
       "    </tr>\n",
       "    <tr>\n",
       "      <th>3</th>\n",
       "      <td>Alemania</td>\n",
       "      <td>DEU</td>\n",
       "      <td>1963</td>\n",
       "      <td>26.697485</td>\n",
       "      <td>NaN</td>\n",
       "      <td>NaN</td>\n",
       "      <td>NaN</td>\n",
       "      <td>NaN</td>\n",
       "      <td>NaN</td>\n",
       "      <td>NaN</td>\n",
       "      <td>NaN</td>\n",
       "      <td>NaN</td>\n",
       "      <td>NaN</td>\n",
       "      <td>NaN</td>\n",
       "    </tr>\n",
       "    <tr>\n",
       "      <th>4</th>\n",
       "      <td>Alemania</td>\n",
       "      <td>DEU</td>\n",
       "      <td>1964</td>\n",
       "      <td>27.321066</td>\n",
       "      <td>NaN</td>\n",
       "      <td>NaN</td>\n",
       "      <td>NaN</td>\n",
       "      <td>NaN</td>\n",
       "      <td>NaN</td>\n",
       "      <td>NaN</td>\n",
       "      <td>NaN</td>\n",
       "      <td>NaN</td>\n",
       "      <td>NaN</td>\n",
       "      <td>NaN</td>\n",
       "    </tr>\n",
       "  </tbody>\n",
       "</table>\n",
       "</div>"
      ],
      "text/plain": [
       "  país Name país Code  tiempo  FP.CPI.TOTL  NY.GDP.MKTP.KD  NE.TRD.GNFS.ZS  \\\n",
       "0  Alemania       DEU    1960    24.646074             NaN             NaN   \n",
       "1  Alemania       DEU    1961    25.211375             NaN             NaN   \n",
       "2  Alemania       DEU    1962    25.928205             NaN             NaN   \n",
       "3  Alemania       DEU    1963    26.697485             NaN             NaN   \n",
       "4  Alemania       DEU    1964    27.321066             NaN             NaN   \n",
       "\n",
       "   NE.EXP.GNFS.ZS  NE.IMP.GNFS.ZS  NE.CON.GOVT.ZS  NE.GDI.FTOT.ZS  \\\n",
       "0             NaN             NaN             NaN             NaN   \n",
       "1             NaN             NaN             NaN             NaN   \n",
       "2             NaN             NaN             NaN             NaN   \n",
       "3             NaN             NaN             NaN             NaN   \n",
       "4             NaN             NaN             NaN             NaN   \n",
       "\n",
       "   NV.IND.TOTL.ZS  NV.IND.MANF.ZS  SL.UEM.TOTL.NE.ZS  NV.AGR.TOTL.ZS  \n",
       "0             NaN             NaN                NaN             NaN  \n",
       "1             NaN             NaN                NaN             NaN  \n",
       "2             NaN             NaN                NaN             NaN  \n",
       "3             NaN             NaN                NaN             NaN  \n",
       "4             NaN             NaN                NaN             NaN  "
      ]
     },
     "execution_count": 3,
     "metadata": {},
     "output_type": "execute_result"
    }
   ],
   "source": [
    "df_wb = pd.read_csv('../data/WBdataset.csv')\n",
    "df_wb.head()"
   ]
  },
  {
   "cell_type": "markdown",
   "metadata": {},
   "source": [
    "Precio de Commodities"
   ]
  },
  {
   "cell_type": "code",
   "execution_count": 4,
   "metadata": {},
   "outputs": [
    {
     "data": {
      "text/html": [
       "<div>\n",
       "<style scoped>\n",
       "    .dataframe tbody tr th:only-of-type {\n",
       "        vertical-align: middle;\n",
       "    }\n",
       "\n",
       "    .dataframe tbody tr th {\n",
       "        vertical-align: top;\n",
       "    }\n",
       "\n",
       "    .dataframe thead th {\n",
       "        text-align: right;\n",
       "    }\n",
       "</style>\n",
       "<table border=\"1\" class=\"dataframe\">\n",
       "  <thead>\n",
       "    <tr style=\"text-align: right;\">\n",
       "      <th></th>\n",
       "      <th>year</th>\n",
       "      <th>oil</th>\n",
       "      <th>gold</th>\n",
       "      <th>copper</th>\n",
       "      <th>sp500</th>\n",
       "    </tr>\n",
       "  </thead>\n",
       "  <tbody>\n",
       "    <tr>\n",
       "      <th>0</th>\n",
       "      <td>1960</td>\n",
       "      <td>8.514978</td>\n",
       "      <td>184.247397</td>\n",
       "      <td>3545.761145</td>\n",
       "      <td>578.91</td>\n",
       "    </tr>\n",
       "    <tr>\n",
       "      <th>1</th>\n",
       "      <td>1961</td>\n",
       "      <td>8.045025</td>\n",
       "      <td>180.628741</td>\n",
       "      <td>3244.062298</td>\n",
       "      <td>585.77</td>\n",
       "    </tr>\n",
       "    <tr>\n",
       "      <th>2</th>\n",
       "      <td>1962</td>\n",
       "      <td>7.646138</td>\n",
       "      <td>177.219364</td>\n",
       "      <td>3245.299218</td>\n",
       "      <td>672.96</td>\n",
       "    </tr>\n",
       "    <tr>\n",
       "      <th>3</th>\n",
       "      <td>1963</td>\n",
       "      <td>7.686329</td>\n",
       "      <td>179.808866</td>\n",
       "      <td>3309.993923</td>\n",
       "      <td>625.55</td>\n",
       "    </tr>\n",
       "    <tr>\n",
       "      <th>4</th>\n",
       "      <td>1964</td>\n",
       "      <td>7.327570</td>\n",
       "      <td>177.377723</td>\n",
       "      <td>4900.644952</td>\n",
       "      <td>723.17</td>\n",
       "    </tr>\n",
       "  </tbody>\n",
       "</table>\n",
       "</div>"
      ],
      "text/plain": [
       "   year       oil        gold       copper   sp500\n",
       "0  1960  8.514978  184.247397  3545.761145  578.91\n",
       "1  1961  8.045025  180.628741  3244.062298  585.77\n",
       "2  1962  7.646138  177.219364  3245.299218  672.96\n",
       "3  1963  7.686329  179.808866  3309.993923  625.55\n",
       "4  1964  7.327570  177.377723  4900.644952  723.17"
      ]
     },
     "execution_count": 4,
     "metadata": {},
     "output_type": "execute_result"
    }
   ],
   "source": [
    "df_com = pd.read_csv('../data/com_sp.csv',sep=';')\n",
    "df_com.head()"
   ]
  },
  {
   "cell_type": "markdown",
   "metadata": {},
   "source": [
    "# Descripción"
   ]
  },
  {
   "cell_type": "markdown",
   "metadata": {},
   "source": [
    "Características de dataset de macroeconomia"
   ]
  },
  {
   "cell_type": "code",
   "execution_count": 5,
   "metadata": {},
   "outputs": [
    {
     "name": "stdout",
     "output_type": "stream",
     "text": [
      "<class 'pandas.core.frame.DataFrame'>\n",
      "RangeIndex: 3720 entries, 0 to 3719\n",
      "Data columns (total 14 columns):\n",
      " #   Column             Non-Null Count  Dtype  \n",
      "---  ------             --------------  -----  \n",
      " 0   país Name          3720 non-null   object \n",
      " 1   país Code          3720 non-null   object \n",
      " 2   tiempo             3720 non-null   int64  \n",
      " 3   FP.CPI.TOTL        3422 non-null   float64\n",
      " 4   NY.GDP.MKTP.KD     3270 non-null   float64\n",
      " 5   NE.TRD.GNFS.ZS     3167 non-null   float64\n",
      " 6   NE.EXP.GNFS.ZS     3167 non-null   float64\n",
      " 7   NE.IMP.GNFS.ZS     3167 non-null   float64\n",
      " 8   NE.CON.GOVT.ZS     3150 non-null   float64\n",
      " 9   NE.GDI.FTOT.ZS     3093 non-null   float64\n",
      " 10  NV.IND.TOTL.ZS     2648 non-null   float64\n",
      " 11  NV.IND.MANF.ZS     2566 non-null   float64\n",
      " 12  SL.UEM.TOTL.NE.ZS  2333 non-null   float64\n",
      " 13  NV.AGR.TOTL.ZS     2648 non-null   float64\n",
      "dtypes: float64(11), int64(1), object(2)\n",
      "memory usage: 407.0+ KB\n"
     ]
    }
   ],
   "source": [
    "df_wb.info()"
   ]
  },
  {
   "cell_type": "markdown",
   "metadata": {},
   "source": [
    "Reemplazo de nombres en el DataFrame de Macroeconomia para mejor interpretación"
   ]
  },
  {
   "cell_type": "code",
   "execution_count": 6,
   "metadata": {},
   "outputs": [],
   "source": [
    "names = {\n",
    "    'país Name'             : 'country',\n",
    "    'país Code'             : 'iso',\n",
    "    'tiempo'                : 'year',\n",
    "    'FP.CPI.TOTL'           : 'cpi',\n",
    "    'NY.GDP.MKTP.KD'        : 'rgdp',\n",
    "    'NE.TRD.GNFS.ZS'        : 'trade',\n",
    "    'NE.EXP.GNFS.ZS'        : 'exports',\n",
    "    'NE.IMP.GNFS.ZS'        : 'imports',\n",
    "    'NE.CON.GOVT.ZS'        : 'ggfce',\n",
    "    'NE.GDI.FTOT.ZS'        : 'gfcf',\n",
    "    'NV.IND.TOTL.ZS'        : 'industry',\n",
    "    'NV.IND.MANF.ZS'        : 'manufact',\n",
    "    'SL.UEM.TOTL.NE.ZS'     : 'unempl',\n",
    "    'NV.AGR.TOTL.ZS'        : 'agriculture'\n",
    "}\n",
    "df_wb = df_wb.rename(columns=names)"
   ]
  },
  {
   "cell_type": "code",
   "execution_count": 7,
   "metadata": {},
   "outputs": [
    {
     "name": "stdout",
     "output_type": "stream",
     "text": [
      "<class 'pandas.core.frame.DataFrame'>\n",
      "RangeIndex: 3720 entries, 0 to 3719\n",
      "Data columns (total 14 columns):\n",
      " #   Column       Non-Null Count  Dtype  \n",
      "---  ------       --------------  -----  \n",
      " 0   country      3720 non-null   object \n",
      " 1   iso          3720 non-null   object \n",
      " 2   year         3720 non-null   int64  \n",
      " 3   cpi          3422 non-null   float64\n",
      " 4   rgdp         3270 non-null   float64\n",
      " 5   trade        3167 non-null   float64\n",
      " 6   exports      3167 non-null   float64\n",
      " 7   imports      3167 non-null   float64\n",
      " 8   ggfce        3150 non-null   float64\n",
      " 9   gfcf         3093 non-null   float64\n",
      " 10  industry     2648 non-null   float64\n",
      " 11  manufact     2566 non-null   float64\n",
      " 12  unempl       2333 non-null   float64\n",
      " 13  agriculture  2648 non-null   float64\n",
      "dtypes: float64(11), int64(1), object(2)\n",
      "memory usage: 407.0+ KB\n"
     ]
    }
   ],
   "source": [
    "df_wb.info()"
   ]
  },
  {
   "cell_type": "markdown",
   "metadata": {},
   "source": [
    "Características de dataset de commodities y sp500"
   ]
  },
  {
   "cell_type": "code",
   "execution_count": 8,
   "metadata": {},
   "outputs": [
    {
     "name": "stdout",
     "output_type": "stream",
     "text": [
      "<class 'pandas.core.frame.DataFrame'>\n",
      "RangeIndex: 62 entries, 0 to 61\n",
      "Data columns (total 5 columns):\n",
      " #   Column  Non-Null Count  Dtype  \n",
      "---  ------  --------------  -----  \n",
      " 0   year    62 non-null     int64  \n",
      " 1   oil     62 non-null     float64\n",
      " 2   gold    62 non-null     float64\n",
      " 3   copper  62 non-null     float64\n",
      " 4   sp500   62 non-null     float64\n",
      "dtypes: float64(4), int64(1)\n",
      "memory usage: 2.5 KB\n"
     ]
    }
   ],
   "source": [
    "df_com.info()"
   ]
  },
  {
   "cell_type": "markdown",
   "metadata": {},
   "source": [
    "Listado de países:"
   ]
  },
  {
   "cell_type": "code",
   "execution_count": 9,
   "metadata": {},
   "outputs": [
    {
     "name": "stdout",
     "output_type": "stream",
     "text": [
      "['DEU' 'AUS' 'AUT' 'BGD' 'BEL' 'BOL' 'BRA' 'CAN' 'CHL' 'CHN' 'COL' 'CRI'\n",
      " 'HRV' 'DNK' 'ECU' 'SLV' 'ESP' 'USA' 'EST' 'RUS' 'FIN' 'FRA' 'GRC' 'GTM'\n",
      " 'HND' 'HUN' 'IND' 'IDN' 'IRL' 'ISL' 'ISR' 'ITA' 'JPN' 'JOR' 'KEN' 'LTU'\n",
      " 'LUX' 'MYS' 'MLT' 'MAR' 'MEX' 'NGA' 'NOR' 'NLD' 'PAK' 'PAN' 'PRY' 'PER'\n",
      " 'POL' 'PRT' 'GBR' 'EGY' 'KOR' 'ROU' 'SWE' 'CHE' 'TUR' 'URY' 'VNM' 'NZL']\n"
     ]
    }
   ],
   "source": [
    "paises = df_wb.iso.unique()\n",
    "print(paises)"
   ]
  },
  {
   "cell_type": "markdown",
   "metadata": {},
   "source": [
    "Unión de datasets por país y año"
   ]
  },
  {
   "cell_type": "markdown",
   "metadata": {},
   "source": [
    "# Preprocesamiento"
   ]
  },
  {
   "cell_type": "markdown",
   "metadata": {},
   "source": [
    "Completar datos interpolando"
   ]
  },
  {
   "cell_type": "code",
   "execution_count": 10,
   "metadata": {},
   "outputs": [],
   "source": [
    "def preprocesar(df : pd.DataFrame, df2 : pd.DataFrame):\n",
    "    paises = df.iso.unique()\n",
    "    df_r = pd.DataFrame()\n",
    "    for pais in paises:\n",
    "        df_n = df[df.iso==pais].copy()\n",
    "        #Fija year como indice\n",
    "        df_n = df_n.astype({'year': np.int16})\n",
    "        df_n = df_n.set_index('year')\n",
    "        #interpola datos faltantes en la serie\n",
    "        df_n = df_n.interpolate()\n",
    "        #calcula el ratio de crecimiento del PBI real\n",
    "        df_n['rgdp_growth'] = df_n['rgdp'].pct_change()\n",
    "        df_n = df_n.drop('rgdp',axis=1)\n",
    "        #calcula la inflacion a partir del cpi\n",
    "        df_n['infl_cpi'] = df_n['cpi'].pct_change()\n",
    "        df_n = df_n.drop('cpi',axis=1)\n",
    "        #escala logaritmica\n",
    "        #df_n['rgdp'] = np.log10(df_n['rgdp'])\n",
    "        #df_n['cpi'] = np.log10(df_n['cpi'])\n",
    "        #Une con el data frame 2\n",
    "        df_n = pd.merge(left=df_n, right=df2, left_on='year',right_on='year')\n",
    "        df_r = df_r.append(df_n)\n",
    "    #escala logaritmica\n",
    "    #df_r['oil'] = np.log10(df_r['oil'])\n",
    "    #df_r['gold'] = np.log10(df_r['gold'])\n",
    "    #df_r['copper'] = np.log10(df_r['copper'])\n",
    "    #df_r['sp500'] = np.log10(df_r['sp500'])\n",
    "    df_r = df_r.set_index('year')\n",
    "    #elimina filas con datos faltantes en los extremos\n",
    "    df_r = df_r.dropna()\n",
    "    return df_r"
   ]
  },
  {
   "cell_type": "code",
   "execution_count": 11,
   "metadata": {},
   "outputs": [],
   "source": [
    "df = preprocesar(df_wb,df_com)"
   ]
  },
  {
   "cell_type": "code",
   "execution_count": 12,
   "metadata": {},
   "outputs": [
    {
     "name": "stdout",
     "output_type": "stream",
     "text": [
      "<class 'pandas.core.frame.DataFrame'>\n",
      "Int64Index: 2145 entries, 1991 to 2021\n",
      "Data columns (total 17 columns):\n",
      " #   Column       Non-Null Count  Dtype  \n",
      "---  ------       --------------  -----  \n",
      " 0   country      2145 non-null   object \n",
      " 1   iso          2145 non-null   object \n",
      " 2   trade        2145 non-null   float64\n",
      " 3   exports      2145 non-null   float64\n",
      " 4   imports      2145 non-null   float64\n",
      " 5   ggfce        2145 non-null   float64\n",
      " 6   gfcf         2145 non-null   float64\n",
      " 7   industry     2145 non-null   float64\n",
      " 8   manufact     2145 non-null   float64\n",
      " 9   unempl       2145 non-null   float64\n",
      " 10  agriculture  2145 non-null   float64\n",
      " 11  rgdp_growth  2145 non-null   float64\n",
      " 12  infl_cpi     2145 non-null   float64\n",
      " 13  oil          2145 non-null   float64\n",
      " 14  gold         2145 non-null   float64\n",
      " 15  copper       2145 non-null   float64\n",
      " 16  sp500        2145 non-null   float64\n",
      "dtypes: float64(15), object(2)\n",
      "memory usage: 301.6+ KB\n"
     ]
    }
   ],
   "source": [
    "df.info()"
   ]
  },
  {
   "cell_type": "code",
   "execution_count": 13,
   "metadata": {},
   "outputs": [
    {
     "data": {
      "text/html": [
       "<div>\n",
       "<style scoped>\n",
       "    .dataframe tbody tr th:only-of-type {\n",
       "        vertical-align: middle;\n",
       "    }\n",
       "\n",
       "    .dataframe tbody tr th {\n",
       "        vertical-align: top;\n",
       "    }\n",
       "\n",
       "    .dataframe thead th {\n",
       "        text-align: right;\n",
       "    }\n",
       "</style>\n",
       "<table border=\"1\" class=\"dataframe\">\n",
       "  <thead>\n",
       "    <tr style=\"text-align: right;\">\n",
       "      <th></th>\n",
       "      <th>count</th>\n",
       "      <th>mean</th>\n",
       "      <th>std</th>\n",
       "      <th>min</th>\n",
       "      <th>25%</th>\n",
       "      <th>50%</th>\n",
       "      <th>75%</th>\n",
       "      <th>max</th>\n",
       "    </tr>\n",
       "  </thead>\n",
       "  <tbody>\n",
       "    <tr>\n",
       "      <th>trade</th>\n",
       "      <td>2145.0</td>\n",
       "      <td>74.896136</td>\n",
       "      <td>49.952632</td>\n",
       "      <td>9.135846</td>\n",
       "      <td>45.184870</td>\n",
       "      <td>60.934890</td>\n",
       "      <td>85.360496</td>\n",
       "      <td>388.847728</td>\n",
       "    </tr>\n",
       "    <tr>\n",
       "      <th>exports</th>\n",
       "      <td>2145.0</td>\n",
       "      <td>37.027529</td>\n",
       "      <td>26.590419</td>\n",
       "      <td>4.990050</td>\n",
       "      <td>21.330559</td>\n",
       "      <td>29.666684</td>\n",
       "      <td>43.315161</td>\n",
       "      <td>212.117152</td>\n",
       "    </tr>\n",
       "    <tr>\n",
       "      <th>imports</th>\n",
       "      <td>2145.0</td>\n",
       "      <td>37.868607</td>\n",
       "      <td>23.979848</td>\n",
       "      <td>3.886755</td>\n",
       "      <td>22.775000</td>\n",
       "      <td>30.935832</td>\n",
       "      <td>43.624618</td>\n",
       "      <td>176.730577</td>\n",
       "    </tr>\n",
       "    <tr>\n",
       "      <th>ggfce</th>\n",
       "      <td>2145.0</td>\n",
       "      <td>16.063157</td>\n",
       "      <td>5.310353</td>\n",
       "      <td>0.911235</td>\n",
       "      <td>11.807586</td>\n",
       "      <td>16.552876</td>\n",
       "      <td>19.779207</td>\n",
       "      <td>27.993926</td>\n",
       "    </tr>\n",
       "    <tr>\n",
       "      <th>gfcf</th>\n",
       "      <td>2145.0</td>\n",
       "      <td>22.360908</td>\n",
       "      <td>5.631194</td>\n",
       "      <td>5.811191</td>\n",
       "      <td>18.949956</td>\n",
       "      <td>21.815303</td>\n",
       "      <td>25.015774</td>\n",
       "      <td>54.948270</td>\n",
       "    </tr>\n",
       "    <tr>\n",
       "      <th>industry</th>\n",
       "      <td>2145.0</td>\n",
       "      <td>27.161713</td>\n",
       "      <td>6.606345</td>\n",
       "      <td>10.426719</td>\n",
       "      <td>22.656442</td>\n",
       "      <td>26.378479</td>\n",
       "      <td>30.449196</td>\n",
       "      <td>61.843617</td>\n",
       "    </tr>\n",
       "    <tr>\n",
       "      <th>manufact</th>\n",
       "      <td>2145.0</td>\n",
       "      <td>16.170997</td>\n",
       "      <td>4.947386</td>\n",
       "      <td>4.554389</td>\n",
       "      <td>12.842633</td>\n",
       "      <td>15.954730</td>\n",
       "      <td>19.061241</td>\n",
       "      <td>37.207946</td>\n",
       "    </tr>\n",
       "    <tr>\n",
       "      <th>unempl</th>\n",
       "      <td>2145.0</td>\n",
       "      <td>7.055245</td>\n",
       "      <td>3.924116</td>\n",
       "      <td>0.400000</td>\n",
       "      <td>4.110000</td>\n",
       "      <td>6.190000</td>\n",
       "      <td>9.090000</td>\n",
       "      <td>27.469999</td>\n",
       "    </tr>\n",
       "    <tr>\n",
       "      <th>agriculture</th>\n",
       "      <td>2145.0</td>\n",
       "      <td>8.263357</td>\n",
       "      <td>7.729688</td>\n",
       "      <td>0.187098</td>\n",
       "      <td>2.367353</td>\n",
       "      <td>5.019559</td>\n",
       "      <td>12.480077</td>\n",
       "      <td>39.388041</td>\n",
       "    </tr>\n",
       "    <tr>\n",
       "      <th>rgdp_growth</th>\n",
       "      <td>2145.0</td>\n",
       "      <td>0.032888</td>\n",
       "      <td>0.036913</td>\n",
       "      <td>-0.179449</td>\n",
       "      <td>0.016194</td>\n",
       "      <td>0.034610</td>\n",
       "      <td>0.051919</td>\n",
       "      <td>0.251762</td>\n",
       "    </tr>\n",
       "    <tr>\n",
       "      <th>infl_cpi</th>\n",
       "      <td>2145.0</td>\n",
       "      <td>0.256078</td>\n",
       "      <td>3.260163</td>\n",
       "      <td>-0.044781</td>\n",
       "      <td>0.018330</td>\n",
       "      <td>0.036833</td>\n",
       "      <td>0.085751</td>\n",
       "      <td>117.496396</td>\n",
       "    </tr>\n",
       "    <tr>\n",
       "      <th>oil</th>\n",
       "      <td>2145.0</td>\n",
       "      <td>48.770330</td>\n",
       "      <td>25.392491</td>\n",
       "      <td>5.212236</td>\n",
       "      <td>23.648309</td>\n",
       "      <td>45.528322</td>\n",
       "      <td>67.152391</td>\n",
       "      <td>95.311523</td>\n",
       "    </tr>\n",
       "    <tr>\n",
       "      <th>gold</th>\n",
       "      <td>2145.0</td>\n",
       "      <td>800.116509</td>\n",
       "      <td>451.951668</td>\n",
       "      <td>154.823500</td>\n",
       "      <td>417.932999</td>\n",
       "      <td>593.170116</td>\n",
       "      <td>1224.664250</td>\n",
       "      <td>1789.414970</td>\n",
       "    </tr>\n",
       "    <tr>\n",
       "      <th>copper</th>\n",
       "      <td>2145.0</td>\n",
       "      <td>4507.964387</td>\n",
       "      <td>2167.138692</td>\n",
       "      <td>1951.648771</td>\n",
       "      <td>2545.072356</td>\n",
       "      <td>3576.915524</td>\n",
       "      <td>6342.227603</td>\n",
       "      <td>9264.169006</td>\n",
       "    </tr>\n",
       "    <tr>\n",
       "      <th>sp500</th>\n",
       "      <td>2145.0</td>\n",
       "      <td>1722.748014</td>\n",
       "      <td>929.841604</td>\n",
       "      <td>363.590000</td>\n",
       "      <td>892.120000</td>\n",
       "      <td>1742.490000</td>\n",
       "      <td>2229.580000</td>\n",
       "      <td>4239.200000</td>\n",
       "    </tr>\n",
       "  </tbody>\n",
       "</table>\n",
       "</div>"
      ],
      "text/plain": [
       "              count         mean          std          min          25%  \\\n",
       "trade        2145.0    74.896136    49.952632     9.135846    45.184870   \n",
       "exports      2145.0    37.027529    26.590419     4.990050    21.330559   \n",
       "imports      2145.0    37.868607    23.979848     3.886755    22.775000   \n",
       "ggfce        2145.0    16.063157     5.310353     0.911235    11.807586   \n",
       "gfcf         2145.0    22.360908     5.631194     5.811191    18.949956   \n",
       "industry     2145.0    27.161713     6.606345    10.426719    22.656442   \n",
       "manufact     2145.0    16.170997     4.947386     4.554389    12.842633   \n",
       "unempl       2145.0     7.055245     3.924116     0.400000     4.110000   \n",
       "agriculture  2145.0     8.263357     7.729688     0.187098     2.367353   \n",
       "rgdp_growth  2145.0     0.032888     0.036913    -0.179449     0.016194   \n",
       "infl_cpi     2145.0     0.256078     3.260163    -0.044781     0.018330   \n",
       "oil          2145.0    48.770330    25.392491     5.212236    23.648309   \n",
       "gold         2145.0   800.116509   451.951668   154.823500   417.932999   \n",
       "copper       2145.0  4507.964387  2167.138692  1951.648771  2545.072356   \n",
       "sp500        2145.0  1722.748014   929.841604   363.590000   892.120000   \n",
       "\n",
       "                     50%          75%          max  \n",
       "trade          60.934890    85.360496   388.847728  \n",
       "exports        29.666684    43.315161   212.117152  \n",
       "imports        30.935832    43.624618   176.730577  \n",
       "ggfce          16.552876    19.779207    27.993926  \n",
       "gfcf           21.815303    25.015774    54.948270  \n",
       "industry       26.378479    30.449196    61.843617  \n",
       "manufact       15.954730    19.061241    37.207946  \n",
       "unempl          6.190000     9.090000    27.469999  \n",
       "agriculture     5.019559    12.480077    39.388041  \n",
       "rgdp_growth     0.034610     0.051919     0.251762  \n",
       "infl_cpi        0.036833     0.085751   117.496396  \n",
       "oil            45.528322    67.152391    95.311523  \n",
       "gold          593.170116  1224.664250  1789.414970  \n",
       "copper       3576.915524  6342.227603  9264.169006  \n",
       "sp500        1742.490000  2229.580000  4239.200000  "
      ]
     },
     "execution_count": 13,
     "metadata": {},
     "output_type": "execute_result"
    }
   ],
   "source": [
    "df.describe().T"
   ]
  },
  {
   "cell_type": "markdown",
   "metadata": {},
   "source": [
    "# Guardar"
   ]
  },
  {
   "cell_type": "code",
   "execution_count": 14,
   "metadata": {},
   "outputs": [],
   "source": [
    "df.to_csv('../data/wb_dataset_prep.csv')"
   ]
  },
  {
   "cell_type": "code",
   "execution_count": 15,
   "metadata": {},
   "outputs": [
    {
     "name": "stdout",
     "output_type": "stream",
     "text": [
      "['DEU' 'AUS' 'AUT' 'BGD' 'BEL' 'BOL' 'BRA' 'CAN' 'CHL' 'CHN' 'COL' 'CRI'\n",
      " 'HRV' 'DNK' 'ECU' 'SLV' 'ESP' 'USA' 'EST' 'RUS' 'FIN' 'FRA' 'GRC' 'GTM'\n",
      " 'HND' 'HUN' 'IND' 'IDN' 'IRL' 'ISL' 'ISR' 'ITA' 'JPN' 'JOR' 'KEN' 'LTU'\n",
      " 'LUX' 'MYS' 'MLT' 'MAR' 'MEX' 'NGA' 'NOR' 'NLD' 'PAK' 'PAN' 'PRY' 'PER'\n",
      " 'POL' 'PRT' 'GBR' 'EGY' 'KOR' 'ROU' 'SWE' 'CHE' 'TUR' 'URY' 'VNM' 'NZL']\n"
     ]
    }
   ],
   "source": [
    "print(df_wb['iso'].unique())"
   ]
  },
  {
   "cell_type": "code",
   "execution_count": 16,
   "metadata": {},
   "outputs": [],
   "source": [
    "df_wb = df_wb.set_index('year')"
   ]
  },
  {
   "cell_type": "code",
   "execution_count": 17,
   "metadata": {},
   "outputs": [
    {
     "data": {
      "image/png": "[encoded data removed]",
      "text/plain": [
       "<Figure size 576x288 with 1 Axes>"
      ]
     },
     "metadata": {
      "needs_background": "light"
     },
     "output_type": "display_data"
    }
   ],
   "source": [
    "graficar(df[df.iso=='PER']['agriculture'],'Agricultura (% PBI)')"
   ]
  },
  {
   "cell_type": "code",
   "execution_count": 18,
   "metadata": {},
   "outputs": [
    {
     "data": {
      "image/png": "[encoded data removed]",
      "text/plain": [
       "<Figure size 720x288 with 2 Axes>"
      ]
     },
     "metadata": {
      "needs_background": "light"
     },
     "output_type": "display_data"
    }
   ],
   "source": [
    "graficar2(df_wb[df_wb.iso=='PER']['agriculture'],'Agricultura (% PBI)',df[df.iso=='PER']['agriculture'],'Agricultura (% PBI)')"
   ]
  },
  {
   "cell_type": "code",
   "execution_count": 19,
   "metadata": {},
   "outputs": [
    {
     "data": {
      "image/png": "[encoded data removed]",
      "text/plain": [
       "<Figure size 720x288 with 2 Axes>"
      ]
     },
     "metadata": {
      "needs_background": "light"
     },
     "output_type": "display_data"
    }
   ],
   "source": [
    "graficar2(df_wb[df_wb.iso=='PER']['unempl'],'Tasa de Desempleo (% PEA)',df[df.iso=='PER']['unempl'],'Tasa de Desempleo (% PEA)')"
   ]
  },
  {
   "cell_type": "code",
   "execution_count": 20,
   "metadata": {},
   "outputs": [
    {
     "data": {
      "text/plain": [
       "Text(0.5, 1.0, 'industry')"
      ]
     },
     "execution_count": 20,
     "metadata": {},
     "output_type": "execute_result"
    },
    {
     "data": {
      "image/png": "[encoded data removed]",
      "text/plain": [
       "<Figure size 720x576 with 6 Axes>"
      ]
     },
     "metadata": {
      "needs_background": "light"
     },
     "output_type": "display_data"
    }
   ],
   "source": [
    "fig, ax = plt.subplots(2,3,figsize=(10,8))\n",
    "df['trade'].hist(bins=20,ax=ax[0][0])\n",
    "ax[0][0].set_title('trade')\n",
    "df['exports'].hist(bins=20,ax=ax[0][1])\n",
    "ax[0][1].set_title('exports')\n",
    "df['imports'].hist(bins=20,ax=ax[0][2])\n",
    "ax[0][2].set_title('imports')\n",
    "df['ggfce'].hist(bins=20,ax=ax[1][0])\n",
    "ax[1][0].set_title('ggfce')\n",
    "df['gfcf'].hist(bins=20,ax=ax[1][1])\n",
    "ax[1][1].set_title('gfcf')\n",
    "df['industry'].hist(bins=20,ax=ax[1][2])\n",
    "ax[1][2].set_title('industry')"
   ]
  },
  {
   "cell_type": "code",
   "execution_count": 21,
   "metadata": {},
   "outputs": [
    {
     "data": {
      "text/plain": [
       "Text(0.5, 1.0, 'sp500')"
      ]
     },
     "execution_count": 21,
     "metadata": {},
     "output_type": "execute_result"
    },
    {
     "data": {
      "image/png": "[encoded data removed]",
      "text/plain": [
       "<Figure size 720x864 with 9 Axes>"
      ]
     },
     "metadata": {
      "needs_background": "light"
     },
     "output_type": "display_data"
    }
   ],
   "source": [
    "fig, ax = plt.subplots(3,3,figsize=(10,12))\n",
    "df['manufact'].hist(bins=20,ax=ax[0][0])\n",
    "ax[0][0].set_title('manufact')\n",
    "df['unempl'].hist(bins=20,ax=ax[0][1])\n",
    "ax[0][1].set_title('unempl')\n",
    "df['agriculture'].hist(bins=20,ax=ax[0][2])\n",
    "ax[0][2].set_title('agriculture')\n",
    "df['rgdp_growth'].hist(bins=20,ax=ax[1][0])\n",
    "ax[1][0].set_title('rgdp_growth')\n",
    "df['infl_cpi'].hist(bins=20,ax=ax[1][1])\n",
    "ax[1][1].set_title('infl_cpi')\n",
    "df['oil'].hist(bins=20,ax=ax[1][2])\n",
    "ax[1][2].set_title('oil')\n",
    "df['gold'].hist(bins=20,ax=ax[2][0])\n",
    "ax[2][0].set_title('gold')\n",
    "df['copper'].hist(bins=20,ax=ax[2][1])\n",
    "ax[2][1].set_title('copper')\n",
    "df['sp500'].hist(bins=20,ax=ax[2][2])\n",
    "ax[2][2].set_title('sp500')"
   ]
  }
 ],
 "metadata": {
  "kernelspec": {
   "display_name": "Python 3.8.12 ('base')",
   "language": "python",
   "name": "python3"
  },
  "language_info": {
   "codemirror_mode": {
    "name": "ipython",
    "version": 3
   },
   "file_extension": ".py",
   "mimetype": "text/x-python",
   "name": "python",
   "nbconvert_exporter": "python",
   "pygments_lexer": "ipython3",
   "version": "3.8.12"
  },
  "orig_nbformat": 4,
  "vscode": {
   "interpreter": {
    "hash": "e6822839c80bb80c42f7f9e096efdd447a89633a8e8a553b5cfb2012f3a4eafe"
   }
  }
 },
 "nbformat": 4,
 "nbformat_minor": 2
}
