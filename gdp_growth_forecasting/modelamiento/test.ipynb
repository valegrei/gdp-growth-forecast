{
 "cells": [
  {
   "cell_type": "code",
   "execution_count": 1,
   "metadata": {},
   "outputs": [],
   "source": [
    "#%xmode Verbose"
   ]
  },
  {
   "cell_type": "code",
   "execution_count": 2,
   "metadata": {},
   "outputs": [],
   "source": [
    "import sys\n",
    "sys.path.append(\"../libs/\")\n",
    "sys.path.append(\"../../../deep-belief-network/\")"
   ]
  },
  {
   "cell_type": "code",
   "execution_count": 3,
   "metadata": {},
   "outputs": [],
   "source": [
    "from dbn.models import SupervisedDBNRegression"
   ]
  },
  {
   "cell_type": "code",
   "execution_count": 4,
   "metadata": {},
   "outputs": [],
   "source": [
    "import pandas as pd\n",
    "import numpy as np\n",
    "from sklearn.preprocessing import StandardScaler, MinMaxScaler\n",
    "from utils import shift_join_data, mae,rmse,mape, plot_pred, plot_history, split_df, flatten\n",
    "from keras.models import load_model"
   ]
  },
  {
   "cell_type": "markdown",
   "metadata": {},
   "source": [
    "# Carga de datos"
   ]
  },
  {
   "cell_type": "code",
   "execution_count": 5,
   "metadata": {},
   "outputs": [],
   "source": [
    "df = pd.read_csv('../data/wb_dataset_prep.csv')\n",
    "df = df.drop('country',axis=1)\n",
    "iso = df['iso'].unique()    #Codigos de paises\n",
    "df = df.set_index(['iso','year'])"
   ]
  },
  {
   "cell_type": "code",
   "execution_count": 6,
   "metadata": {},
   "outputs": [],
   "source": [
    "#df_train, df_test = split_df(df, 0.3)\n",
    "#df_val = df_test.copy()"
   ]
  },
  {
   "cell_type": "code",
   "execution_count": 7,
   "metadata": {},
   "outputs": [
    {
     "name": "stdout",
     "output_type": "stream",
     "text": [
      "['DEU' 'AUS' 'AUT' 'BGD' 'BEL' 'BOL' 'BRA' 'CAN' 'CHL' 'CHN' 'COL' 'CRI'\n",
      " 'HRV' 'DNK' 'ECU' 'SLV' 'ESP' 'USA' 'EST' 'RUS' 'FIN' 'FRA' 'GRC' 'GTM'\n",
      " 'HND' 'HUN' 'IND' 'IDN' 'IRL' 'ISL' 'ISR' 'ITA' 'JPN' 'JOR' 'KEN' 'LTU'\n",
      " 'LUX' 'MYS' 'MLT' 'MAR' 'MEX' 'NGA' 'NOR' 'NLD' 'PAK' 'PAN' 'PRY' 'PER'\n",
      " 'POL' 'PRT' 'GBR' 'EGY' 'KOR' 'ROU' 'SWE' 'CHE' 'TUR' 'URY' 'NZL']\n"
     ]
    }
   ],
   "source": [
    "print(iso)"
   ]
  },
  {
   "cell_type": "code",
   "execution_count": 8,
   "metadata": {},
   "outputs": [
    {
     "name": "stdout",
     "output_type": "stream",
     "text": [
      "<class 'pandas.core.frame.DataFrame'>\n",
      "MultiIndex: 2444 entries, ('DEU', 1983) to ('NZL', 2021)\n",
      "Data columns (total 12 columns):\n",
      " #   Column       Non-Null Count  Dtype  \n",
      "---  ------       --------------  -----  \n",
      " 0   trade        2444 non-null   float64\n",
      " 1   exports      2444 non-null   float64\n",
      " 2   imports      2444 non-null   float64\n",
      " 3   ggfce        2444 non-null   float64\n",
      " 4   gfcf         2444 non-null   float64\n",
      " 5   unempl       2444 non-null   float64\n",
      " 6   rgdp_growth  2444 non-null   float64\n",
      " 7   infl_cpi     2444 non-null   float64\n",
      " 8   oil          2444 non-null   float64\n",
      " 9   gold         2444 non-null   float64\n",
      " 10  copper       2444 non-null   float64\n",
      " 11  sp500        2444 non-null   float64\n",
      "dtypes: float64(12)\n",
      "memory usage: 239.0+ KB\n"
     ]
    }
   ],
   "source": [
    "df.info()"
   ]
  },
  {
   "cell_type": "markdown",
   "metadata": {},
   "source": [
    "# Dividir Datos"
   ]
  },
  {
   "cell_type": "code",
   "execution_count": 9,
   "metadata": {},
   "outputs": [],
   "source": [
    "iso_test = ['PER']\n",
    "iso_train = iso[(iso != iso_test[0])]\n",
    "target_col = ['rgdp_growth']\n",
    "features = df.columns[(df.columns!=target_col[0])]"
   ]
  },
  {
   "cell_type": "code",
   "execution_count": 10,
   "metadata": {},
   "outputs": [
    {
     "name": "stdout",
     "output_type": "stream",
     "text": [
      "['DEU' 'AUS' 'AUT' 'BGD' 'BEL' 'BOL' 'BRA' 'CAN' 'CHL' 'CHN' 'COL' 'CRI'\n",
      " 'HRV' 'DNK' 'ECU' 'SLV' 'ESP' 'USA' 'EST' 'RUS' 'FIN' 'FRA' 'GRC' 'GTM'\n",
      " 'HND' 'HUN' 'IND' 'IDN' 'IRL' 'ISL' 'ISR' 'ITA' 'JPN' 'JOR' 'KEN' 'LTU'\n",
      " 'LUX' 'MYS' 'MLT' 'MAR' 'MEX' 'NGA' 'NOR' 'NLD' 'PAK' 'PAN' 'PRY' 'POL'\n",
      " 'PRT' 'GBR' 'EGY' 'KOR' 'ROU' 'SWE' 'CHE' 'TUR' 'URY' 'NZL']\n"
     ]
    }
   ],
   "source": [
    "print(iso_train)"
   ]
  },
  {
   "cell_type": "code",
   "execution_count": 11,
   "metadata": {},
   "outputs": [
    {
     "name": "stdout",
     "output_type": "stream",
     "text": [
      "Index(['trade', 'exports', 'imports', 'ggfce', 'gfcf', 'unempl', 'infl_cpi',\n",
      "       'oil', 'gold', 'copper', 'sp500'],\n",
      "      dtype='object')\n"
     ]
    }
   ],
   "source": [
    "print(features)"
   ]
  },
  {
   "cell_type": "code",
   "execution_count": 12,
   "metadata": {},
   "outputs": [
    {
     "name": "stderr",
     "output_type": "stream",
     "text": [
      "g:\\tesis\\2022-1\\codigo\\gdp_growth_forecasting\\modelamiento\\../libs\\utils.py:32: FutureWarning: The frame.append method is deprecated and will be removed from pandas in a future version. Use pandas.concat instead.\n",
      "  df_train = df_train.append(df_temp.loc[ : test_year].copy())\n",
      "g:\\tesis\\2022-1\\codigo\\gdp_growth_forecasting\\modelamiento\\../libs\\utils.py:33: FutureWarning: The frame.append method is deprecated and will be removed from pandas in a future version. Use pandas.concat instead.\n",
      "  df_test = df_test.append(df_temp.loc[test_year : ].copy())\n",
      "g:\\tesis\\2022-1\\codigo\\gdp_growth_forecasting\\modelamiento\\../libs\\utils.py:32: FutureWarning: The frame.append method is deprecated and will be removed from pandas in a future version. Use pandas.concat instead.\n",
      "  df_train = df_train.append(df_temp.loc[ : test_year].copy())\n",
      "g:\\tesis\\2022-1\\codigo\\gdp_growth_forecasting\\modelamiento\\../libs\\utils.py:33: FutureWarning: The frame.append method is deprecated and will be removed from pandas in a future version. Use pandas.concat instead.\n",
      "  df_test = df_test.append(df_temp.loc[test_year : ].copy())\n",
      "g:\\tesis\\2022-1\\codigo\\gdp_growth_forecasting\\modelamiento\\../libs\\utils.py:32: FutureWarning: The frame.append method is deprecated and will be removed from pandas in a future version. Use pandas.concat instead.\n",
      "  df_train = df_train.append(df_temp.loc[ : test_year].copy())\n",
      "g:\\tesis\\2022-1\\codigo\\gdp_growth_forecasting\\modelamiento\\../libs\\utils.py:33: FutureWarning: The frame.append method is deprecated and will be removed from pandas in a future version. Use pandas.concat instead.\n",
      "  df_test = df_test.append(df_temp.loc[test_year : ].copy())\n",
      "g:\\tesis\\2022-1\\codigo\\gdp_growth_forecasting\\modelamiento\\../libs\\utils.py:32: FutureWarning: The frame.append method is deprecated and will be removed from pandas in a future version. Use pandas.concat instead.\n",
      "  df_train = df_train.append(df_temp.loc[ : test_year].copy())\n",
      "g:\\tesis\\2022-1\\codigo\\gdp_growth_forecasting\\modelamiento\\../libs\\utils.py:33: FutureWarning: The frame.append method is deprecated and will be removed from pandas in a future version. Use pandas.concat instead.\n",
      "  df_test = df_test.append(df_temp.loc[test_year : ].copy())\n",
      "g:\\tesis\\2022-1\\codigo\\gdp_growth_forecasting\\modelamiento\\../libs\\utils.py:32: FutureWarning: The frame.append method is deprecated and will be removed from pandas in a future version. Use pandas.concat instead.\n",
      "  df_train = df_train.append(df_temp.loc[ : test_year].copy())\n",
      "g:\\tesis\\2022-1\\codigo\\gdp_growth_forecasting\\modelamiento\\../libs\\utils.py:33: FutureWarning: The frame.append method is deprecated and will be removed from pandas in a future version. Use pandas.concat instead.\n",
      "  df_test = df_test.append(df_temp.loc[test_year : ].copy())\n",
      "g:\\tesis\\2022-1\\codigo\\gdp_growth_forecasting\\modelamiento\\../libs\\utils.py:32: FutureWarning: The frame.append method is deprecated and will be removed from pandas in a future version. Use pandas.concat instead.\n",
      "  df_train = df_train.append(df_temp.loc[ : test_year].copy())\n",
      "g:\\tesis\\2022-1\\codigo\\gdp_growth_forecasting\\modelamiento\\../libs\\utils.py:33: FutureWarning: The frame.append method is deprecated and will be removed from pandas in a future version. Use pandas.concat instead.\n",
      "  df_test = df_test.append(df_temp.loc[test_year : ].copy())\n",
      "g:\\tesis\\2022-1\\codigo\\gdp_growth_forecasting\\modelamiento\\../libs\\utils.py:32: FutureWarning: The frame.append method is deprecated and will be removed from pandas in a future version. Use pandas.concat instead.\n",
      "  df_train = df_train.append(df_temp.loc[ : test_year].copy())\n",
      "g:\\tesis\\2022-1\\codigo\\gdp_growth_forecasting\\modelamiento\\../libs\\utils.py:33: FutureWarning: The frame.append method is deprecated and will be removed from pandas in a future version. Use pandas.concat instead.\n",
      "  df_test = df_test.append(df_temp.loc[test_year : ].copy())\n",
      "g:\\tesis\\2022-1\\codigo\\gdp_growth_forecasting\\modelamiento\\../libs\\utils.py:32: FutureWarning: The frame.append method is deprecated and will be removed from pandas in a future version. Use pandas.concat instead.\n",
      "  df_train = df_train.append(df_temp.loc[ : test_year].copy())\n",
      "g:\\tesis\\2022-1\\codigo\\gdp_growth_forecasting\\modelamiento\\../libs\\utils.py:33: FutureWarning: The frame.append method is deprecated and will be removed from pandas in a future version. Use pandas.concat instead.\n",
      "  df_test = df_test.append(df_temp.loc[test_year : ].copy())\n",
      "g:\\tesis\\2022-1\\codigo\\gdp_growth_forecasting\\modelamiento\\../libs\\utils.py:32: FutureWarning: The frame.append method is deprecated and will be removed from pandas in a future version. Use pandas.concat instead.\n",
      "  df_train = df_train.append(df_temp.loc[ : test_year].copy())\n",
      "g:\\tesis\\2022-1\\codigo\\gdp_growth_forecasting\\modelamiento\\../libs\\utils.py:33: FutureWarning: The frame.append method is deprecated and will be removed from pandas in a future version. Use pandas.concat instead.\n",
      "  df_test = df_test.append(df_temp.loc[test_year : ].copy())\n",
      "g:\\tesis\\2022-1\\codigo\\gdp_growth_forecasting\\modelamiento\\../libs\\utils.py:32: FutureWarning: The frame.append method is deprecated and will be removed from pandas in a future version. Use pandas.concat instead.\n",
      "  df_train = df_train.append(df_temp.loc[ : test_year].copy())\n",
      "g:\\tesis\\2022-1\\codigo\\gdp_growth_forecasting\\modelamiento\\../libs\\utils.py:33: FutureWarning: The frame.append method is deprecated and will be removed from pandas in a future version. Use pandas.concat instead.\n",
      "  df_test = df_test.append(df_temp.loc[test_year : ].copy())\n",
      "g:\\tesis\\2022-1\\codigo\\gdp_growth_forecasting\\modelamiento\\../libs\\utils.py:32: FutureWarning: The frame.append method is deprecated and will be removed from pandas in a future version. Use pandas.concat instead.\n",
      "  df_train = df_train.append(df_temp.loc[ : test_year].copy())\n",
      "g:\\tesis\\2022-1\\codigo\\gdp_growth_forecasting\\modelamiento\\../libs\\utils.py:33: FutureWarning: The frame.append method is deprecated and will be removed from pandas in a future version. Use pandas.concat instead.\n",
      "  df_test = df_test.append(df_temp.loc[test_year : ].copy())\n",
      "g:\\tesis\\2022-1\\codigo\\gdp_growth_forecasting\\modelamiento\\../libs\\utils.py:32: FutureWarning: The frame.append method is deprecated and will be removed from pandas in a future version. Use pandas.concat instead.\n",
      "  df_train = df_train.append(df_temp.loc[ : test_year].copy())\n",
      "g:\\tesis\\2022-1\\codigo\\gdp_growth_forecasting\\modelamiento\\../libs\\utils.py:33: FutureWarning: The frame.append method is deprecated and will be removed from pandas in a future version. Use pandas.concat instead.\n",
      "  df_test = df_test.append(df_temp.loc[test_year : ].copy())\n",
      "g:\\tesis\\2022-1\\codigo\\gdp_growth_forecasting\\modelamiento\\../libs\\utils.py:32: FutureWarning: The frame.append method is deprecated and will be removed from pandas in a future version. Use pandas.concat instead.\n",
      "  df_train = df_train.append(df_temp.loc[ : test_year].copy())\n",
      "g:\\tesis\\2022-1\\codigo\\gdp_growth_forecasting\\modelamiento\\../libs\\utils.py:33: FutureWarning: The frame.append method is deprecated and will be removed from pandas in a future version. Use pandas.concat instead.\n",
      "  df_test = df_test.append(df_temp.loc[test_year : ].copy())\n",
      "g:\\tesis\\2022-1\\codigo\\gdp_growth_forecasting\\modelamiento\\../libs\\utils.py:32: FutureWarning: The frame.append method is deprecated and will be removed from pandas in a future version. Use pandas.concat instead.\n",
      "  df_train = df_train.append(df_temp.loc[ : test_year].copy())\n",
      "g:\\tesis\\2022-1\\codigo\\gdp_growth_forecasting\\modelamiento\\../libs\\utils.py:33: FutureWarning: The frame.append method is deprecated and will be removed from pandas in a future version. Use pandas.concat instead.\n",
      "  df_test = df_test.append(df_temp.loc[test_year : ].copy())\n",
      "g:\\tesis\\2022-1\\codigo\\gdp_growth_forecasting\\modelamiento\\../libs\\utils.py:32: FutureWarning: The frame.append method is deprecated and will be removed from pandas in a future version. Use pandas.concat instead.\n",
      "  df_train = df_train.append(df_temp.loc[ : test_year].copy())\n",
      "g:\\tesis\\2022-1\\codigo\\gdp_growth_forecasting\\modelamiento\\../libs\\utils.py:33: FutureWarning: The frame.append method is deprecated and will be removed from pandas in a future version. Use pandas.concat instead.\n",
      "  df_test = df_test.append(df_temp.loc[test_year : ].copy())\n",
      "g:\\tesis\\2022-1\\codigo\\gdp_growth_forecasting\\modelamiento\\../libs\\utils.py:32: FutureWarning: The frame.append method is deprecated and will be removed from pandas in a future version. Use pandas.concat instead.\n",
      "  df_train = df_train.append(df_temp.loc[ : test_year].copy())\n",
      "g:\\tesis\\2022-1\\codigo\\gdp_growth_forecasting\\modelamiento\\../libs\\utils.py:33: FutureWarning: The frame.append method is deprecated and will be removed from pandas in a future version. Use pandas.concat instead.\n",
      "  df_test = df_test.append(df_temp.loc[test_year : ].copy())\n",
      "g:\\tesis\\2022-1\\codigo\\gdp_growth_forecasting\\modelamiento\\../libs\\utils.py:32: FutureWarning: The frame.append method is deprecated and will be removed from pandas in a future version. Use pandas.concat instead.\n",
      "  df_train = df_train.append(df_temp.loc[ : test_year].copy())\n",
      "g:\\tesis\\2022-1\\codigo\\gdp_growth_forecasting\\modelamiento\\../libs\\utils.py:33: FutureWarning: The frame.append method is deprecated and will be removed from pandas in a future version. Use pandas.concat instead.\n",
      "  df_test = df_test.append(df_temp.loc[test_year : ].copy())\n",
      "g:\\tesis\\2022-1\\codigo\\gdp_growth_forecasting\\modelamiento\\../libs\\utils.py:32: FutureWarning: The frame.append method is deprecated and will be removed from pandas in a future version. Use pandas.concat instead.\n",
      "  df_train = df_train.append(df_temp.loc[ : test_year].copy())\n",
      "g:\\tesis\\2022-1\\codigo\\gdp_growth_forecasting\\modelamiento\\../libs\\utils.py:33: FutureWarning: The frame.append method is deprecated and will be removed from pandas in a future version. Use pandas.concat instead.\n",
      "  df_test = df_test.append(df_temp.loc[test_year : ].copy())\n",
      "g:\\tesis\\2022-1\\codigo\\gdp_growth_forecasting\\modelamiento\\../libs\\utils.py:32: FutureWarning: The frame.append method is deprecated and will be removed from pandas in a future version. Use pandas.concat instead.\n",
      "  df_train = df_train.append(df_temp.loc[ : test_year].copy())\n",
      "g:\\tesis\\2022-1\\codigo\\gdp_growth_forecasting\\modelamiento\\../libs\\utils.py:33: FutureWarning: The frame.append method is deprecated and will be removed from pandas in a future version. Use pandas.concat instead.\n",
      "  df_test = df_test.append(df_temp.loc[test_year : ].copy())\n",
      "g:\\tesis\\2022-1\\codigo\\gdp_growth_forecasting\\modelamiento\\../libs\\utils.py:32: FutureWarning: The frame.append method is deprecated and will be removed from pandas in a future version. Use pandas.concat instead.\n",
      "  df_train = df_train.append(df_temp.loc[ : test_year].copy())\n",
      "g:\\tesis\\2022-1\\codigo\\gdp_growth_forecasting\\modelamiento\\../libs\\utils.py:33: FutureWarning: The frame.append method is deprecated and will be removed from pandas in a future version. Use pandas.concat instead.\n",
      "  df_test = df_test.append(df_temp.loc[test_year : ].copy())\n",
      "g:\\tesis\\2022-1\\codigo\\gdp_growth_forecasting\\modelamiento\\../libs\\utils.py:32: FutureWarning: The frame.append method is deprecated and will be removed from pandas in a future version. Use pandas.concat instead.\n",
      "  df_train = df_train.append(df_temp.loc[ : test_year].copy())\n",
      "g:\\tesis\\2022-1\\codigo\\gdp_growth_forecasting\\modelamiento\\../libs\\utils.py:33: FutureWarning: The frame.append method is deprecated and will be removed from pandas in a future version. Use pandas.concat instead.\n",
      "  df_test = df_test.append(df_temp.loc[test_year : ].copy())\n",
      "g:\\tesis\\2022-1\\codigo\\gdp_growth_forecasting\\modelamiento\\../libs\\utils.py:32: FutureWarning: The frame.append method is deprecated and will be removed from pandas in a future version. Use pandas.concat instead.\n",
      "  df_train = df_train.append(df_temp.loc[ : test_year].copy())\n",
      "g:\\tesis\\2022-1\\codigo\\gdp_growth_forecasting\\modelamiento\\../libs\\utils.py:33: FutureWarning: The frame.append method is deprecated and will be removed from pandas in a future version. Use pandas.concat instead.\n",
      "  df_test = df_test.append(df_temp.loc[test_year : ].copy())\n",
      "g:\\tesis\\2022-1\\codigo\\gdp_growth_forecasting\\modelamiento\\../libs\\utils.py:32: FutureWarning: The frame.append method is deprecated and will be removed from pandas in a future version. Use pandas.concat instead.\n",
      "  df_train = df_train.append(df_temp.loc[ : test_year].copy())\n",
      "g:\\tesis\\2022-1\\codigo\\gdp_growth_forecasting\\modelamiento\\../libs\\utils.py:33: FutureWarning: The frame.append method is deprecated and will be removed from pandas in a future version. Use pandas.concat instead.\n",
      "  df_test = df_test.append(df_temp.loc[test_year : ].copy())\n",
      "g:\\tesis\\2022-1\\codigo\\gdp_growth_forecasting\\modelamiento\\../libs\\utils.py:32: FutureWarning: The frame.append method is deprecated and will be removed from pandas in a future version. Use pandas.concat instead.\n",
      "  df_train = df_train.append(df_temp.loc[ : test_year].copy())\n",
      "g:\\tesis\\2022-1\\codigo\\gdp_growth_forecasting\\modelamiento\\../libs\\utils.py:33: FutureWarning: The frame.append method is deprecated and will be removed from pandas in a future version. Use pandas.concat instead.\n",
      "  df_test = df_test.append(df_temp.loc[test_year : ].copy())\n",
      "g:\\tesis\\2022-1\\codigo\\gdp_growth_forecasting\\modelamiento\\../libs\\utils.py:32: FutureWarning: The frame.append method is deprecated and will be removed from pandas in a future version. Use pandas.concat instead.\n",
      "  df_train = df_train.append(df_temp.loc[ : test_year].copy())\n",
      "g:\\tesis\\2022-1\\codigo\\gdp_growth_forecasting\\modelamiento\\../libs\\utils.py:33: FutureWarning: The frame.append method is deprecated and will be removed from pandas in a future version. Use pandas.concat instead.\n",
      "  df_test = df_test.append(df_temp.loc[test_year : ].copy())\n",
      "g:\\tesis\\2022-1\\codigo\\gdp_growth_forecasting\\modelamiento\\../libs\\utils.py:32: FutureWarning: The frame.append method is deprecated and will be removed from pandas in a future version. Use pandas.concat instead.\n",
      "  df_train = df_train.append(df_temp.loc[ : test_year].copy())\n",
      "g:\\tesis\\2022-1\\codigo\\gdp_growth_forecasting\\modelamiento\\../libs\\utils.py:33: FutureWarning: The frame.append method is deprecated and will be removed from pandas in a future version. Use pandas.concat instead.\n",
      "  df_test = df_test.append(df_temp.loc[test_year : ].copy())\n",
      "g:\\tesis\\2022-1\\codigo\\gdp_growth_forecasting\\modelamiento\\../libs\\utils.py:32: FutureWarning: The frame.append method is deprecated and will be removed from pandas in a future version. Use pandas.concat instead.\n",
      "  df_train = df_train.append(df_temp.loc[ : test_year].copy())\n",
      "g:\\tesis\\2022-1\\codigo\\gdp_growth_forecasting\\modelamiento\\../libs\\utils.py:33: FutureWarning: The frame.append method is deprecated and will be removed from pandas in a future version. Use pandas.concat instead.\n",
      "  df_test = df_test.append(df_temp.loc[test_year : ].copy())\n",
      "g:\\tesis\\2022-1\\codigo\\gdp_growth_forecasting\\modelamiento\\../libs\\utils.py:32: FutureWarning: The frame.append method is deprecated and will be removed from pandas in a future version. Use pandas.concat instead.\n",
      "  df_train = df_train.append(df_temp.loc[ : test_year].copy())\n",
      "g:\\tesis\\2022-1\\codigo\\gdp_growth_forecasting\\modelamiento\\../libs\\utils.py:33: FutureWarning: The frame.append method is deprecated and will be removed from pandas in a future version. Use pandas.concat instead.\n",
      "  df_test = df_test.append(df_temp.loc[test_year : ].copy())\n",
      "g:\\tesis\\2022-1\\codigo\\gdp_growth_forecasting\\modelamiento\\../libs\\utils.py:32: FutureWarning: The frame.append method is deprecated and will be removed from pandas in a future version. Use pandas.concat instead.\n",
      "  df_train = df_train.append(df_temp.loc[ : test_year].copy())\n",
      "g:\\tesis\\2022-1\\codigo\\gdp_growth_forecasting\\modelamiento\\../libs\\utils.py:33: FutureWarning: The frame.append method is deprecated and will be removed from pandas in a future version. Use pandas.concat instead.\n",
      "  df_test = df_test.append(df_temp.loc[test_year : ].copy())\n",
      "g:\\tesis\\2022-1\\codigo\\gdp_growth_forecasting\\modelamiento\\../libs\\utils.py:32: FutureWarning: The frame.append method is deprecated and will be removed from pandas in a future version. Use pandas.concat instead.\n",
      "  df_train = df_train.append(df_temp.loc[ : test_year].copy())\n",
      "g:\\tesis\\2022-1\\codigo\\gdp_growth_forecasting\\modelamiento\\../libs\\utils.py:33: FutureWarning: The frame.append method is deprecated and will be removed from pandas in a future version. Use pandas.concat instead.\n",
      "  df_test = df_test.append(df_temp.loc[test_year : ].copy())\n",
      "g:\\tesis\\2022-1\\codigo\\gdp_growth_forecasting\\modelamiento\\../libs\\utils.py:32: FutureWarning: The frame.append method is deprecated and will be removed from pandas in a future version. Use pandas.concat instead.\n",
      "  df_train = df_train.append(df_temp.loc[ : test_year].copy())\n",
      "g:\\tesis\\2022-1\\codigo\\gdp_growth_forecasting\\modelamiento\\../libs\\utils.py:33: FutureWarning: The frame.append method is deprecated and will be removed from pandas in a future version. Use pandas.concat instead.\n",
      "  df_test = df_test.append(df_temp.loc[test_year : ].copy())\n",
      "g:\\tesis\\2022-1\\codigo\\gdp_growth_forecasting\\modelamiento\\../libs\\utils.py:32: FutureWarning: The frame.append method is deprecated and will be removed from pandas in a future version. Use pandas.concat instead.\n",
      "  df_train = df_train.append(df_temp.loc[ : test_year].copy())\n",
      "g:\\tesis\\2022-1\\codigo\\gdp_growth_forecasting\\modelamiento\\../libs\\utils.py:33: FutureWarning: The frame.append method is deprecated and will be removed from pandas in a future version. Use pandas.concat instead.\n",
      "  df_test = df_test.append(df_temp.loc[test_year : ].copy())\n",
      "g:\\tesis\\2022-1\\codigo\\gdp_growth_forecasting\\modelamiento\\../libs\\utils.py:32: FutureWarning: The frame.append method is deprecated and will be removed from pandas in a future version. Use pandas.concat instead.\n",
      "  df_train = df_train.append(df_temp.loc[ : test_year].copy())\n",
      "g:\\tesis\\2022-1\\codigo\\gdp_growth_forecasting\\modelamiento\\../libs\\utils.py:33: FutureWarning: The frame.append method is deprecated and will be removed from pandas in a future version. Use pandas.concat instead.\n",
      "  df_test = df_test.append(df_temp.loc[test_year : ].copy())\n",
      "g:\\tesis\\2022-1\\codigo\\gdp_growth_forecasting\\modelamiento\\../libs\\utils.py:32: FutureWarning: The frame.append method is deprecated and will be removed from pandas in a future version. Use pandas.concat instead.\n",
      "  df_train = df_train.append(df_temp.loc[ : test_year].copy())\n",
      "g:\\tesis\\2022-1\\codigo\\gdp_growth_forecasting\\modelamiento\\../libs\\utils.py:33: FutureWarning: The frame.append method is deprecated and will be removed from pandas in a future version. Use pandas.concat instead.\n",
      "  df_test = df_test.append(df_temp.loc[test_year : ].copy())\n",
      "g:\\tesis\\2022-1\\codigo\\gdp_growth_forecasting\\modelamiento\\../libs\\utils.py:32: FutureWarning: The frame.append method is deprecated and will be removed from pandas in a future version. Use pandas.concat instead.\n",
      "  df_train = df_train.append(df_temp.loc[ : test_year].copy())\n",
      "g:\\tesis\\2022-1\\codigo\\gdp_growth_forecasting\\modelamiento\\../libs\\utils.py:33: FutureWarning: The frame.append method is deprecated and will be removed from pandas in a future version. Use pandas.concat instead.\n",
      "  df_test = df_test.append(df_temp.loc[test_year : ].copy())\n",
      "g:\\tesis\\2022-1\\codigo\\gdp_growth_forecasting\\modelamiento\\../libs\\utils.py:32: FutureWarning: The frame.append method is deprecated and will be removed from pandas in a future version. Use pandas.concat instead.\n",
      "  df_train = df_train.append(df_temp.loc[ : test_year].copy())\n",
      "g:\\tesis\\2022-1\\codigo\\gdp_growth_forecasting\\modelamiento\\../libs\\utils.py:33: FutureWarning: The frame.append method is deprecated and will be removed from pandas in a future version. Use pandas.concat instead.\n",
      "  df_test = df_test.append(df_temp.loc[test_year : ].copy())\n",
      "g:\\tesis\\2022-1\\codigo\\gdp_growth_forecasting\\modelamiento\\../libs\\utils.py:32: FutureWarning: The frame.append method is deprecated and will be removed from pandas in a future version. Use pandas.concat instead.\n",
      "  df_train = df_train.append(df_temp.loc[ : test_year].copy())\n",
      "g:\\tesis\\2022-1\\codigo\\gdp_growth_forecasting\\modelamiento\\../libs\\utils.py:33: FutureWarning: The frame.append method is deprecated and will be removed from pandas in a future version. Use pandas.concat instead.\n",
      "  df_test = df_test.append(df_temp.loc[test_year : ].copy())\n",
      "g:\\tesis\\2022-1\\codigo\\gdp_growth_forecasting\\modelamiento\\../libs\\utils.py:32: FutureWarning: The frame.append method is deprecated and will be removed from pandas in a future version. Use pandas.concat instead.\n",
      "  df_train = df_train.append(df_temp.loc[ : test_year].copy())\n",
      "g:\\tesis\\2022-1\\codigo\\gdp_growth_forecasting\\modelamiento\\../libs\\utils.py:33: FutureWarning: The frame.append method is deprecated and will be removed from pandas in a future version. Use pandas.concat instead.\n",
      "  df_test = df_test.append(df_temp.loc[test_year : ].copy())\n",
      "g:\\tesis\\2022-1\\codigo\\gdp_growth_forecasting\\modelamiento\\../libs\\utils.py:32: FutureWarning: The frame.append method is deprecated and will be removed from pandas in a future version. Use pandas.concat instead.\n",
      "  df_train = df_train.append(df_temp.loc[ : test_year].copy())\n",
      "g:\\tesis\\2022-1\\codigo\\gdp_growth_forecasting\\modelamiento\\../libs\\utils.py:33: FutureWarning: The frame.append method is deprecated and will be removed from pandas in a future version. Use pandas.concat instead.\n",
      "  df_test = df_test.append(df_temp.loc[test_year : ].copy())\n",
      "g:\\tesis\\2022-1\\codigo\\gdp_growth_forecasting\\modelamiento\\../libs\\utils.py:32: FutureWarning: The frame.append method is deprecated and will be removed from pandas in a future version. Use pandas.concat instead.\n",
      "  df_train = df_train.append(df_temp.loc[ : test_year].copy())\n",
      "g:\\tesis\\2022-1\\codigo\\gdp_growth_forecasting\\modelamiento\\../libs\\utils.py:33: FutureWarning: The frame.append method is deprecated and will be removed from pandas in a future version. Use pandas.concat instead.\n",
      "  df_test = df_test.append(df_temp.loc[test_year : ].copy())\n",
      "g:\\tesis\\2022-1\\codigo\\gdp_growth_forecasting\\modelamiento\\../libs\\utils.py:32: FutureWarning: The frame.append method is deprecated and will be removed from pandas in a future version. Use pandas.concat instead.\n",
      "  df_train = df_train.append(df_temp.loc[ : test_year].copy())\n",
      "g:\\tesis\\2022-1\\codigo\\gdp_growth_forecasting\\modelamiento\\../libs\\utils.py:33: FutureWarning: The frame.append method is deprecated and will be removed from pandas in a future version. Use pandas.concat instead.\n",
      "  df_test = df_test.append(df_temp.loc[test_year : ].copy())\n",
      "g:\\tesis\\2022-1\\codigo\\gdp_growth_forecasting\\modelamiento\\../libs\\utils.py:32: FutureWarning: The frame.append method is deprecated and will be removed from pandas in a future version. Use pandas.concat instead.\n",
      "  df_train = df_train.append(df_temp.loc[ : test_year].copy())\n",
      "g:\\tesis\\2022-1\\codigo\\gdp_growth_forecasting\\modelamiento\\../libs\\utils.py:33: FutureWarning: The frame.append method is deprecated and will be removed from pandas in a future version. Use pandas.concat instead.\n",
      "  df_test = df_test.append(df_temp.loc[test_year : ].copy())\n",
      "g:\\tesis\\2022-1\\codigo\\gdp_growth_forecasting\\modelamiento\\../libs\\utils.py:32: FutureWarning: The frame.append method is deprecated and will be removed from pandas in a future version. Use pandas.concat instead.\n",
      "  df_train = df_train.append(df_temp.loc[ : test_year].copy())\n",
      "g:\\tesis\\2022-1\\codigo\\gdp_growth_forecasting\\modelamiento\\../libs\\utils.py:33: FutureWarning: The frame.append method is deprecated and will be removed from pandas in a future version. Use pandas.concat instead.\n",
      "  df_test = df_test.append(df_temp.loc[test_year : ].copy())\n",
      "g:\\tesis\\2022-1\\codigo\\gdp_growth_forecasting\\modelamiento\\../libs\\utils.py:32: FutureWarning: The frame.append method is deprecated and will be removed from pandas in a future version. Use pandas.concat instead.\n",
      "  df_train = df_train.append(df_temp.loc[ : test_year].copy())\n",
      "g:\\tesis\\2022-1\\codigo\\gdp_growth_forecasting\\modelamiento\\../libs\\utils.py:33: FutureWarning: The frame.append method is deprecated and will be removed from pandas in a future version. Use pandas.concat instead.\n",
      "  df_test = df_test.append(df_temp.loc[test_year : ].copy())\n",
      "g:\\tesis\\2022-1\\codigo\\gdp_growth_forecasting\\modelamiento\\../libs\\utils.py:32: FutureWarning: The frame.append method is deprecated and will be removed from pandas in a future version. Use pandas.concat instead.\n",
      "  df_train = df_train.append(df_temp.loc[ : test_year].copy())\n",
      "g:\\tesis\\2022-1\\codigo\\gdp_growth_forecasting\\modelamiento\\../libs\\utils.py:33: FutureWarning: The frame.append method is deprecated and will be removed from pandas in a future version. Use pandas.concat instead.\n",
      "  df_test = df_test.append(df_temp.loc[test_year : ].copy())\n",
      "g:\\tesis\\2022-1\\codigo\\gdp_growth_forecasting\\modelamiento\\../libs\\utils.py:32: FutureWarning: The frame.append method is deprecated and will be removed from pandas in a future version. Use pandas.concat instead.\n",
      "  df_train = df_train.append(df_temp.loc[ : test_year].copy())\n",
      "g:\\tesis\\2022-1\\codigo\\gdp_growth_forecasting\\modelamiento\\../libs\\utils.py:33: FutureWarning: The frame.append method is deprecated and will be removed from pandas in a future version. Use pandas.concat instead.\n",
      "  df_test = df_test.append(df_temp.loc[test_year : ].copy())\n",
      "g:\\tesis\\2022-1\\codigo\\gdp_growth_forecasting\\modelamiento\\../libs\\utils.py:32: FutureWarning: The frame.append method is deprecated and will be removed from pandas in a future version. Use pandas.concat instead.\n",
      "  df_train = df_train.append(df_temp.loc[ : test_year].copy())\n",
      "g:\\tesis\\2022-1\\codigo\\gdp_growth_forecasting\\modelamiento\\../libs\\utils.py:33: FutureWarning: The frame.append method is deprecated and will be removed from pandas in a future version. Use pandas.concat instead.\n",
      "  df_test = df_test.append(df_temp.loc[test_year : ].copy())\n",
      "g:\\tesis\\2022-1\\codigo\\gdp_growth_forecasting\\modelamiento\\../libs\\utils.py:32: FutureWarning: The frame.append method is deprecated and will be removed from pandas in a future version. Use pandas.concat instead.\n",
      "  df_train = df_train.append(df_temp.loc[ : test_year].copy())\n",
      "g:\\tesis\\2022-1\\codigo\\gdp_growth_forecasting\\modelamiento\\../libs\\utils.py:33: FutureWarning: The frame.append method is deprecated and will be removed from pandas in a future version. Use pandas.concat instead.\n",
      "  df_test = df_test.append(df_temp.loc[test_year : ].copy())\n",
      "g:\\tesis\\2022-1\\codigo\\gdp_growth_forecasting\\modelamiento\\../libs\\utils.py:32: FutureWarning: The frame.append method is deprecated and will be removed from pandas in a future version. Use pandas.concat instead.\n",
      "  df_train = df_train.append(df_temp.loc[ : test_year].copy())\n",
      "g:\\tesis\\2022-1\\codigo\\gdp_growth_forecasting\\modelamiento\\../libs\\utils.py:33: FutureWarning: The frame.append method is deprecated and will be removed from pandas in a future version. Use pandas.concat instead.\n",
      "  df_test = df_test.append(df_temp.loc[test_year : ].copy())\n",
      "g:\\tesis\\2022-1\\codigo\\gdp_growth_forecasting\\modelamiento\\../libs\\utils.py:32: FutureWarning: The frame.append method is deprecated and will be removed from pandas in a future version. Use pandas.concat instead.\n",
      "  df_train = df_train.append(df_temp.loc[ : test_year].copy())\n",
      "g:\\tesis\\2022-1\\codigo\\gdp_growth_forecasting\\modelamiento\\../libs\\utils.py:33: FutureWarning: The frame.append method is deprecated and will be removed from pandas in a future version. Use pandas.concat instead.\n",
      "  df_test = df_test.append(df_temp.loc[test_year : ].copy())\n",
      "g:\\tesis\\2022-1\\codigo\\gdp_growth_forecasting\\modelamiento\\../libs\\utils.py:32: FutureWarning: The frame.append method is deprecated and will be removed from pandas in a future version. Use pandas.concat instead.\n",
      "  df_train = df_train.append(df_temp.loc[ : test_year].copy())\n",
      "g:\\tesis\\2022-1\\codigo\\gdp_growth_forecasting\\modelamiento\\../libs\\utils.py:33: FutureWarning: The frame.append method is deprecated and will be removed from pandas in a future version. Use pandas.concat instead.\n",
      "  df_test = df_test.append(df_temp.loc[test_year : ].copy())\n",
      "g:\\tesis\\2022-1\\codigo\\gdp_growth_forecasting\\modelamiento\\../libs\\utils.py:32: FutureWarning: The frame.append method is deprecated and will be removed from pandas in a future version. Use pandas.concat instead.\n",
      "  df_train = df_train.append(df_temp.loc[ : test_year].copy())\n",
      "g:\\tesis\\2022-1\\codigo\\gdp_growth_forecasting\\modelamiento\\../libs\\utils.py:33: FutureWarning: The frame.append method is deprecated and will be removed from pandas in a future version. Use pandas.concat instead.\n",
      "  df_test = df_test.append(df_temp.loc[test_year : ].copy())\n",
      "g:\\tesis\\2022-1\\codigo\\gdp_growth_forecasting\\modelamiento\\../libs\\utils.py:32: FutureWarning: The frame.append method is deprecated and will be removed from pandas in a future version. Use pandas.concat instead.\n",
      "  df_train = df_train.append(df_temp.loc[ : test_year].copy())\n",
      "g:\\tesis\\2022-1\\codigo\\gdp_growth_forecasting\\modelamiento\\../libs\\utils.py:33: FutureWarning: The frame.append method is deprecated and will be removed from pandas in a future version. Use pandas.concat instead.\n",
      "  df_test = df_test.append(df_temp.loc[test_year : ].copy())\n",
      "g:\\tesis\\2022-1\\codigo\\gdp_growth_forecasting\\modelamiento\\../libs\\utils.py:32: FutureWarning: The frame.append method is deprecated and will be removed from pandas in a future version. Use pandas.concat instead.\n",
      "  df_train = df_train.append(df_temp.loc[ : test_year].copy())\n",
      "g:\\tesis\\2022-1\\codigo\\gdp_growth_forecasting\\modelamiento\\../libs\\utils.py:33: FutureWarning: The frame.append method is deprecated and will be removed from pandas in a future version. Use pandas.concat instead.\n",
      "  df_test = df_test.append(df_temp.loc[test_year : ].copy())\n",
      "g:\\tesis\\2022-1\\codigo\\gdp_growth_forecasting\\modelamiento\\../libs\\utils.py:32: FutureWarning: The frame.append method is deprecated and will be removed from pandas in a future version. Use pandas.concat instead.\n",
      "  df_train = df_train.append(df_temp.loc[ : test_year].copy())\n",
      "g:\\tesis\\2022-1\\codigo\\gdp_growth_forecasting\\modelamiento\\../libs\\utils.py:33: FutureWarning: The frame.append method is deprecated and will be removed from pandas in a future version. Use pandas.concat instead.\n",
      "  df_test = df_test.append(df_temp.loc[test_year : ].copy())\n",
      "g:\\tesis\\2022-1\\codigo\\gdp_growth_forecasting\\modelamiento\\../libs\\utils.py:32: FutureWarning: The frame.append method is deprecated and will be removed from pandas in a future version. Use pandas.concat instead.\n",
      "  df_train = df_train.append(df_temp.loc[ : test_year].copy())\n",
      "g:\\tesis\\2022-1\\codigo\\gdp_growth_forecasting\\modelamiento\\../libs\\utils.py:33: FutureWarning: The frame.append method is deprecated and will be removed from pandas in a future version. Use pandas.concat instead.\n",
      "  df_test = df_test.append(df_temp.loc[test_year : ].copy())\n",
      "g:\\tesis\\2022-1\\codigo\\gdp_growth_forecasting\\modelamiento\\../libs\\utils.py:32: FutureWarning: The frame.append method is deprecated and will be removed from pandas in a future version. Use pandas.concat instead.\n",
      "  df_train = df_train.append(df_temp.loc[ : test_year].copy())\n",
      "g:\\tesis\\2022-1\\codigo\\gdp_growth_forecasting\\modelamiento\\../libs\\utils.py:33: FutureWarning: The frame.append method is deprecated and will be removed from pandas in a future version. Use pandas.concat instead.\n",
      "  df_test = df_test.append(df_temp.loc[test_year : ].copy())\n",
      "g:\\tesis\\2022-1\\codigo\\gdp_growth_forecasting\\modelamiento\\../libs\\utils.py:32: FutureWarning: The frame.append method is deprecated and will be removed from pandas in a future version. Use pandas.concat instead.\n",
      "  df_train = df_train.append(df_temp.loc[ : test_year].copy())\n",
      "g:\\tesis\\2022-1\\codigo\\gdp_growth_forecasting\\modelamiento\\../libs\\utils.py:33: FutureWarning: The frame.append method is deprecated and will be removed from pandas in a future version. Use pandas.concat instead.\n",
      "  df_test = df_test.append(df_temp.loc[test_year : ].copy())\n",
      "g:\\tesis\\2022-1\\codigo\\gdp_growth_forecasting\\modelamiento\\../libs\\utils.py:32: FutureWarning: The frame.append method is deprecated and will be removed from pandas in a future version. Use pandas.concat instead.\n",
      "  df_train = df_train.append(df_temp.loc[ : test_year].copy())\n",
      "g:\\tesis\\2022-1\\codigo\\gdp_growth_forecasting\\modelamiento\\../libs\\utils.py:33: FutureWarning: The frame.append method is deprecated and will be removed from pandas in a future version. Use pandas.concat instead.\n",
      "  df_test = df_test.append(df_temp.loc[test_year : ].copy())\n"
     ]
    }
   ],
   "source": [
    "_, df_test = split_df(df,1)"
   ]
  },
  {
   "cell_type": "markdown",
   "metadata": {},
   "source": [
    "# Normalizar"
   ]
  },
  {
   "cell_type": "code",
   "execution_count": 13,
   "metadata": {},
   "outputs": [],
   "source": [
    "df_x_train = df.loc[iso_train][features].copy()\n",
    "df_y_train = df.loc[iso_train][target_col].copy()\n",
    "df_x_test = df_test.loc[iso_test][features].copy()\n",
    "df_y_test = df_test.loc[iso_test][target_col].copy()\n",
    "\n",
    "# minmax_scaler_x_train = MinMaxScaler()\n",
    "# minmax_scaler_y_train = MinMaxScaler()\n",
    "# minmax_scaler_x_test = MinMaxScaler()\n",
    "# minmax_scaler_y_test = MinMaxScaler()\n",
    "\n",
    "std_scaler_x_train = StandardScaler()\n",
    "std_scaler_y_train = StandardScaler()\n",
    "std_scaler_x_test = StandardScaler()\n",
    "std_scaler_y_test = StandardScaler()\n",
    "\n",
    "# df_x_train.iloc[:,:] = minmax_scaler_x_train.fit_transform(df_x_train)\n",
    "# df_y_train.iloc[:,:] = minmax_scaler_y_train.fit_transform(df_y_train)\n",
    "# df_x_test.iloc[:,:] = minmax_scaler_x_test.fit_transform(df_x_test)\n",
    "# df_y_test.iloc[:,:] = minmax_scaler_y_test.fit_transform(df_y_test)\n",
    "\n",
    "df_x_train.iloc[:,:] = std_scaler_x_train.fit_transform(df_x_train)\n",
    "df_y_train.iloc[:,:] = std_scaler_y_train.fit_transform(df_y_train)\n",
    "df_x_test.iloc[:,:] = std_scaler_x_test.fit_transform(df_x_test)\n",
    "df_y_test.iloc[:,:] = std_scaler_y_test.fit_transform(df_y_test)\n",
    "\n",
    "df_x_train.iloc[:,:] = np.clip(df_x_train,-5,5)\n",
    "df_y_train.iloc[:,:] = np.clip(df_y_train,-5,5)\n",
    "df_x_test.iloc[:,:] = np.clip(df_x_test,-5,5)\n",
    "df_y_test.iloc[:,:] = np.clip(df_y_test,-5,5)"
   ]
  },
  {
   "cell_type": "markdown",
   "metadata": {},
   "source": [
    "# Generar variables lag y horizonte"
   ]
  },
  {
   "cell_type": "code",
   "execution_count": 14,
   "metadata": {},
   "outputs": [],
   "source": [
    "n_steps_in = 10\n",
    "n_steps_out = 3\n",
    "n_features = len(features)\n",
    "\n",
    "x_train, y_train = shift_join_data(df_x_train,df_y_train,iso_train,n_steps_in,n_steps_out)\n",
    "x_test, y_test = shift_join_data(df_x_test,df_y_test,iso_test,n_steps_in,n_steps_out)"
   ]
  },
  {
   "cell_type": "code",
   "execution_count": 15,
   "metadata": {},
   "outputs": [],
   "source": [
    "from tensorflow.keras.callbacks import EarlyStopping"
   ]
  },
  {
   "cell_type": "code",
   "execution_count": 16,
   "metadata": {},
   "outputs": [],
   "source": [
    "es = EarlyStopping(monitor='val_loss', mode='min', patience=50,restore_best_weights=True)"
   ]
  },
  {
   "cell_type": "code",
   "execution_count": 17,
   "metadata": {},
   "outputs": [],
   "source": [
    "n_batch = len(x_train)"
   ]
  },
  {
   "cell_type": "code",
   "execution_count": 18,
   "metadata": {},
   "outputs": [
    {
     "data": {
      "text/plain": [
       "1695"
      ]
     },
     "execution_count": 18,
     "metadata": {},
     "output_type": "execute_result"
    }
   ],
   "source": [
    "n_batch"
   ]
  },
  {
   "cell_type": "code",
   "execution_count": null,
   "metadata": {},
   "outputs": [],
   "source": []
  },
  {
   "cell_type": "code",
   "execution_count": 19,
   "metadata": {},
   "outputs": [],
   "source": [
    "#mlp = build_mlp(n_steps_in,n_features,n_steps_out,304,4,1e-4,'relu')\n",
    "#model = load_model('ajustes/Seq2Seq_20220724_2143.h5')"
   ]
  },
  {
   "cell_type": "code",
   "execution_count": 39,
   "metadata": {},
   "outputs": [],
   "source": [
    "nodes = 200\n",
    "rbm_layers = 3\n",
    "h_layers_structure = [nodes for i in range(rbm_layers)]\n",
    "learning_rate_rbm=1e-3\n",
    "learning_rate=1e-2\n",
    "n_epochs = 20\n",
    "n_iter_backprop=200\n",
    "batch_size=32\n",
    "activation_function='tanh'"
   ]
  },
  {
   "cell_type": "code",
   "execution_count": 40,
   "metadata": {},
   "outputs": [],
   "source": [
    "model = SupervisedDBNRegression(\n",
    "    hidden_layers_structure = h_layers_structure,\n",
    "    learning_rate_rbm = learning_rate_rbm,\n",
    "    learning_rate = learning_rate,\n",
    "    n_epochs_rbm = n_epochs,\n",
    "    n_iter_backprop = n_iter_backprop,\n",
    "    batch_size = batch_size,\n",
    "    activation_function = activation_function\n",
    ")"
   ]
  },
  {
   "cell_type": "code",
   "execution_count": 41,
   "metadata": {},
   "outputs": [],
   "source": [
    "x_train = flatten(x_train)\n",
    "x_test = flatten(x_test)\n",
    "#y_train = y_train.flatten()\n",
    "#y_test = y_test.flatten()"
   ]
  },
  {
   "cell_type": "code",
   "execution_count": 42,
   "metadata": {},
   "outputs": [
    {
     "name": "stdout",
     "output_type": "stream",
     "text": [
      "[START] Pre-training step:\n",
      ">> Epoch 1 finished \tRBM Reconstruction error 67.526182\n",
      ">> Epoch 2 finished \tRBM Reconstruction error 50.603816\n",
      ">> Epoch 3 finished \tRBM Reconstruction error 44.617299\n",
      ">> Epoch 4 finished \tRBM Reconstruction error 41.086438\n",
      ">> Epoch 5 finished \tRBM Reconstruction error 39.995160\n",
      ">> Epoch 6 finished \tRBM Reconstruction error 39.870440\n",
      ">> Epoch 7 finished \tRBM Reconstruction error 39.371741\n",
      ">> Epoch 8 finished \tRBM Reconstruction error 38.742323\n",
      ">> Epoch 9 finished \tRBM Reconstruction error 38.170916\n",
      ">> Epoch 10 finished \tRBM Reconstruction error 37.682017\n",
      ">> Epoch 11 finished \tRBM Reconstruction error 37.358654\n",
      ">> Epoch 12 finished \tRBM Reconstruction error 37.071798\n",
      ">> Epoch 13 finished \tRBM Reconstruction error 36.803438\n",
      ">> Epoch 14 finished \tRBM Reconstruction error 36.544538\n",
      ">> Epoch 15 finished \tRBM Reconstruction error 36.284273\n",
      ">> Epoch 16 finished \tRBM Reconstruction error 35.990750\n",
      ">> Epoch 17 finished \tRBM Reconstruction error 35.780213\n",
      ">> Epoch 18 finished \tRBM Reconstruction error 35.579076\n",
      ">> Epoch 19 finished \tRBM Reconstruction error 35.358040\n",
      ">> Epoch 20 finished \tRBM Reconstruction error 35.231018\n",
      ">> Epoch 1 finished \tRBM Reconstruction error 77.158018\n",
      ">> Epoch 2 finished \tRBM Reconstruction error 43.706619\n",
      ">> Epoch 3 finished \tRBM Reconstruction error 33.978812\n",
      ">> Epoch 4 finished \tRBM Reconstruction error 30.941805\n",
      ">> Epoch 5 finished \tRBM Reconstruction error 27.527522\n",
      ">> Epoch 6 finished \tRBM Reconstruction error 24.013056\n",
      ">> Epoch 7 finished \tRBM Reconstruction error 21.743474\n",
      ">> Epoch 8 finished \tRBM Reconstruction error 20.897477\n",
      ">> Epoch 9 finished \tRBM Reconstruction error 20.637335\n",
      ">> Epoch 10 finished \tRBM Reconstruction error 20.388819\n",
      ">> Epoch 11 finished \tRBM Reconstruction error 20.097322\n",
      ">> Epoch 12 finished \tRBM Reconstruction error 19.718638\n",
      ">> Epoch 13 finished \tRBM Reconstruction error 19.278630\n",
      ">> Epoch 14 finished \tRBM Reconstruction error 18.799262\n",
      ">> Epoch 15 finished \tRBM Reconstruction error 18.261846\n",
      ">> Epoch 16 finished \tRBM Reconstruction error 17.631594\n",
      ">> Epoch 17 finished \tRBM Reconstruction error 16.965683\n",
      ">> Epoch 18 finished \tRBM Reconstruction error 16.264929\n",
      ">> Epoch 19 finished \tRBM Reconstruction error 15.540589\n",
      ">> Epoch 20 finished \tRBM Reconstruction error 14.813073\n",
      ">> Epoch 1 finished \tRBM Reconstruction error 72.223377\n",
      ">> Epoch 2 finished \tRBM Reconstruction error 45.522463\n",
      ">> Epoch 3 finished \tRBM Reconstruction error 31.079606\n",
      ">> Epoch 4 finished \tRBM Reconstruction error 24.722013\n",
      ">> Epoch 5 finished \tRBM Reconstruction error 19.446987\n",
      ">> Epoch 6 finished \tRBM Reconstruction error 14.732773\n",
      ">> Epoch 7 finished \tRBM Reconstruction error 11.877558\n",
      ">> Epoch 8 finished \tRBM Reconstruction error 10.533905\n",
      ">> Epoch 9 finished \tRBM Reconstruction error 9.924312\n",
      ">> Epoch 10 finished \tRBM Reconstruction error 9.620448\n",
      ">> Epoch 11 finished \tRBM Reconstruction error 9.449793\n",
      ">> Epoch 12 finished \tRBM Reconstruction error 9.320403\n",
      ">> Epoch 13 finished \tRBM Reconstruction error 9.231473\n",
      ">> Epoch 14 finished \tRBM Reconstruction error 9.125180\n",
      ">> Epoch 15 finished \tRBM Reconstruction error 8.978506\n",
      ">> Epoch 16 finished \tRBM Reconstruction error 8.893913\n",
      ">> Epoch 17 finished \tRBM Reconstruction error 8.801157\n",
      ">> Epoch 18 finished \tRBM Reconstruction error 8.716088\n",
      ">> Epoch 19 finished \tRBM Reconstruction error 8.675738\n",
      ">> Epoch 20 finished \tRBM Reconstruction error 8.625048\n",
      ">> Epoch 1 finished \tRBM Reconstruction error 83.050174\n",
      ">> Epoch 2 finished \tRBM Reconstruction error 52.165727\n",
      ">> Epoch 3 finished \tRBM Reconstruction error 33.917056\n",
      ">> Epoch 4 finished \tRBM Reconstruction error 24.531663\n",
      ">> Epoch 5 finished \tRBM Reconstruction error 18.345896\n",
      ">> Epoch 6 finished \tRBM Reconstruction error 13.377142\n",
      ">> Epoch 7 finished \tRBM Reconstruction error 10.302817\n",
      ">> Epoch 8 finished \tRBM Reconstruction error 8.563626\n",
      ">> Epoch 9 finished \tRBM Reconstruction error 7.592795\n",
      ">> Epoch 10 finished \tRBM Reconstruction error 7.019695\n",
      ">> Epoch 11 finished \tRBM Reconstruction error 6.611774\n",
      ">> Epoch 12 finished \tRBM Reconstruction error 6.305331\n",
      ">> Epoch 13 finished \tRBM Reconstruction error 6.061041\n",
      ">> Epoch 14 finished \tRBM Reconstruction error 5.843298\n",
      ">> Epoch 15 finished \tRBM Reconstruction error 5.672266\n",
      ">> Epoch 16 finished \tRBM Reconstruction error 5.488936\n",
      ">> Epoch 17 finished \tRBM Reconstruction error 5.344427\n",
      ">> Epoch 18 finished \tRBM Reconstruction error 5.216686\n",
      ">> Epoch 19 finished \tRBM Reconstruction error 5.061344\n",
      ">> Epoch 20 finished \tRBM Reconstruction error 4.945908\n",
      "[END] Pre-training step\n",
      "[START] Fine tuning step:\n",
      ">> Epoch 1 finished \tANN training loss 2.659680\n",
      ">> Epoch 2 finished \tANN training loss 2.443815\n",
      ">> Epoch 3 finished \tANN training loss 2.363273\n",
      ">> Epoch 4 finished \tANN training loss 2.298600\n",
      ">> Epoch 5 finished \tANN training loss 2.257493\n",
      ">> Epoch 6 finished \tANN training loss 2.236670\n",
      ">> Epoch 7 finished \tANN training loss 2.203059\n",
      ">> Epoch 8 finished \tANN training loss 2.182960\n",
      ">> Epoch 9 finished \tANN training loss 2.150269\n",
      ">> Epoch 10 finished \tANN training loss 2.134159\n",
      ">> Epoch 11 finished \tANN training loss 2.122781\n",
      ">> Epoch 12 finished \tANN training loss 2.106856\n",
      ">> Epoch 13 finished \tANN training loss 2.090670\n",
      ">> Epoch 14 finished \tANN training loss 2.067720\n",
      ">> Epoch 15 finished \tANN training loss 2.058974\n",
      ">> Epoch 16 finished \tANN training loss 2.035188\n",
      ">> Epoch 17 finished \tANN training loss 2.041113\n",
      ">> Epoch 18 finished \tANN training loss 2.029852\n",
      ">> Epoch 19 finished \tANN training loss 2.013638\n",
      ">> Epoch 20 finished \tANN training loss 1.984272\n",
      ">> Epoch 21 finished \tANN training loss 1.974070\n",
      ">> Epoch 22 finished \tANN training loss 1.983394\n",
      ">> Epoch 23 finished \tANN training loss 1.949650\n",
      ">> Epoch 24 finished \tANN training loss 1.939120\n",
      ">> Epoch 25 finished \tANN training loss 1.931238\n",
      ">> Epoch 26 finished \tANN training loss 1.925401\n",
      ">> Epoch 27 finished \tANN training loss 1.900788\n",
      ">> Epoch 28 finished \tANN training loss 1.897708\n",
      ">> Epoch 29 finished \tANN training loss 1.885174\n",
      ">> Epoch 30 finished \tANN training loss 1.899562\n",
      ">> Epoch 31 finished \tANN training loss 1.857826\n",
      ">> Epoch 32 finished \tANN training loss 1.859660\n",
      ">> Epoch 33 finished \tANN training loss 1.852734\n",
      ">> Epoch 34 finished \tANN training loss 1.837212\n",
      ">> Epoch 35 finished \tANN training loss 1.846993\n",
      ">> Epoch 36 finished \tANN training loss 1.827993\n",
      ">> Epoch 37 finished \tANN training loss 1.814294\n",
      ">> Epoch 38 finished \tANN training loss 1.799713\n",
      ">> Epoch 39 finished \tANN training loss 1.808788\n",
      ">> Epoch 40 finished \tANN training loss 1.787235\n",
      ">> Epoch 41 finished \tANN training loss 1.782301\n",
      ">> Epoch 42 finished \tANN training loss 1.777126\n",
      ">> Epoch 43 finished \tANN training loss 1.748661\n",
      ">> Epoch 44 finished \tANN training loss 1.763208\n",
      ">> Epoch 45 finished \tANN training loss 1.757094\n",
      ">> Epoch 46 finished \tANN training loss 1.751496\n",
      ">> Epoch 47 finished \tANN training loss 1.740613\n",
      ">> Epoch 48 finished \tANN training loss 1.741559\n",
      ">> Epoch 49 finished \tANN training loss 1.722745\n",
      ">> Epoch 50 finished \tANN training loss 1.721010\n",
      ">> Epoch 51 finished \tANN training loss 1.723127\n",
      ">> Epoch 52 finished \tANN training loss 1.704173\n",
      ">> Epoch 53 finished \tANN training loss 1.691647\n",
      ">> Epoch 54 finished \tANN training loss 1.687624\n",
      ">> Epoch 55 finished \tANN training loss 1.686278\n",
      ">> Epoch 56 finished \tANN training loss 1.681228\n",
      ">> Epoch 57 finished \tANN training loss 1.680346\n",
      ">> Epoch 58 finished \tANN training loss 1.679652\n",
      ">> Epoch 59 finished \tANN training loss 1.660622\n",
      ">> Epoch 60 finished \tANN training loss 1.656548\n",
      ">> Epoch 61 finished \tANN training loss 1.663420\n",
      ">> Epoch 62 finished \tANN training loss 1.639634\n",
      ">> Epoch 63 finished \tANN training loss 1.621636\n",
      ">> Epoch 64 finished \tANN training loss 1.622742\n",
      ">> Epoch 65 finished \tANN training loss 1.628911\n",
      ">> Epoch 66 finished \tANN training loss 1.609891\n",
      ">> Epoch 67 finished \tANN training loss 1.610382\n",
      ">> Epoch 68 finished \tANN training loss 1.605808\n",
      ">> Epoch 69 finished \tANN training loss 1.611824\n",
      ">> Epoch 70 finished \tANN training loss 1.595811\n",
      ">> Epoch 71 finished \tANN training loss 1.602168\n",
      ">> Epoch 72 finished \tANN training loss 1.595432\n",
      ">> Epoch 73 finished \tANN training loss 1.574675\n",
      ">> Epoch 74 finished \tANN training loss 1.583538\n",
      ">> Epoch 75 finished \tANN training loss 1.568077\n",
      ">> Epoch 76 finished \tANN training loss 1.564675\n",
      ">> Epoch 77 finished \tANN training loss 1.548969\n",
      ">> Epoch 78 finished \tANN training loss 1.561653\n",
      ">> Epoch 79 finished \tANN training loss 1.545630\n",
      ">> Epoch 80 finished \tANN training loss 1.553991\n",
      ">> Epoch 81 finished \tANN training loss 1.538969\n",
      ">> Epoch 82 finished \tANN training loss 1.534468\n",
      ">> Epoch 83 finished \tANN training loss 1.538611\n",
      ">> Epoch 84 finished \tANN training loss 1.519548\n",
      ">> Epoch 85 finished \tANN training loss 1.525153\n",
      ">> Epoch 86 finished \tANN training loss 1.520310\n",
      ">> Epoch 87 finished \tANN training loss 1.512065\n",
      ">> Epoch 88 finished \tANN training loss 1.509711\n",
      ">> Epoch 89 finished \tANN training loss 1.504627\n",
      ">> Epoch 90 finished \tANN training loss 1.502996\n",
      ">> Epoch 91 finished \tANN training loss 1.495500\n",
      ">> Epoch 92 finished \tANN training loss 1.491680\n",
      ">> Epoch 93 finished \tANN training loss 1.489417\n",
      ">> Epoch 94 finished \tANN training loss 1.498211\n",
      ">> Epoch 95 finished \tANN training loss 1.492568\n",
      ">> Epoch 96 finished \tANN training loss 1.464628\n",
      ">> Epoch 97 finished \tANN training loss 1.460038\n",
      ">> Epoch 98 finished \tANN training loss 1.459802\n",
      ">> Epoch 99 finished \tANN training loss 1.458294\n",
      ">> Epoch 100 finished \tANN training loss 1.455960\n",
      ">> Epoch 101 finished \tANN training loss 1.436789\n",
      ">> Epoch 102 finished \tANN training loss 1.446693\n",
      ">> Epoch 103 finished \tANN training loss 1.439755\n",
      ">> Epoch 104 finished \tANN training loss 1.430707\n",
      ">> Epoch 105 finished \tANN training loss 1.428030\n",
      ">> Epoch 106 finished \tANN training loss 1.441073\n",
      ">> Epoch 107 finished \tANN training loss 1.434674\n",
      ">> Epoch 108 finished \tANN training loss 1.417086\n",
      ">> Epoch 109 finished \tANN training loss 1.421502\n",
      ">> Epoch 110 finished \tANN training loss 1.407033\n",
      ">> Epoch 111 finished \tANN training loss 1.410479\n",
      ">> Epoch 112 finished \tANN training loss 1.402004\n",
      ">> Epoch 113 finished \tANN training loss 1.397717\n",
      ">> Epoch 114 finished \tANN training loss 1.398306\n",
      ">> Epoch 115 finished \tANN training loss 1.400850\n",
      ">> Epoch 116 finished \tANN training loss 1.386542\n",
      ">> Epoch 117 finished \tANN training loss 1.379356\n",
      ">> Epoch 118 finished \tANN training loss 1.388137\n",
      ">> Epoch 119 finished \tANN training loss 1.381991\n",
      ">> Epoch 120 finished \tANN training loss 1.385608\n",
      ">> Epoch 121 finished \tANN training loss 1.364070\n",
      ">> Epoch 122 finished \tANN training loss 1.362233\n",
      ">> Epoch 123 finished \tANN training loss 1.367957\n",
      ">> Epoch 124 finished \tANN training loss 1.354524\n",
      ">> Epoch 125 finished \tANN training loss 1.348444\n",
      ">> Epoch 126 finished \tANN training loss 1.359513\n",
      ">> Epoch 127 finished \tANN training loss 1.354549\n",
      ">> Epoch 128 finished \tANN training loss 1.345025\n",
      ">> Epoch 129 finished \tANN training loss 1.345580\n",
      ">> Epoch 130 finished \tANN training loss 1.340830\n",
      ">> Epoch 131 finished \tANN training loss 1.331498\n",
      ">> Epoch 132 finished \tANN training loss 1.347463\n",
      ">> Epoch 133 finished \tANN training loss 1.327286\n",
      ">> Epoch 134 finished \tANN training loss 1.319746\n",
      ">> Epoch 135 finished \tANN training loss 1.310700\n",
      ">> Epoch 136 finished \tANN training loss 1.314036\n",
      ">> Epoch 137 finished \tANN training loss 1.299882\n",
      ">> Epoch 138 finished \tANN training loss 1.303183\n",
      ">> Epoch 139 finished \tANN training loss 1.312964\n",
      ">> Epoch 140 finished \tANN training loss 1.301560\n",
      ">> Epoch 141 finished \tANN training loss 1.301592\n",
      ">> Epoch 142 finished \tANN training loss 1.306353\n",
      ">> Epoch 143 finished \tANN training loss 1.293897\n",
      ">> Epoch 144 finished \tANN training loss 1.287388\n",
      ">> Epoch 145 finished \tANN training loss 1.278172\n",
      ">> Epoch 146 finished \tANN training loss 1.273990\n",
      ">> Epoch 147 finished \tANN training loss 1.287086\n",
      ">> Epoch 148 finished \tANN training loss 1.273880\n",
      ">> Epoch 149 finished \tANN training loss 1.282474\n",
      ">> Epoch 150 finished \tANN training loss 1.273149\n",
      ">> Epoch 151 finished \tANN training loss 1.262981\n",
      ">> Epoch 152 finished \tANN training loss 1.258730\n",
      ">> Epoch 153 finished \tANN training loss 1.255695\n",
      ">> Epoch 154 finished \tANN training loss 1.249676\n",
      ">> Epoch 155 finished \tANN training loss 1.243796\n",
      ">> Epoch 156 finished \tANN training loss 1.255856\n",
      ">> Epoch 157 finished \tANN training loss 1.242171\n",
      ">> Epoch 158 finished \tANN training loss 1.241782\n",
      ">> Epoch 159 finished \tANN training loss 1.245959\n",
      ">> Epoch 160 finished \tANN training loss 1.235322\n",
      ">> Epoch 161 finished \tANN training loss 1.236238\n",
      ">> Epoch 162 finished \tANN training loss 1.225035\n",
      ">> Epoch 163 finished \tANN training loss 1.225500\n",
      ">> Epoch 164 finished \tANN training loss 1.216625\n",
      ">> Epoch 165 finished \tANN training loss 1.227352\n",
      ">> Epoch 166 finished \tANN training loss 1.213959\n",
      ">> Epoch 167 finished \tANN training loss 1.216927\n",
      ">> Epoch 168 finished \tANN training loss 1.210197\n",
      ">> Epoch 169 finished \tANN training loss 1.203689\n",
      ">> Epoch 170 finished \tANN training loss 1.199725\n",
      ">> Epoch 171 finished \tANN training loss 1.194978\n",
      ">> Epoch 172 finished \tANN training loss 1.192724\n",
      ">> Epoch 173 finished \tANN training loss 1.192762\n",
      ">> Epoch 174 finished \tANN training loss 1.188658\n",
      ">> Epoch 175 finished \tANN training loss 1.194315\n",
      ">> Epoch 176 finished \tANN training loss 1.187384\n",
      ">> Epoch 177 finished \tANN training loss 1.188667\n",
      ">> Epoch 178 finished \tANN training loss 1.169807\n",
      ">> Epoch 179 finished \tANN training loss 1.176072\n",
      ">> Epoch 180 finished \tANN training loss 1.174899\n",
      ">> Epoch 181 finished \tANN training loss 1.170804\n",
      ">> Epoch 182 finished \tANN training loss 1.171737\n",
      ">> Epoch 183 finished \tANN training loss 1.160636\n",
      ">> Epoch 184 finished \tANN training loss 1.161062\n",
      ">> Epoch 185 finished \tANN training loss 1.162850\n",
      ">> Epoch 186 finished \tANN training loss 1.174023\n",
      ">> Epoch 187 finished \tANN training loss 1.161873\n",
      ">> Epoch 188 finished \tANN training loss 1.146897\n",
      ">> Epoch 189 finished \tANN training loss 1.150851\n",
      ">> Epoch 190 finished \tANN training loss 1.149505\n",
      ">> Epoch 191 finished \tANN training loss 1.145004\n",
      ">> Epoch 192 finished \tANN training loss 1.139179\n",
      ">> Epoch 193 finished \tANN training loss 1.140264\n",
      ">> Epoch 194 finished \tANN training loss 1.143167\n",
      ">> Epoch 195 finished \tANN training loss 1.129986\n",
      ">> Epoch 196 finished \tANN training loss 1.139283\n",
      ">> Epoch 197 finished \tANN training loss 1.129985\n",
      ">> Epoch 198 finished \tANN training loss 1.129744\n",
      ">> Epoch 199 finished \tANN training loss 1.125238\n",
      ">> Epoch 200 finished \tANN training loss 1.122265\n",
      "[END] Fine tuning step\n"
     ]
    },
    {
     "data": {
      "text/html": [
       "<style>#sk-container-id-3 {color: black;background-color: white;}#sk-container-id-3 pre{padding: 0;}#sk-container-id-3 div.sk-toggleable {background-color: white;}#sk-container-id-3 label.sk-toggleable__label {cursor: pointer;display: block;width: 100%;margin-bottom: 0;padding: 0.3em;box-sizing: border-box;text-align: center;}#sk-container-id-3 label.sk-toggleable__label-arrow:before {content: \"▸\";float: left;margin-right: 0.25em;color: #696969;}#sk-container-id-3 label.sk-toggleable__label-arrow:hover:before {color: black;}#sk-container-id-3 div.sk-estimator:hover label.sk-toggleable__label-arrow:before {color: black;}#sk-container-id-3 div.sk-toggleable__content {max-height: 0;max-width: 0;overflow: hidden;text-align: left;background-color: #f0f8ff;}#sk-container-id-3 div.sk-toggleable__content pre {margin: 0.2em;color: black;border-radius: 0.25em;background-color: #f0f8ff;}#sk-container-id-3 input.sk-toggleable__control:checked~div.sk-toggleable__content {max-height: 200px;max-width: 100%;overflow: auto;}#sk-container-id-3 input.sk-toggleable__control:checked~label.sk-toggleable__label-arrow:before {content: \"▾\";}#sk-container-id-3 div.sk-estimator input.sk-toggleable__control:checked~label.sk-toggleable__label {background-color: #d4ebff;}#sk-container-id-3 div.sk-label input.sk-toggleable__control:checked~label.sk-toggleable__label {background-color: #d4ebff;}#sk-container-id-3 input.sk-hidden--visually {border: 0;clip: rect(1px 1px 1px 1px);clip: rect(1px, 1px, 1px, 1px);height: 1px;margin: -1px;overflow: hidden;padding: 0;position: absolute;width: 1px;}#sk-container-id-3 div.sk-estimator {font-family: monospace;background-color: #f0f8ff;border: 1px dotted black;border-radius: 0.25em;box-sizing: border-box;margin-bottom: 0.5em;}#sk-container-id-3 div.sk-estimator:hover {background-color: #d4ebff;}#sk-container-id-3 div.sk-parallel-item::after {content: \"\";width: 100%;border-bottom: 1px solid gray;flex-grow: 1;}#sk-container-id-3 div.sk-label:hover label.sk-toggleable__label {background-color: #d4ebff;}#sk-container-id-3 div.sk-serial::before {content: \"\";position: absolute;border-left: 1px solid gray;box-sizing: border-box;top: 0;bottom: 0;left: 50%;z-index: 0;}#sk-container-id-3 div.sk-serial {display: flex;flex-direction: column;align-items: center;background-color: white;padding-right: 0.2em;padding-left: 0.2em;position: relative;}#sk-container-id-3 div.sk-item {position: relative;z-index: 1;}#sk-container-id-3 div.sk-parallel {display: flex;align-items: stretch;justify-content: center;background-color: white;position: relative;}#sk-container-id-3 div.sk-item::before, #sk-container-id-3 div.sk-parallel-item::before {content: \"\";position: absolute;border-left: 1px solid gray;box-sizing: border-box;top: 0;bottom: 0;left: 50%;z-index: -1;}#sk-container-id-3 div.sk-parallel-item {display: flex;flex-direction: column;z-index: 1;position: relative;background-color: white;}#sk-container-id-3 div.sk-parallel-item:first-child::after {align-self: flex-end;width: 50%;}#sk-container-id-3 div.sk-parallel-item:last-child::after {align-self: flex-start;width: 50%;}#sk-container-id-3 div.sk-parallel-item:only-child::after {width: 0;}#sk-container-id-3 div.sk-dashed-wrapped {border: 1px dashed gray;margin: 0 0.4em 0.5em 0.4em;box-sizing: border-box;padding-bottom: 0.4em;background-color: white;}#sk-container-id-3 div.sk-label label {font-family: monospace;font-weight: bold;display: inline-block;line-height: 1.2em;}#sk-container-id-3 div.sk-label-container {text-align: center;}#sk-container-id-3 div.sk-container {/* jupyter's `normalize.less` sets `[hidden] { display: none; }` but bootstrap.min.css set `[hidden] { display: none !important; }` so we also need the `!important` here to be able to override the default hidden behavior on the sphinx rendered scikit-learn.org. See: https://github.com/scikit-learn/scikit-learn/issues/21755 */display: inline-block !important;position: relative;}#sk-container-id-3 div.sk-text-repr-fallback {display: none;}</style><div id=\"sk-container-id-3\" class=\"sk-top-container\"><div class=\"sk-text-repr-fallback\"><pre>SupervisedDBNRegression()</pre><b>In a Jupyter environment, please rerun this cell to show the HTML representation or trust the notebook. <br />On GitHub, the HTML representation is unable to render, please try loading this page with nbviewer.org.</b></div><div class=\"sk-container\" hidden><div class=\"sk-item\"><div class=\"sk-estimator sk-toggleable\"><input class=\"sk-toggleable__control sk-hidden--visually\" id=\"sk-estimator-id-3\" type=\"checkbox\" checked><label for=\"sk-estimator-id-3\" class=\"sk-toggleable__label sk-toggleable__label-arrow\">SupervisedDBNRegression</label><div class=\"sk-toggleable__content\"><pre>SupervisedDBNRegression()</pre></div></div></div></div></div>"
      ],
      "text/plain": [
       "SupervisedDBNRegression()"
      ]
     },
     "execution_count": 42,
     "metadata": {},
     "output_type": "execute_result"
    }
   ],
   "source": [
    "model.fit(x_train, y_train)"
   ]
  },
  {
   "cell_type": "code",
   "execution_count": 24,
   "metadata": {},
   "outputs": [],
   "source": [
    "#history = model.fit(x_train,y_train,epochs=2000,batch_size=32,validation_split=0.3,verbose=0,callbacks=[es],shuffle=False)"
   ]
  },
  {
   "cell_type": "code",
   "execution_count": 25,
   "metadata": {},
   "outputs": [],
   "source": [
    "#plot_history(history,'loss')"
   ]
  },
  {
   "cell_type": "code",
   "execution_count": 43,
   "metadata": {},
   "outputs": [],
   "source": [
    "y_pred = model.predict(x_test)"
   ]
  },
  {
   "cell_type": "code",
   "execution_count": 27,
   "metadata": {},
   "outputs": [],
   "source": [
    "#shape = y_pred.shape\n",
    "#y_pred = y_pred.reshape(shape[0],shape[1])"
   ]
  },
  {
   "cell_type": "code",
   "execution_count": 44,
   "metadata": {},
   "outputs": [],
   "source": [
    "# dn_y_test = minmax_scaler_y_test.inverse_transform(y_test)\n",
    "# dn_y_pred = minmax_scaler_y_test.inverse_transform(y_pred)\n",
    "\n",
    "dn_y_test = std_scaler_y_test.inverse_transform(y_test)\n",
    "dn_y_pred = std_scaler_y_test.inverse_transform(y_pred)"
   ]
  },
  {
   "cell_type": "code",
   "execution_count": 45,
   "metadata": {},
   "outputs": [
    {
     "name": "stdout",
     "output_type": "stream",
     "text": [
      "[3.90825156 4.72065327 4.83506475]\n",
      "[5.41828936 6.37511215 6.86204428]\n",
      "[149.16297108 188.08522109 112.56073416]\n"
     ]
    }
   ],
   "source": [
    "print(mae(dn_y_test, dn_y_pred))\n",
    "print(rmse(dn_y_test, dn_y_pred))\n",
    "print(mape(dn_y_test,dn_y_pred))"
   ]
  },
  {
   "cell_type": "code",
   "execution_count": 46,
   "metadata": {},
   "outputs": [
    {
     "data": {
      "image/png": "[encoded data removed]",
      "text/plain": [
       "<Figure size 360x864 with 3 Axes>"
      ]
     },
     "metadata": {
      "needs_background": "light"
     },
     "output_type": "display_data"
    }
   ],
   "source": [
    "plot_pred(dn_y_test,dn_y_pred)"
   ]
  }
 ],
 "metadata": {
  "kernelspec": {
   "display_name": "Python 3.8.12 ('base')",
   "language": "python",
   "name": "python3"
  },
  "language_info": {
   "codemirror_mode": {
    "name": "ipython",
    "version": 3
   },
   "file_extension": ".py",
   "mimetype": "text/x-python",
   "name": "python",
   "nbconvert_exporter": "python",
   "pygments_lexer": "ipython3",
   "version": "3.8.12"
  },
  "orig_nbformat": 4,
  "vscode": {
   "interpreter": {
    "hash": "e6822839c80bb80c42f7f9e096efdd447a89633a8e8a553b5cfb2012f3a4eafe"
   }
  }
 },
 "nbformat": 4,
 "nbformat_minor": 2
}
