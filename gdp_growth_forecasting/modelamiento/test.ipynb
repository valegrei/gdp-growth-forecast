{
 "cells": [
  {
   "cell_type": "code",
   "execution_count": 1,
   "metadata": {},
   "outputs": [],
   "source": [
    "import sys\n",
    "sys.path.append(\"../libs/\")"
   ]
  },
  {
   "cell_type": "code",
   "execution_count": 2,
   "metadata": {},
   "outputs": [
    {
     "name": "stderr",
     "output_type": "stream",
     "text": [
      "Using TensorFlow backend.\n"
     ]
    }
   ],
   "source": [
    "import pandas as pd\n",
    "import numpy as np\n",
    "from sklearn.preprocessing import StandardScaler\n",
    "from utils import shift_join_data, mae,rmse,mape, plot_pred, plot_history, split_df\n",
    "from keras.models import load_model"
   ]
  },
  {
   "cell_type": "markdown",
   "metadata": {},
   "source": [
    "# Carga de datos"
   ]
  },
  {
   "cell_type": "code",
   "execution_count": 3,
   "metadata": {},
   "outputs": [],
   "source": [
    "df = pd.read_csv('../data/wb_dataset_prep.csv')\n",
    "df = df.drop('country',axis=1)\n",
    "iso = df['iso'].unique()    #Codigos de paises\n",
    "df = df.set_index(['iso','year'])"
   ]
  },
  {
   "cell_type": "code",
   "execution_count": 4,
   "metadata": {},
   "outputs": [],
   "source": [
    "#df_train, df_test = split_df(df, 0.3)\n",
    "#df_val = df_test.copy()"
   ]
  },
  {
   "cell_type": "code",
   "execution_count": 5,
   "metadata": {},
   "outputs": [
    {
     "name": "stdout",
     "output_type": "stream",
     "text": [
      "['DEU' 'AUS' 'AUT' 'BGD' 'BEL' 'BOL' 'BRA' 'CAN' 'CHL' 'CHN' 'COL' 'CRI'\n",
      " 'HRV' 'DNK' 'ECU' 'SLV' 'ESP' 'USA' 'EST' 'RUS' 'FIN' 'FRA' 'GRC' 'GTM'\n",
      " 'HND' 'HUN' 'IND' 'IDN' 'IRL' 'ISL' 'ISR' 'ITA' 'JPN' 'JOR' 'KEN' 'LTU'\n",
      " 'LUX' 'MYS' 'MLT' 'MAR' 'MEX' 'NGA' 'NOR' 'NLD' 'PAK' 'PAN' 'PRY' 'PER'\n",
      " 'POL' 'PRT' 'GBR' 'EGY' 'KOR' 'ROU' 'SWE' 'CHE' 'TUR' 'URY' 'NZL']\n"
     ]
    }
   ],
   "source": [
    "print(iso)"
   ]
  },
  {
   "cell_type": "code",
   "execution_count": 6,
   "metadata": {},
   "outputs": [
    {
     "name": "stdout",
     "output_type": "stream",
     "text": [
      "<class 'pandas.core.frame.DataFrame'>\n",
      "MultiIndex: 2444 entries, ('DEU', 1983) to ('NZL', 2021)\n",
      "Data columns (total 12 columns):\n",
      " #   Column       Non-Null Count  Dtype  \n",
      "---  ------       --------------  -----  \n",
      " 0   trade        2444 non-null   float64\n",
      " 1   exports      2444 non-null   float64\n",
      " 2   imports      2444 non-null   float64\n",
      " 3   ggfce        2444 non-null   float64\n",
      " 4   gfcf         2444 non-null   float64\n",
      " 5   unempl       2444 non-null   float64\n",
      " 6   rgdp_growth  2444 non-null   float64\n",
      " 7   infl_cpi     2444 non-null   float64\n",
      " 8   oil          2444 non-null   float64\n",
      " 9   gold         2444 non-null   float64\n",
      " 10  copper       2444 non-null   float64\n",
      " 11  sp500        2444 non-null   float64\n",
      "dtypes: float64(12)\n",
      "memory usage: 239.0+ KB\n"
     ]
    }
   ],
   "source": [
    "df.info()"
   ]
  },
  {
   "cell_type": "markdown",
   "metadata": {},
   "source": [
    "# Dividir Datos"
   ]
  },
  {
   "cell_type": "code",
   "execution_count": 7,
   "metadata": {},
   "outputs": [],
   "source": [
    "iso_test = ['PER']\n",
    "iso_train = iso[(iso != iso_test[0])]\n",
    "target_col = ['rgdp_growth']\n",
    "features = df.columns[(df.columns!=target_col[0])]"
   ]
  },
  {
   "cell_type": "code",
   "execution_count": 8,
   "metadata": {},
   "outputs": [
    {
     "name": "stdout",
     "output_type": "stream",
     "text": [
      "['DEU' 'AUS' 'AUT' 'BGD' 'BEL' 'BOL' 'BRA' 'CAN' 'CHL' 'CHN' 'COL' 'CRI'\n",
      " 'HRV' 'DNK' 'ECU' 'SLV' 'ESP' 'USA' 'EST' 'RUS' 'FIN' 'FRA' 'GRC' 'GTM'\n",
      " 'HND' 'HUN' 'IND' 'IDN' 'IRL' 'ISL' 'ISR' 'ITA' 'JPN' 'JOR' 'KEN' 'LTU'\n",
      " 'LUX' 'MYS' 'MLT' 'MAR' 'MEX' 'NGA' 'NOR' 'NLD' 'PAK' 'PAN' 'PRY' 'POL'\n",
      " 'PRT' 'GBR' 'EGY' 'KOR' 'ROU' 'SWE' 'CHE' 'TUR' 'URY' 'NZL']\n"
     ]
    }
   ],
   "source": [
    "print(iso_train)"
   ]
  },
  {
   "cell_type": "code",
   "execution_count": 9,
   "metadata": {},
   "outputs": [
    {
     "name": "stdout",
     "output_type": "stream",
     "text": [
      "Index(['trade', 'exports', 'imports', 'ggfce', 'gfcf', 'unempl', 'infl_cpi',\n",
      "       'oil', 'gold', 'copper', 'sp500'],\n",
      "      dtype='object')\n"
     ]
    }
   ],
   "source": [
    "print(features)"
   ]
  },
  {
   "cell_type": "code",
   "execution_count": 10,
   "metadata": {},
   "outputs": [],
   "source": [
    "_, df_test = split_df(df,1)"
   ]
  },
  {
   "cell_type": "markdown",
   "metadata": {},
   "source": [
    "# Normalizar"
   ]
  },
  {
   "cell_type": "code",
   "execution_count": 11,
   "metadata": {},
   "outputs": [],
   "source": [
    "df_x_train = df.loc[iso_train][features].copy()\n",
    "df_y_train = df.loc[iso_train][target_col].copy()\n",
    "df_x_test = df_test.loc[iso_test][features].copy()\n",
    "df_y_test = df_test.loc[iso_test][target_col].copy()\n",
    "\n",
    "# minmax_scaler_x_train = MinMaxScaler()\n",
    "# minmax_scaler_y_train = MinMaxScaler()\n",
    "# minmax_scaler_x_test = MinMaxScaler()\n",
    "# minmax_scaler_y_test = MinMaxScaler()\n",
    "\n",
    "std_scaler_x_train = StandardScaler()\n",
    "std_scaler_y_train = StandardScaler()\n",
    "std_scaler_x_test = StandardScaler()\n",
    "std_scaler_y_test = StandardScaler()\n",
    "\n",
    "# df_x_train.iloc[:,:] = minmax_scaler_x_train.fit_transform(df_x_train)\n",
    "# df_y_train.iloc[:,:] = minmax_scaler_y_train.fit_transform(df_y_train)\n",
    "# df_x_test.iloc[:,:] = minmax_scaler_x_test.fit_transform(df_x_test)\n",
    "# df_y_test.iloc[:,:] = minmax_scaler_y_test.fit_transform(df_y_test)\n",
    "\n",
    "df_x_train.iloc[:,:] = std_scaler_x_train.fit_transform(df_x_train)\n",
    "df_y_train.iloc[:,:] = std_scaler_y_train.fit_transform(df_y_train)\n",
    "df_x_test.iloc[:,:] = std_scaler_x_test.fit_transform(df_x_test)\n",
    "df_y_test.iloc[:,:] = std_scaler_y_test.fit_transform(df_y_test)\n",
    "\n",
    "df_x_train.iloc[:,:] = np.clip(df_x_train,-5,5)\n",
    "df_y_train.iloc[:,:] = np.clip(df_y_train,-5,5)\n",
    "df_x_test.iloc[:,:] = np.clip(df_x_test,-5,5)\n",
    "df_y_test.iloc[:,:] = np.clip(df_y_test,-5,5)"
   ]
  },
  {
   "cell_type": "markdown",
   "metadata": {},
   "source": [
    "# Generar variables lag y horizonte"
   ]
  },
  {
   "cell_type": "code",
   "execution_count": 12,
   "metadata": {},
   "outputs": [],
   "source": [
    "n_steps_in = 10\n",
    "n_steps_out = 3\n",
    "n_features = len(features)\n",
    "\n",
    "x_train, y_train = shift_join_data(df_x_train,df_y_train,iso_train,n_steps_in,n_steps_out)\n",
    "x_test, y_test = shift_join_data(df_x_test,df_y_test,iso_test,n_steps_in,n_steps_out)"
   ]
  },
  {
   "cell_type": "code",
   "execution_count": 13,
   "metadata": {},
   "outputs": [],
   "source": [
    "from tensorflow.keras.callbacks import EarlyStopping"
   ]
  },
  {
   "cell_type": "code",
   "execution_count": 14,
   "metadata": {},
   "outputs": [],
   "source": [
    "es = EarlyStopping(monitor='val_loss', mode='min', patience=50,restore_best_weights=True)"
   ]
  },
  {
   "cell_type": "code",
   "execution_count": 15,
   "metadata": {},
   "outputs": [],
   "source": [
    "n_batch = len(x_train)"
   ]
  },
  {
   "cell_type": "code",
   "execution_count": 16,
   "metadata": {},
   "outputs": [
    {
     "data": {
      "text/plain": [
       "1695"
      ]
     },
     "execution_count": 16,
     "metadata": {},
     "output_type": "execute_result"
    }
   ],
   "source": [
    "n_batch"
   ]
  },
  {
   "cell_type": "code",
   "execution_count": 17,
   "metadata": {},
   "outputs": [],
   "source": [
    "#mlp = build_mlp(n_steps_in,n_features,n_steps_out,304,4,1e-4,'relu')\n",
    "model = load_model('ajustes/GRU_20220723_1504.h5')"
   ]
  },
  {
   "cell_type": "code",
   "execution_count": 18,
   "metadata": {},
   "outputs": [],
   "source": [
    "# from keras import Sequential\n",
    "# from keras.layers import Conv1D, MaxPooling1D, Flatten, Dense, Dropout, LSTM, GRU\n",
    "# from tensorflow.keras.optimizers import Adam"
   ]
  },
  {
   "cell_type": "code",
   "execution_count": 19,
   "metadata": {},
   "outputs": [],
   "source": [
    "# kernels = 100\n",
    "# kernel_size = 4\n",
    "# activation = 'tanh'\n",
    "# #n_steps_in = 4\n",
    "# #n_features = 14\n",
    "# nodes = 150\n",
    "# #n_steps_out = 3\n",
    "# learning_rate = 1e-3\n",
    "# metrics = ['mse']"
   ]
  },
  {
   "cell_type": "code",
   "execution_count": 20,
   "metadata": {},
   "outputs": [],
   "source": [
    "# model = Sequential()\n",
    "# model.add(Flatten(input_shape=(n_steps_in, n_features)))\n",
    "# model.add(Dense(nodes, activation=activation))\n",
    "# model.add(Dense(nodes, activation=activation))\n",
    "# model.add(Dense(nodes, activation=activation))\n",
    "# model.add(Dense(nodes, activation=activation))\n",
    "# model.add(Dense(nodes, activation=activation))\n",
    "# model.add(Dropout(0.5))\n",
    "# model.add(Dense(n_steps_out))\n",
    "# model.compile(optimizer=Adam(learning_rate=learning_rate),\n",
    "#                 loss='mse', metrics=metrics)"
   ]
  },
  {
   "cell_type": "code",
   "execution_count": 21,
   "metadata": {},
   "outputs": [],
   "source": [
    "# kernels = 100\n",
    "# kernel_size = 4\n",
    "# activation = 'tanh'\n",
    "# #n_steps_in = 4\n",
    "# #n_features = 14\n",
    "# nodes = 150\n",
    "# #n_steps_out = 3\n",
    "# learning_rate = 1e-3\n",
    "# metrics = ['mse']"
   ]
  },
  {
   "cell_type": "code",
   "execution_count": 22,
   "metadata": {},
   "outputs": [],
   "source": [
    "# model = Sequential()\n",
    "# model.add(Conv1D(\n",
    "#     filters=kernels,\n",
    "#     kernel_size=kernel_size,\n",
    "#     activation=activation, \n",
    "#     padding='same',\n",
    "#     input_shape=(n_steps_in, n_features)))\n",
    "# model.add(MaxPooling1D(pool_size=kernel_size, padding='same'))\n",
    "# model.add(Dropout(0.2))\n",
    "# model.add(Conv1D(\n",
    "#     filters=kernels,\n",
    "#     kernel_size=kernel_size,\n",
    "#     activation=activation, \n",
    "#     padding='same'))\n",
    "# model.add(MaxPooling1D(pool_size=kernel_size, padding='same'))\n",
    "# model.add(Dropout(0.1))\n",
    "# model.add(Flatten())\n",
    "# model.add(Dense(nodes, activation=activation))\n",
    "# model.add(Dense(nodes, activation=activation))\n",
    "# model.add(Dropout(0.1))\n",
    "# model.add(Dense(n_steps_out))\n",
    "# model.compile(optimizer=Adam(learning_rate=learning_rate),\n",
    "#                 loss='mse', metrics=metrics)"
   ]
  },
  {
   "cell_type": "code",
   "execution_count": 23,
   "metadata": {},
   "outputs": [],
   "source": [
    "# cells = 150\n",
    "# activation1 = 'tanh'\n",
    "# activation2 = 'relu'\n",
    "# #n_steps_in = 9\n",
    "# #n_features = 14\n",
    "# nodes = 150\n",
    "# layers_lstm=3\n",
    "# n_steps_out = 3\n",
    "# learning_rate = 1e-3\n",
    "# metrics = ['mse']"
   ]
  },
  {
   "cell_type": "code",
   "execution_count": 24,
   "metadata": {},
   "outputs": [],
   "source": [
    "# #return_sequences = True\n",
    "# model = Sequential()\n",
    "# model.add(LSTM(cells, activation=activation1,\n",
    "#             return_sequences=False, input_shape=(n_steps_in, n_features)))\n",
    "# #model.add(LSTM(cells, return_sequences=True,activation=activation1))\n",
    "# #model.add(LSTM(cells, return_sequences=False,activation=activation1))\n",
    "# #model.add(LSTM(cells, return_sequences=False,activation=activation1))\n",
    "# model.add(Dropout(0.1))\n",
    "# model.add(Dense(nodes,activation=activation2))\n",
    "# model.add(Dense(nodes,activation=activation2))\n",
    "# model.add(Dropout(0.1))\n",
    "# model.add(Dense(n_steps_out))\n",
    "# model.compile(optimizer=Adam(learning_rate=learning_rate),\n",
    "#                 loss='mse', metrics=metrics)"
   ]
  },
  {
   "cell_type": "code",
   "execution_count": 25,
   "metadata": {},
   "outputs": [
    {
     "name": "stdout",
     "output_type": "stream",
     "text": [
      "Model: \"sequential_1\"\n",
      "_________________________________________________________________\n",
      "Layer (type)                 Output Shape              Param #   \n",
      "=================================================================\n",
      "gru_1 (GRU)                  (None, 160)               83040     \n",
      "_________________________________________________________________\n",
      "dropout_2 (Dropout)          (None, 160)               0         \n",
      "_________________________________________________________________\n",
      "dense_5 (Dense)              (None, 224)               36064     \n",
      "_________________________________________________________________\n",
      "dense_6 (Dense)              (None, 224)               50400     \n",
      "_________________________________________________________________\n",
      "dropout_3 (Dropout)          (None, 224)               0         \n",
      "_________________________________________________________________\n",
      "dense_7 (Dense)              (None, 3)                 675       \n",
      "=================================================================\n",
      "Total params: 170,179\n",
      "Trainable params: 170,179\n",
      "Non-trainable params: 0\n",
      "_________________________________________________________________\n"
     ]
    }
   ],
   "source": [
    "model.summary()"
   ]
  },
  {
   "cell_type": "code",
   "execution_count": 26,
   "metadata": {},
   "outputs": [],
   "source": [
    "history = model.fit(x_train,y_train,epochs=2000,batch_size=32,validation_split=0.3,verbose=0,callbacks=[es],shuffle=False)"
   ]
  },
  {
   "cell_type": "code",
   "execution_count": 27,
   "metadata": {},
   "outputs": [
    {
     "data": {
      "image/png": "[encoded data removed]",
      "text/plain": [
       "<Figure size 576x360 with 1 Axes>"
      ]
     },
     "metadata": {
      "needs_background": "light"
     },
     "output_type": "display_data"
    }
   ],
   "source": [
    "plot_history(history,'loss')"
   ]
  },
  {
   "cell_type": "code",
   "execution_count": 28,
   "metadata": {},
   "outputs": [],
   "source": [
    "y_pred = model.predict(x_test)"
   ]
  },
  {
   "cell_type": "code",
   "execution_count": 29,
   "metadata": {},
   "outputs": [],
   "source": [
    "# dn_y_test = minmax_scaler_y_test.inverse_transform(y_test)\n",
    "# dn_y_pred = minmax_scaler_y_test.inverse_transform(y_pred)\n",
    "\n",
    "dn_y_test = std_scaler_y_test.inverse_transform(y_test)\n",
    "dn_y_pred = std_scaler_y_test.inverse_transform(y_pred)"
   ]
  },
  {
   "cell_type": "code",
   "execution_count": 30,
   "metadata": {},
   "outputs": [
    {
     "name": "stdout",
     "output_type": "stream",
     "text": [
      "[3.57976307 3.73670525 3.94903898]\n",
      "[5.28952236 5.41006665 5.47157369]\n",
      "[158.77979707 137.06673485 147.69980655]\n"
     ]
    }
   ],
   "source": [
    "print(mae(dn_y_test, dn_y_pred))\n",
    "print(rmse(dn_y_test, dn_y_pred))\n",
    "print(mape(dn_y_test,dn_y_pred))"
   ]
  },
  {
   "cell_type": "code",
   "execution_count": 31,
   "metadata": {},
   "outputs": [
    {
     "data": {
      "image/png": "[encoded data removed]",
      "text/plain": [
       "<Figure size 360x864 with 3 Axes>"
      ]
     },
     "metadata": {
      "needs_background": "light"
     },
     "output_type": "display_data"
    }
   ],
   "source": [
    "plot_pred(dn_y_test, dn_y_pred)\n",
    "#plot_pred(y_test, y_pred)"
   ]
  }
 ],
 "metadata": {
  "kernelspec": {
   "display_name": "Python 3.8.12 ('entornoGPU')",
   "language": "python",
   "name": "python3"
  },
  "language_info": {
   "codemirror_mode": {
    "name": "ipython",
    "version": 3
   },
   "file_extension": ".py",
   "mimetype": "text/x-python",
   "name": "python",
   "nbconvert_exporter": "python",
   "pygments_lexer": "ipython3",
   "version": "3.8.12"
  },
  "orig_nbformat": 4,
  "vscode": {
   "interpreter": {
    "hash": "2b5f45148ae3128c6dd6e07223b4f800e24d99a74d72c1203f234d906a82ee07"
   }
  }
 },
 "nbformat": 4,
 "nbformat_minor": 2
}
