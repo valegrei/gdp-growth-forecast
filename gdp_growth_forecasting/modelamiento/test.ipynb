{
 "cells": [
  {
   "cell_type": "code",
   "execution_count": 1,
   "metadata": {},
   "outputs": [],
   "source": [
    "#%xmode Verbose"
   ]
  },
  {
   "cell_type": "code",
   "execution_count": 2,
   "metadata": {},
   "outputs": [],
   "source": [
    "import sys\n",
    "sys.path.append(\"../libs/\")\n",
    "sys.path.append(\"../../../deep-belief-network/\")"
   ]
  },
  {
   "cell_type": "code",
   "execution_count": 3,
   "metadata": {},
   "outputs": [],
   "source": [
    "from dbn.models import SupervisedDBNRegression"
   ]
  },
  {
   "cell_type": "code",
   "execution_count": 4,
   "metadata": {},
   "outputs": [],
   "source": [
    "import pandas as pd\n",
    "import numpy as np\n",
    "from sklearn.preprocessing import StandardScaler, MinMaxScaler\n",
    "from utils import shift_join_data, mae,rmse,mape, plot_pred, plot_history, split_df, flatten\n",
    "from keras.models import load_model"
   ]
  },
  {
   "cell_type": "markdown",
   "metadata": {},
   "source": [
    "# Carga de datos"
   ]
  },
  {
   "cell_type": "code",
   "execution_count": 5,
   "metadata": {},
   "outputs": [],
   "source": [
    "df = pd.read_csv('../data/wb_dataset_prep.csv')\n",
    "df = df.drop('country',axis=1)\n",
    "iso = df['iso'].unique()    #Codigos de paises\n",
    "df = df.set_index(['iso','year'])"
   ]
  },
  {
   "cell_type": "code",
   "execution_count": 6,
   "metadata": {},
   "outputs": [],
   "source": [
    "#df_train, df_test = split_df(df, 0.3)\n",
    "#df_val = df_test.copy()"
   ]
  },
  {
   "cell_type": "code",
   "execution_count": 7,
   "metadata": {},
   "outputs": [
    {
     "name": "stdout",
     "output_type": "stream",
     "text": [
      "['DEU' 'AUS' 'AUT' 'BGD' 'BEL' 'BOL' 'BRA' 'CAN' 'CHL' 'CHN' 'COL' 'CRI'\n",
      " 'HRV' 'DNK' 'ECU' 'SLV' 'ESP' 'USA' 'EST' 'RUS' 'FIN' 'FRA' 'GRC' 'GTM'\n",
      " 'HND' 'HUN' 'IND' 'IDN' 'IRL' 'ISL' 'ISR' 'ITA' 'JPN' 'JOR' 'KEN' 'LTU'\n",
      " 'LUX' 'MYS' 'MLT' 'MAR' 'MEX' 'NGA' 'NOR' 'NLD' 'PAK' 'PAN' 'PRY' 'PER'\n",
      " 'POL' 'PRT' 'GBR' 'EGY' 'KOR' 'ROU' 'SWE' 'CHE' 'TUR' 'URY' 'NZL']\n"
     ]
    }
   ],
   "source": [
    "print(iso)"
   ]
  },
  {
   "cell_type": "code",
   "execution_count": 8,
   "metadata": {},
   "outputs": [
    {
     "name": "stdout",
     "output_type": "stream",
     "text": [
      "<class 'pandas.core.frame.DataFrame'>\n",
      "MultiIndex: 2444 entries, ('DEU', 1983) to ('NZL', 2021)\n",
      "Data columns (total 12 columns):\n",
      " #   Column       Non-Null Count  Dtype  \n",
      "---  ------       --------------  -----  \n",
      " 0   trade        2444 non-null   float64\n",
      " 1   exports      2444 non-null   float64\n",
      " 2   imports      2444 non-null   float64\n",
      " 3   ggfce        2444 non-null   float64\n",
      " 4   gfcf         2444 non-null   float64\n",
      " 5   unempl       2444 non-null   float64\n",
      " 6   rgdp_growth  2444 non-null   float64\n",
      " 7   infl_cpi     2444 non-null   float64\n",
      " 8   oil          2444 non-null   float64\n",
      " 9   gold         2444 non-null   float64\n",
      " 10  copper       2444 non-null   float64\n",
      " 11  sp500        2444 non-null   float64\n",
      "dtypes: float64(12)\n",
      "memory usage: 239.0+ KB\n"
     ]
    }
   ],
   "source": [
    "df.info()"
   ]
  },
  {
   "cell_type": "markdown",
   "metadata": {},
   "source": [
    "# Dividir Datos"
   ]
  },
  {
   "cell_type": "code",
   "execution_count": 9,
   "metadata": {},
   "outputs": [],
   "source": [
    "iso_test = ['PER']\n",
    "iso_train = iso[(iso != iso_test[0])]\n",
    "target_col = ['rgdp_growth']\n",
    "features = df.columns[(df.columns!=target_col[0])]"
   ]
  },
  {
   "cell_type": "code",
   "execution_count": 10,
   "metadata": {},
   "outputs": [
    {
     "name": "stdout",
     "output_type": "stream",
     "text": [
      "['DEU' 'AUS' 'AUT' 'BGD' 'BEL' 'BOL' 'BRA' 'CAN' 'CHL' 'CHN' 'COL' 'CRI'\n",
      " 'HRV' 'DNK' 'ECU' 'SLV' 'ESP' 'USA' 'EST' 'RUS' 'FIN' 'FRA' 'GRC' 'GTM'\n",
      " 'HND' 'HUN' 'IND' 'IDN' 'IRL' 'ISL' 'ISR' 'ITA' 'JPN' 'JOR' 'KEN' 'LTU'\n",
      " 'LUX' 'MYS' 'MLT' 'MAR' 'MEX' 'NGA' 'NOR' 'NLD' 'PAK' 'PAN' 'PRY' 'POL'\n",
      " 'PRT' 'GBR' 'EGY' 'KOR' 'ROU' 'SWE' 'CHE' 'TUR' 'URY' 'NZL']\n"
     ]
    }
   ],
   "source": [
    "print(iso_train)"
   ]
  },
  {
   "cell_type": "code",
   "execution_count": 11,
   "metadata": {},
   "outputs": [
    {
     "name": "stdout",
     "output_type": "stream",
     "text": [
      "Index(['trade', 'exports', 'imports', 'ggfce', 'gfcf', 'unempl', 'infl_cpi',\n",
      "       'oil', 'gold', 'copper', 'sp500'],\n",
      "      dtype='object')\n"
     ]
    }
   ],
   "source": [
    "print(features)"
   ]
  },
  {
   "cell_type": "code",
   "execution_count": 47,
   "metadata": {},
   "outputs": [
    {
     "name": "stderr",
     "output_type": "stream",
     "text": [
      "g:\\tesis\\2022-1\\codigo\\gdp_growth_forecasting\\modelamiento\\../libs\\utils.py:32: FutureWarning: The frame.append method is deprecated and will be removed from pandas in a future version. Use pandas.concat instead.\n",
      "  df_train = df_train.append(df_temp.loc[ : test_year].copy())\n",
      "g:\\tesis\\2022-1\\codigo\\gdp_growth_forecasting\\modelamiento\\../libs\\utils.py:33: FutureWarning: The frame.append method is deprecated and will be removed from pandas in a future version. Use pandas.concat instead.\n",
      "  df_test = df_test.append(df_temp.loc[test_year : ].copy())\n",
      "g:\\tesis\\2022-1\\codigo\\gdp_growth_forecasting\\modelamiento\\../libs\\utils.py:32: FutureWarning: The frame.append method is deprecated and will be removed from pandas in a future version. Use pandas.concat instead.\n",
      "  df_train = df_train.append(df_temp.loc[ : test_year].copy())\n",
      "g:\\tesis\\2022-1\\codigo\\gdp_growth_forecasting\\modelamiento\\../libs\\utils.py:33: FutureWarning: The frame.append method is deprecated and will be removed from pandas in a future version. Use pandas.concat instead.\n",
      "  df_test = df_test.append(df_temp.loc[test_year : ].copy())\n",
      "g:\\tesis\\2022-1\\codigo\\gdp_growth_forecasting\\modelamiento\\../libs\\utils.py:32: FutureWarning: The frame.append method is deprecated and will be removed from pandas in a future version. Use pandas.concat instead.\n",
      "  df_train = df_train.append(df_temp.loc[ : test_year].copy())\n",
      "g:\\tesis\\2022-1\\codigo\\gdp_growth_forecasting\\modelamiento\\../libs\\utils.py:33: FutureWarning: The frame.append method is deprecated and will be removed from pandas in a future version. Use pandas.concat instead.\n",
      "  df_test = df_test.append(df_temp.loc[test_year : ].copy())\n",
      "g:\\tesis\\2022-1\\codigo\\gdp_growth_forecasting\\modelamiento\\../libs\\utils.py:32: FutureWarning: The frame.append method is deprecated and will be removed from pandas in a future version. Use pandas.concat instead.\n",
      "  df_train = df_train.append(df_temp.loc[ : test_year].copy())\n",
      "g:\\tesis\\2022-1\\codigo\\gdp_growth_forecasting\\modelamiento\\../libs\\utils.py:33: FutureWarning: The frame.append method is deprecated and will be removed from pandas in a future version. Use pandas.concat instead.\n",
      "  df_test = df_test.append(df_temp.loc[test_year : ].copy())\n",
      "g:\\tesis\\2022-1\\codigo\\gdp_growth_forecasting\\modelamiento\\../libs\\utils.py:32: FutureWarning: The frame.append method is deprecated and will be removed from pandas in a future version. Use pandas.concat instead.\n",
      "  df_train = df_train.append(df_temp.loc[ : test_year].copy())\n",
      "g:\\tesis\\2022-1\\codigo\\gdp_growth_forecasting\\modelamiento\\../libs\\utils.py:33: FutureWarning: The frame.append method is deprecated and will be removed from pandas in a future version. Use pandas.concat instead.\n",
      "  df_test = df_test.append(df_temp.loc[test_year : ].copy())\n",
      "g:\\tesis\\2022-1\\codigo\\gdp_growth_forecasting\\modelamiento\\../libs\\utils.py:32: FutureWarning: The frame.append method is deprecated and will be removed from pandas in a future version. Use pandas.concat instead.\n",
      "  df_train = df_train.append(df_temp.loc[ : test_year].copy())\n",
      "g:\\tesis\\2022-1\\codigo\\gdp_growth_forecasting\\modelamiento\\../libs\\utils.py:33: FutureWarning: The frame.append method is deprecated and will be removed from pandas in a future version. Use pandas.concat instead.\n",
      "  df_test = df_test.append(df_temp.loc[test_year : ].copy())\n",
      "g:\\tesis\\2022-1\\codigo\\gdp_growth_forecasting\\modelamiento\\../libs\\utils.py:32: FutureWarning: The frame.append method is deprecated and will be removed from pandas in a future version. Use pandas.concat instead.\n",
      "  df_train = df_train.append(df_temp.loc[ : test_year].copy())\n",
      "g:\\tesis\\2022-1\\codigo\\gdp_growth_forecasting\\modelamiento\\../libs\\utils.py:33: FutureWarning: The frame.append method is deprecated and will be removed from pandas in a future version. Use pandas.concat instead.\n",
      "  df_test = df_test.append(df_temp.loc[test_year : ].copy())\n",
      "g:\\tesis\\2022-1\\codigo\\gdp_growth_forecasting\\modelamiento\\../libs\\utils.py:32: FutureWarning: The frame.append method is deprecated and will be removed from pandas in a future version. Use pandas.concat instead.\n",
      "  df_train = df_train.append(df_temp.loc[ : test_year].copy())\n",
      "g:\\tesis\\2022-1\\codigo\\gdp_growth_forecasting\\modelamiento\\../libs\\utils.py:33: FutureWarning: The frame.append method is deprecated and will be removed from pandas in a future version. Use pandas.concat instead.\n",
      "  df_test = df_test.append(df_temp.loc[test_year : ].copy())\n",
      "g:\\tesis\\2022-1\\codigo\\gdp_growth_forecasting\\modelamiento\\../libs\\utils.py:32: FutureWarning: The frame.append method is deprecated and will be removed from pandas in a future version. Use pandas.concat instead.\n",
      "  df_train = df_train.append(df_temp.loc[ : test_year].copy())\n",
      "g:\\tesis\\2022-1\\codigo\\gdp_growth_forecasting\\modelamiento\\../libs\\utils.py:33: FutureWarning: The frame.append method is deprecated and will be removed from pandas in a future version. Use pandas.concat instead.\n",
      "  df_test = df_test.append(df_temp.loc[test_year : ].copy())\n",
      "g:\\tesis\\2022-1\\codigo\\gdp_growth_forecasting\\modelamiento\\../libs\\utils.py:32: FutureWarning: The frame.append method is deprecated and will be removed from pandas in a future version. Use pandas.concat instead.\n",
      "  df_train = df_train.append(df_temp.loc[ : test_year].copy())\n",
      "g:\\tesis\\2022-1\\codigo\\gdp_growth_forecasting\\modelamiento\\../libs\\utils.py:33: FutureWarning: The frame.append method is deprecated and will be removed from pandas in a future version. Use pandas.concat instead.\n",
      "  df_test = df_test.append(df_temp.loc[test_year : ].copy())\n",
      "g:\\tesis\\2022-1\\codigo\\gdp_growth_forecasting\\modelamiento\\../libs\\utils.py:32: FutureWarning: The frame.append method is deprecated and will be removed from pandas in a future version. Use pandas.concat instead.\n",
      "  df_train = df_train.append(df_temp.loc[ : test_year].copy())\n",
      "g:\\tesis\\2022-1\\codigo\\gdp_growth_forecasting\\modelamiento\\../libs\\utils.py:33: FutureWarning: The frame.append method is deprecated and will be removed from pandas in a future version. Use pandas.concat instead.\n",
      "  df_test = df_test.append(df_temp.loc[test_year : ].copy())\n",
      "g:\\tesis\\2022-1\\codigo\\gdp_growth_forecasting\\modelamiento\\../libs\\utils.py:32: FutureWarning: The frame.append method is deprecated and will be removed from pandas in a future version. Use pandas.concat instead.\n",
      "  df_train = df_train.append(df_temp.loc[ : test_year].copy())\n",
      "g:\\tesis\\2022-1\\codigo\\gdp_growth_forecasting\\modelamiento\\../libs\\utils.py:33: FutureWarning: The frame.append method is deprecated and will be removed from pandas in a future version. Use pandas.concat instead.\n",
      "  df_test = df_test.append(df_temp.loc[test_year : ].copy())\n",
      "g:\\tesis\\2022-1\\codigo\\gdp_growth_forecasting\\modelamiento\\../libs\\utils.py:32: FutureWarning: The frame.append method is deprecated and will be removed from pandas in a future version. Use pandas.concat instead.\n",
      "  df_train = df_train.append(df_temp.loc[ : test_year].copy())\n",
      "g:\\tesis\\2022-1\\codigo\\gdp_growth_forecasting\\modelamiento\\../libs\\utils.py:33: FutureWarning: The frame.append method is deprecated and will be removed from pandas in a future version. Use pandas.concat instead.\n",
      "  df_test = df_test.append(df_temp.loc[test_year : ].copy())\n",
      "g:\\tesis\\2022-1\\codigo\\gdp_growth_forecasting\\modelamiento\\../libs\\utils.py:32: FutureWarning: The frame.append method is deprecated and will be removed from pandas in a future version. Use pandas.concat instead.\n",
      "  df_train = df_train.append(df_temp.loc[ : test_year].copy())\n",
      "g:\\tesis\\2022-1\\codigo\\gdp_growth_forecasting\\modelamiento\\../libs\\utils.py:33: FutureWarning: The frame.append method is deprecated and will be removed from pandas in a future version. Use pandas.concat instead.\n",
      "  df_test = df_test.append(df_temp.loc[test_year : ].copy())\n",
      "g:\\tesis\\2022-1\\codigo\\gdp_growth_forecasting\\modelamiento\\../libs\\utils.py:32: FutureWarning: The frame.append method is deprecated and will be removed from pandas in a future version. Use pandas.concat instead.\n",
      "  df_train = df_train.append(df_temp.loc[ : test_year].copy())\n",
      "g:\\tesis\\2022-1\\codigo\\gdp_growth_forecasting\\modelamiento\\../libs\\utils.py:33: FutureWarning: The frame.append method is deprecated and will be removed from pandas in a future version. Use pandas.concat instead.\n",
      "  df_test = df_test.append(df_temp.loc[test_year : ].copy())\n",
      "g:\\tesis\\2022-1\\codigo\\gdp_growth_forecasting\\modelamiento\\../libs\\utils.py:32: FutureWarning: The frame.append method is deprecated and will be removed from pandas in a future version. Use pandas.concat instead.\n",
      "  df_train = df_train.append(df_temp.loc[ : test_year].copy())\n",
      "g:\\tesis\\2022-1\\codigo\\gdp_growth_forecasting\\modelamiento\\../libs\\utils.py:33: FutureWarning: The frame.append method is deprecated and will be removed from pandas in a future version. Use pandas.concat instead.\n",
      "  df_test = df_test.append(df_temp.loc[test_year : ].copy())\n",
      "g:\\tesis\\2022-1\\codigo\\gdp_growth_forecasting\\modelamiento\\../libs\\utils.py:32: FutureWarning: The frame.append method is deprecated and will be removed from pandas in a future version. Use pandas.concat instead.\n",
      "  df_train = df_train.append(df_temp.loc[ : test_year].copy())\n",
      "g:\\tesis\\2022-1\\codigo\\gdp_growth_forecasting\\modelamiento\\../libs\\utils.py:33: FutureWarning: The frame.append method is deprecated and will be removed from pandas in a future version. Use pandas.concat instead.\n",
      "  df_test = df_test.append(df_temp.loc[test_year : ].copy())\n",
      "g:\\tesis\\2022-1\\codigo\\gdp_growth_forecasting\\modelamiento\\../libs\\utils.py:32: FutureWarning: The frame.append method is deprecated and will be removed from pandas in a future version. Use pandas.concat instead.\n",
      "  df_train = df_train.append(df_temp.loc[ : test_year].copy())\n",
      "g:\\tesis\\2022-1\\codigo\\gdp_growth_forecasting\\modelamiento\\../libs\\utils.py:33: FutureWarning: The frame.append method is deprecated and will be removed from pandas in a future version. Use pandas.concat instead.\n",
      "  df_test = df_test.append(df_temp.loc[test_year : ].copy())\n",
      "g:\\tesis\\2022-1\\codigo\\gdp_growth_forecasting\\modelamiento\\../libs\\utils.py:32: FutureWarning: The frame.append method is deprecated and will be removed from pandas in a future version. Use pandas.concat instead.\n",
      "  df_train = df_train.append(df_temp.loc[ : test_year].copy())\n",
      "g:\\tesis\\2022-1\\codigo\\gdp_growth_forecasting\\modelamiento\\../libs\\utils.py:33: FutureWarning: The frame.append method is deprecated and will be removed from pandas in a future version. Use pandas.concat instead.\n",
      "  df_test = df_test.append(df_temp.loc[test_year : ].copy())\n",
      "g:\\tesis\\2022-1\\codigo\\gdp_growth_forecasting\\modelamiento\\../libs\\utils.py:32: FutureWarning: The frame.append method is deprecated and will be removed from pandas in a future version. Use pandas.concat instead.\n",
      "  df_train = df_train.append(df_temp.loc[ : test_year].copy())\n",
      "g:\\tesis\\2022-1\\codigo\\gdp_growth_forecasting\\modelamiento\\../libs\\utils.py:33: FutureWarning: The frame.append method is deprecated and will be removed from pandas in a future version. Use pandas.concat instead.\n",
      "  df_test = df_test.append(df_temp.loc[test_year : ].copy())\n",
      "g:\\tesis\\2022-1\\codigo\\gdp_growth_forecasting\\modelamiento\\../libs\\utils.py:32: FutureWarning: The frame.append method is deprecated and will be removed from pandas in a future version. Use pandas.concat instead.\n",
      "  df_train = df_train.append(df_temp.loc[ : test_year].copy())\n",
      "g:\\tesis\\2022-1\\codigo\\gdp_growth_forecasting\\modelamiento\\../libs\\utils.py:33: FutureWarning: The frame.append method is deprecated and will be removed from pandas in a future version. Use pandas.concat instead.\n",
      "  df_test = df_test.append(df_temp.loc[test_year : ].copy())\n",
      "g:\\tesis\\2022-1\\codigo\\gdp_growth_forecasting\\modelamiento\\../libs\\utils.py:32: FutureWarning: The frame.append method is deprecated and will be removed from pandas in a future version. Use pandas.concat instead.\n",
      "  df_train = df_train.append(df_temp.loc[ : test_year].copy())\n",
      "g:\\tesis\\2022-1\\codigo\\gdp_growth_forecasting\\modelamiento\\../libs\\utils.py:33: FutureWarning: The frame.append method is deprecated and will be removed from pandas in a future version. Use pandas.concat instead.\n",
      "  df_test = df_test.append(df_temp.loc[test_year : ].copy())\n",
      "g:\\tesis\\2022-1\\codigo\\gdp_growth_forecasting\\modelamiento\\../libs\\utils.py:32: FutureWarning: The frame.append method is deprecated and will be removed from pandas in a future version. Use pandas.concat instead.\n",
      "  df_train = df_train.append(df_temp.loc[ : test_year].copy())\n",
      "g:\\tesis\\2022-1\\codigo\\gdp_growth_forecasting\\modelamiento\\../libs\\utils.py:33: FutureWarning: The frame.append method is deprecated and will be removed from pandas in a future version. Use pandas.concat instead.\n",
      "  df_test = df_test.append(df_temp.loc[test_year : ].copy())\n",
      "g:\\tesis\\2022-1\\codigo\\gdp_growth_forecasting\\modelamiento\\../libs\\utils.py:32: FutureWarning: The frame.append method is deprecated and will be removed from pandas in a future version. Use pandas.concat instead.\n",
      "  df_train = df_train.append(df_temp.loc[ : test_year].copy())\n",
      "g:\\tesis\\2022-1\\codigo\\gdp_growth_forecasting\\modelamiento\\../libs\\utils.py:33: FutureWarning: The frame.append method is deprecated and will be removed from pandas in a future version. Use pandas.concat instead.\n",
      "  df_test = df_test.append(df_temp.loc[test_year : ].copy())\n",
      "g:\\tesis\\2022-1\\codigo\\gdp_growth_forecasting\\modelamiento\\../libs\\utils.py:32: FutureWarning: The frame.append method is deprecated and will be removed from pandas in a future version. Use pandas.concat instead.\n",
      "  df_train = df_train.append(df_temp.loc[ : test_year].copy())\n",
      "g:\\tesis\\2022-1\\codigo\\gdp_growth_forecasting\\modelamiento\\../libs\\utils.py:33: FutureWarning: The frame.append method is deprecated and will be removed from pandas in a future version. Use pandas.concat instead.\n",
      "  df_test = df_test.append(df_temp.loc[test_year : ].copy())\n",
      "g:\\tesis\\2022-1\\codigo\\gdp_growth_forecasting\\modelamiento\\../libs\\utils.py:32: FutureWarning: The frame.append method is deprecated and will be removed from pandas in a future version. Use pandas.concat instead.\n",
      "  df_train = df_train.append(df_temp.loc[ : test_year].copy())\n",
      "g:\\tesis\\2022-1\\codigo\\gdp_growth_forecasting\\modelamiento\\../libs\\utils.py:33: FutureWarning: The frame.append method is deprecated and will be removed from pandas in a future version. Use pandas.concat instead.\n",
      "  df_test = df_test.append(df_temp.loc[test_year : ].copy())\n",
      "g:\\tesis\\2022-1\\codigo\\gdp_growth_forecasting\\modelamiento\\../libs\\utils.py:32: FutureWarning: The frame.append method is deprecated and will be removed from pandas in a future version. Use pandas.concat instead.\n",
      "  df_train = df_train.append(df_temp.loc[ : test_year].copy())\n",
      "g:\\tesis\\2022-1\\codigo\\gdp_growth_forecasting\\modelamiento\\../libs\\utils.py:33: FutureWarning: The frame.append method is deprecated and will be removed from pandas in a future version. Use pandas.concat instead.\n",
      "  df_test = df_test.append(df_temp.loc[test_year : ].copy())\n",
      "g:\\tesis\\2022-1\\codigo\\gdp_growth_forecasting\\modelamiento\\../libs\\utils.py:32: FutureWarning: The frame.append method is deprecated and will be removed from pandas in a future version. Use pandas.concat instead.\n",
      "  df_train = df_train.append(df_temp.loc[ : test_year].copy())\n",
      "g:\\tesis\\2022-1\\codigo\\gdp_growth_forecasting\\modelamiento\\../libs\\utils.py:33: FutureWarning: The frame.append method is deprecated and will be removed from pandas in a future version. Use pandas.concat instead.\n",
      "  df_test = df_test.append(df_temp.loc[test_year : ].copy())\n",
      "g:\\tesis\\2022-1\\codigo\\gdp_growth_forecasting\\modelamiento\\../libs\\utils.py:32: FutureWarning: The frame.append method is deprecated and will be removed from pandas in a future version. Use pandas.concat instead.\n",
      "  df_train = df_train.append(df_temp.loc[ : test_year].copy())\n",
      "g:\\tesis\\2022-1\\codigo\\gdp_growth_forecasting\\modelamiento\\../libs\\utils.py:33: FutureWarning: The frame.append method is deprecated and will be removed from pandas in a future version. Use pandas.concat instead.\n",
      "  df_test = df_test.append(df_temp.loc[test_year : ].copy())\n",
      "g:\\tesis\\2022-1\\codigo\\gdp_growth_forecasting\\modelamiento\\../libs\\utils.py:32: FutureWarning: The frame.append method is deprecated and will be removed from pandas in a future version. Use pandas.concat instead.\n",
      "  df_train = df_train.append(df_temp.loc[ : test_year].copy())\n",
      "g:\\tesis\\2022-1\\codigo\\gdp_growth_forecasting\\modelamiento\\../libs\\utils.py:33: FutureWarning: The frame.append method is deprecated and will be removed from pandas in a future version. Use pandas.concat instead.\n",
      "  df_test = df_test.append(df_temp.loc[test_year : ].copy())\n",
      "g:\\tesis\\2022-1\\codigo\\gdp_growth_forecasting\\modelamiento\\../libs\\utils.py:32: FutureWarning: The frame.append method is deprecated and will be removed from pandas in a future version. Use pandas.concat instead.\n",
      "  df_train = df_train.append(df_temp.loc[ : test_year].copy())\n",
      "g:\\tesis\\2022-1\\codigo\\gdp_growth_forecasting\\modelamiento\\../libs\\utils.py:33: FutureWarning: The frame.append method is deprecated and will be removed from pandas in a future version. Use pandas.concat instead.\n",
      "  df_test = df_test.append(df_temp.loc[test_year : ].copy())\n",
      "g:\\tesis\\2022-1\\codigo\\gdp_growth_forecasting\\modelamiento\\../libs\\utils.py:32: FutureWarning: The frame.append method is deprecated and will be removed from pandas in a future version. Use pandas.concat instead.\n",
      "  df_train = df_train.append(df_temp.loc[ : test_year].copy())\n",
      "g:\\tesis\\2022-1\\codigo\\gdp_growth_forecasting\\modelamiento\\../libs\\utils.py:33: FutureWarning: The frame.append method is deprecated and will be removed from pandas in a future version. Use pandas.concat instead.\n",
      "  df_test = df_test.append(df_temp.loc[test_year : ].copy())\n",
      "g:\\tesis\\2022-1\\codigo\\gdp_growth_forecasting\\modelamiento\\../libs\\utils.py:32: FutureWarning: The frame.append method is deprecated and will be removed from pandas in a future version. Use pandas.concat instead.\n",
      "  df_train = df_train.append(df_temp.loc[ : test_year].copy())\n",
      "g:\\tesis\\2022-1\\codigo\\gdp_growth_forecasting\\modelamiento\\../libs\\utils.py:33: FutureWarning: The frame.append method is deprecated and will be removed from pandas in a future version. Use pandas.concat instead.\n",
      "  df_test = df_test.append(df_temp.loc[test_year : ].copy())\n",
      "g:\\tesis\\2022-1\\codigo\\gdp_growth_forecasting\\modelamiento\\../libs\\utils.py:32: FutureWarning: The frame.append method is deprecated and will be removed from pandas in a future version. Use pandas.concat instead.\n",
      "  df_train = df_train.append(df_temp.loc[ : test_year].copy())\n",
      "g:\\tesis\\2022-1\\codigo\\gdp_growth_forecasting\\modelamiento\\../libs\\utils.py:33: FutureWarning: The frame.append method is deprecated and will be removed from pandas in a future version. Use pandas.concat instead.\n",
      "  df_test = df_test.append(df_temp.loc[test_year : ].copy())\n",
      "g:\\tesis\\2022-1\\codigo\\gdp_growth_forecasting\\modelamiento\\../libs\\utils.py:32: FutureWarning: The frame.append method is deprecated and will be removed from pandas in a future version. Use pandas.concat instead.\n",
      "  df_train = df_train.append(df_temp.loc[ : test_year].copy())\n",
      "g:\\tesis\\2022-1\\codigo\\gdp_growth_forecasting\\modelamiento\\../libs\\utils.py:33: FutureWarning: The frame.append method is deprecated and will be removed from pandas in a future version. Use pandas.concat instead.\n",
      "  df_test = df_test.append(df_temp.loc[test_year : ].copy())\n",
      "g:\\tesis\\2022-1\\codigo\\gdp_growth_forecasting\\modelamiento\\../libs\\utils.py:32: FutureWarning: The frame.append method is deprecated and will be removed from pandas in a future version. Use pandas.concat instead.\n",
      "  df_train = df_train.append(df_temp.loc[ : test_year].copy())\n",
      "g:\\tesis\\2022-1\\codigo\\gdp_growth_forecasting\\modelamiento\\../libs\\utils.py:33: FutureWarning: The frame.append method is deprecated and will be removed from pandas in a future version. Use pandas.concat instead.\n",
      "  df_test = df_test.append(df_temp.loc[test_year : ].copy())\n",
      "g:\\tesis\\2022-1\\codigo\\gdp_growth_forecasting\\modelamiento\\../libs\\utils.py:32: FutureWarning: The frame.append method is deprecated and will be removed from pandas in a future version. Use pandas.concat instead.\n",
      "  df_train = df_train.append(df_temp.loc[ : test_year].copy())\n",
      "g:\\tesis\\2022-1\\codigo\\gdp_growth_forecasting\\modelamiento\\../libs\\utils.py:33: FutureWarning: The frame.append method is deprecated and will be removed from pandas in a future version. Use pandas.concat instead.\n",
      "  df_test = df_test.append(df_temp.loc[test_year : ].copy())\n",
      "g:\\tesis\\2022-1\\codigo\\gdp_growth_forecasting\\modelamiento\\../libs\\utils.py:32: FutureWarning: The frame.append method is deprecated and will be removed from pandas in a future version. Use pandas.concat instead.\n",
      "  df_train = df_train.append(df_temp.loc[ : test_year].copy())\n",
      "g:\\tesis\\2022-1\\codigo\\gdp_growth_forecasting\\modelamiento\\../libs\\utils.py:33: FutureWarning: The frame.append method is deprecated and will be removed from pandas in a future version. Use pandas.concat instead.\n",
      "  df_test = df_test.append(df_temp.loc[test_year : ].copy())\n",
      "g:\\tesis\\2022-1\\codigo\\gdp_growth_forecasting\\modelamiento\\../libs\\utils.py:32: FutureWarning: The frame.append method is deprecated and will be removed from pandas in a future version. Use pandas.concat instead.\n",
      "  df_train = df_train.append(df_temp.loc[ : test_year].copy())\n",
      "g:\\tesis\\2022-1\\codigo\\gdp_growth_forecasting\\modelamiento\\../libs\\utils.py:33: FutureWarning: The frame.append method is deprecated and will be removed from pandas in a future version. Use pandas.concat instead.\n",
      "  df_test = df_test.append(df_temp.loc[test_year : ].copy())\n",
      "g:\\tesis\\2022-1\\codigo\\gdp_growth_forecasting\\modelamiento\\../libs\\utils.py:32: FutureWarning: The frame.append method is deprecated and will be removed from pandas in a future version. Use pandas.concat instead.\n",
      "  df_train = df_train.append(df_temp.loc[ : test_year].copy())\n",
      "g:\\tesis\\2022-1\\codigo\\gdp_growth_forecasting\\modelamiento\\../libs\\utils.py:33: FutureWarning: The frame.append method is deprecated and will be removed from pandas in a future version. Use pandas.concat instead.\n",
      "  df_test = df_test.append(df_temp.loc[test_year : ].copy())\n",
      "g:\\tesis\\2022-1\\codigo\\gdp_growth_forecasting\\modelamiento\\../libs\\utils.py:32: FutureWarning: The frame.append method is deprecated and will be removed from pandas in a future version. Use pandas.concat instead.\n",
      "  df_train = df_train.append(df_temp.loc[ : test_year].copy())\n",
      "g:\\tesis\\2022-1\\codigo\\gdp_growth_forecasting\\modelamiento\\../libs\\utils.py:33: FutureWarning: The frame.append method is deprecated and will be removed from pandas in a future version. Use pandas.concat instead.\n",
      "  df_test = df_test.append(df_temp.loc[test_year : ].copy())\n",
      "g:\\tesis\\2022-1\\codigo\\gdp_growth_forecasting\\modelamiento\\../libs\\utils.py:32: FutureWarning: The frame.append method is deprecated and will be removed from pandas in a future version. Use pandas.concat instead.\n",
      "  df_train = df_train.append(df_temp.loc[ : test_year].copy())\n",
      "g:\\tesis\\2022-1\\codigo\\gdp_growth_forecasting\\modelamiento\\../libs\\utils.py:33: FutureWarning: The frame.append method is deprecated and will be removed from pandas in a future version. Use pandas.concat instead.\n",
      "  df_test = df_test.append(df_temp.loc[test_year : ].copy())\n",
      "g:\\tesis\\2022-1\\codigo\\gdp_growth_forecasting\\modelamiento\\../libs\\utils.py:32: FutureWarning: The frame.append method is deprecated and will be removed from pandas in a future version. Use pandas.concat instead.\n",
      "  df_train = df_train.append(df_temp.loc[ : test_year].copy())\n",
      "g:\\tesis\\2022-1\\codigo\\gdp_growth_forecasting\\modelamiento\\../libs\\utils.py:33: FutureWarning: The frame.append method is deprecated and will be removed from pandas in a future version. Use pandas.concat instead.\n",
      "  df_test = df_test.append(df_temp.loc[test_year : ].copy())\n",
      "g:\\tesis\\2022-1\\codigo\\gdp_growth_forecasting\\modelamiento\\../libs\\utils.py:32: FutureWarning: The frame.append method is deprecated and will be removed from pandas in a future version. Use pandas.concat instead.\n",
      "  df_train = df_train.append(df_temp.loc[ : test_year].copy())\n",
      "g:\\tesis\\2022-1\\codigo\\gdp_growth_forecasting\\modelamiento\\../libs\\utils.py:33: FutureWarning: The frame.append method is deprecated and will be removed from pandas in a future version. Use pandas.concat instead.\n",
      "  df_test = df_test.append(df_temp.loc[test_year : ].copy())\n",
      "g:\\tesis\\2022-1\\codigo\\gdp_growth_forecasting\\modelamiento\\../libs\\utils.py:32: FutureWarning: The frame.append method is deprecated and will be removed from pandas in a future version. Use pandas.concat instead.\n",
      "  df_train = df_train.append(df_temp.loc[ : test_year].copy())\n",
      "g:\\tesis\\2022-1\\codigo\\gdp_growth_forecasting\\modelamiento\\../libs\\utils.py:33: FutureWarning: The frame.append method is deprecated and will be removed from pandas in a future version. Use pandas.concat instead.\n",
      "  df_test = df_test.append(df_temp.loc[test_year : ].copy())\n",
      "g:\\tesis\\2022-1\\codigo\\gdp_growth_forecasting\\modelamiento\\../libs\\utils.py:32: FutureWarning: The frame.append method is deprecated and will be removed from pandas in a future version. Use pandas.concat instead.\n",
      "  df_train = df_train.append(df_temp.loc[ : test_year].copy())\n",
      "g:\\tesis\\2022-1\\codigo\\gdp_growth_forecasting\\modelamiento\\../libs\\utils.py:33: FutureWarning: The frame.append method is deprecated and will be removed from pandas in a future version. Use pandas.concat instead.\n",
      "  df_test = df_test.append(df_temp.loc[test_year : ].copy())\n",
      "g:\\tesis\\2022-1\\codigo\\gdp_growth_forecasting\\modelamiento\\../libs\\utils.py:32: FutureWarning: The frame.append method is deprecated and will be removed from pandas in a future version. Use pandas.concat instead.\n",
      "  df_train = df_train.append(df_temp.loc[ : test_year].copy())\n",
      "g:\\tesis\\2022-1\\codigo\\gdp_growth_forecasting\\modelamiento\\../libs\\utils.py:33: FutureWarning: The frame.append method is deprecated and will be removed from pandas in a future version. Use pandas.concat instead.\n",
      "  df_test = df_test.append(df_temp.loc[test_year : ].copy())\n",
      "g:\\tesis\\2022-1\\codigo\\gdp_growth_forecasting\\modelamiento\\../libs\\utils.py:32: FutureWarning: The frame.append method is deprecated and will be removed from pandas in a future version. Use pandas.concat instead.\n",
      "  df_train = df_train.append(df_temp.loc[ : test_year].copy())\n",
      "g:\\tesis\\2022-1\\codigo\\gdp_growth_forecasting\\modelamiento\\../libs\\utils.py:33: FutureWarning: The frame.append method is deprecated and will be removed from pandas in a future version. Use pandas.concat instead.\n",
      "  df_test = df_test.append(df_temp.loc[test_year : ].copy())\n",
      "g:\\tesis\\2022-1\\codigo\\gdp_growth_forecasting\\modelamiento\\../libs\\utils.py:32: FutureWarning: The frame.append method is deprecated and will be removed from pandas in a future version. Use pandas.concat instead.\n",
      "  df_train = df_train.append(df_temp.loc[ : test_year].copy())\n",
      "g:\\tesis\\2022-1\\codigo\\gdp_growth_forecasting\\modelamiento\\../libs\\utils.py:33: FutureWarning: The frame.append method is deprecated and will be removed from pandas in a future version. Use pandas.concat instead.\n",
      "  df_test = df_test.append(df_temp.loc[test_year : ].copy())\n",
      "g:\\tesis\\2022-1\\codigo\\gdp_growth_forecasting\\modelamiento\\../libs\\utils.py:32: FutureWarning: The frame.append method is deprecated and will be removed from pandas in a future version. Use pandas.concat instead.\n",
      "  df_train = df_train.append(df_temp.loc[ : test_year].copy())\n",
      "g:\\tesis\\2022-1\\codigo\\gdp_growth_forecasting\\modelamiento\\../libs\\utils.py:33: FutureWarning: The frame.append method is deprecated and will be removed from pandas in a future version. Use pandas.concat instead.\n",
      "  df_test = df_test.append(df_temp.loc[test_year : ].copy())\n",
      "g:\\tesis\\2022-1\\codigo\\gdp_growth_forecasting\\modelamiento\\../libs\\utils.py:32: FutureWarning: The frame.append method is deprecated and will be removed from pandas in a future version. Use pandas.concat instead.\n",
      "  df_train = df_train.append(df_temp.loc[ : test_year].copy())\n",
      "g:\\tesis\\2022-1\\codigo\\gdp_growth_forecasting\\modelamiento\\../libs\\utils.py:33: FutureWarning: The frame.append method is deprecated and will be removed from pandas in a future version. Use pandas.concat instead.\n",
      "  df_test = df_test.append(df_temp.loc[test_year : ].copy())\n",
      "g:\\tesis\\2022-1\\codigo\\gdp_growth_forecasting\\modelamiento\\../libs\\utils.py:32: FutureWarning: The frame.append method is deprecated and will be removed from pandas in a future version. Use pandas.concat instead.\n",
      "  df_train = df_train.append(df_temp.loc[ : test_year].copy())\n",
      "g:\\tesis\\2022-1\\codigo\\gdp_growth_forecasting\\modelamiento\\../libs\\utils.py:33: FutureWarning: The frame.append method is deprecated and will be removed from pandas in a future version. Use pandas.concat instead.\n",
      "  df_test = df_test.append(df_temp.loc[test_year : ].copy())\n",
      "g:\\tesis\\2022-1\\codigo\\gdp_growth_forecasting\\modelamiento\\../libs\\utils.py:32: FutureWarning: The frame.append method is deprecated and will be removed from pandas in a future version. Use pandas.concat instead.\n",
      "  df_train = df_train.append(df_temp.loc[ : test_year].copy())\n",
      "g:\\tesis\\2022-1\\codigo\\gdp_growth_forecasting\\modelamiento\\../libs\\utils.py:33: FutureWarning: The frame.append method is deprecated and will be removed from pandas in a future version. Use pandas.concat instead.\n",
      "  df_test = df_test.append(df_temp.loc[test_year : ].copy())\n",
      "g:\\tesis\\2022-1\\codigo\\gdp_growth_forecasting\\modelamiento\\../libs\\utils.py:32: FutureWarning: The frame.append method is deprecated and will be removed from pandas in a future version. Use pandas.concat instead.\n",
      "  df_train = df_train.append(df_temp.loc[ : test_year].copy())\n",
      "g:\\tesis\\2022-1\\codigo\\gdp_growth_forecasting\\modelamiento\\../libs\\utils.py:33: FutureWarning: The frame.append method is deprecated and will be removed from pandas in a future version. Use pandas.concat instead.\n",
      "  df_test = df_test.append(df_temp.loc[test_year : ].copy())\n",
      "g:\\tesis\\2022-1\\codigo\\gdp_growth_forecasting\\modelamiento\\../libs\\utils.py:32: FutureWarning: The frame.append method is deprecated and will be removed from pandas in a future version. Use pandas.concat instead.\n",
      "  df_train = df_train.append(df_temp.loc[ : test_year].copy())\n",
      "g:\\tesis\\2022-1\\codigo\\gdp_growth_forecasting\\modelamiento\\../libs\\utils.py:33: FutureWarning: The frame.append method is deprecated and will be removed from pandas in a future version. Use pandas.concat instead.\n",
      "  df_test = df_test.append(df_temp.loc[test_year : ].copy())\n",
      "g:\\tesis\\2022-1\\codigo\\gdp_growth_forecasting\\modelamiento\\../libs\\utils.py:32: FutureWarning: The frame.append method is deprecated and will be removed from pandas in a future version. Use pandas.concat instead.\n",
      "  df_train = df_train.append(df_temp.loc[ : test_year].copy())\n",
      "g:\\tesis\\2022-1\\codigo\\gdp_growth_forecasting\\modelamiento\\../libs\\utils.py:33: FutureWarning: The frame.append method is deprecated and will be removed from pandas in a future version. Use pandas.concat instead.\n",
      "  df_test = df_test.append(df_temp.loc[test_year : ].copy())\n",
      "g:\\tesis\\2022-1\\codigo\\gdp_growth_forecasting\\modelamiento\\../libs\\utils.py:32: FutureWarning: The frame.append method is deprecated and will be removed from pandas in a future version. Use pandas.concat instead.\n",
      "  df_train = df_train.append(df_temp.loc[ : test_year].copy())\n",
      "g:\\tesis\\2022-1\\codigo\\gdp_growth_forecasting\\modelamiento\\../libs\\utils.py:33: FutureWarning: The frame.append method is deprecated and will be removed from pandas in a future version. Use pandas.concat instead.\n",
      "  df_test = df_test.append(df_temp.loc[test_year : ].copy())\n",
      "g:\\tesis\\2022-1\\codigo\\gdp_growth_forecasting\\modelamiento\\../libs\\utils.py:32: FutureWarning: The frame.append method is deprecated and will be removed from pandas in a future version. Use pandas.concat instead.\n",
      "  df_train = df_train.append(df_temp.loc[ : test_year].copy())\n",
      "g:\\tesis\\2022-1\\codigo\\gdp_growth_forecasting\\modelamiento\\../libs\\utils.py:33: FutureWarning: The frame.append method is deprecated and will be removed from pandas in a future version. Use pandas.concat instead.\n",
      "  df_test = df_test.append(df_temp.loc[test_year : ].copy())\n",
      "g:\\tesis\\2022-1\\codigo\\gdp_growth_forecasting\\modelamiento\\../libs\\utils.py:32: FutureWarning: The frame.append method is deprecated and will be removed from pandas in a future version. Use pandas.concat instead.\n",
      "  df_train = df_train.append(df_temp.loc[ : test_year].copy())\n",
      "g:\\tesis\\2022-1\\codigo\\gdp_growth_forecasting\\modelamiento\\../libs\\utils.py:33: FutureWarning: The frame.append method is deprecated and will be removed from pandas in a future version. Use pandas.concat instead.\n",
      "  df_test = df_test.append(df_temp.loc[test_year : ].copy())\n"
     ]
    }
   ],
   "source": [
    "_, df_test = split_df(df,0.4)"
   ]
  },
  {
   "cell_type": "markdown",
   "metadata": {},
   "source": [
    "# Normalizar"
   ]
  },
  {
   "cell_type": "code",
   "execution_count": 48,
   "metadata": {},
   "outputs": [],
   "source": [
    "df_x_train = df.loc[iso_train][features].copy()\n",
    "df_y_train = df.loc[iso_train][target_col].copy()\n",
    "df_x_test = df_test.loc[iso_test][features].copy()\n",
    "df_y_test = df_test.loc[iso_test][target_col].copy()\n",
    "\n",
    "# minmax_scaler_x_train = MinMaxScaler()\n",
    "# minmax_scaler_y_train = MinMaxScaler()\n",
    "# minmax_scaler_x_test = MinMaxScaler()\n",
    "# minmax_scaler_y_test = MinMaxScaler()\n",
    "\n",
    "std_scaler_x_train = StandardScaler()\n",
    "std_scaler_y_train = StandardScaler()\n",
    "std_scaler_x_test = StandardScaler()\n",
    "std_scaler_y_test = StandardScaler()\n",
    "\n",
    "# df_x_train.iloc[:,:] = minmax_scaler_x_train.fit_transform(df_x_train)\n",
    "# df_y_train.iloc[:,:] = minmax_scaler_y_train.fit_transform(df_y_train)\n",
    "# df_x_test.iloc[:,:] = minmax_scaler_x_test.fit_transform(df_x_test)\n",
    "# df_y_test.iloc[:,:] = minmax_scaler_y_test.fit_transform(df_y_test)\n",
    "\n",
    "df_x_train.iloc[:,:] = std_scaler_x_train.fit_transform(df_x_train)\n",
    "df_y_train.iloc[:,:] = std_scaler_y_train.fit_transform(df_y_train)\n",
    "df_x_test.iloc[:,:] = std_scaler_x_test.fit_transform(df_x_test)\n",
    "df_y_test.iloc[:,:] = std_scaler_y_test.fit_transform(df_y_test)\n",
    "\n",
    "df_x_train.iloc[:,:] = np.clip(df_x_train,-3,3)\n",
    "df_y_train.iloc[:,:] = np.clip(df_y_train,-3,3)\n",
    "df_x_test.iloc[:,:] = np.clip(df_x_test,-3,3)\n",
    "df_y_test.iloc[:,:] = np.clip(df_y_test,-3,3)"
   ]
  },
  {
   "cell_type": "markdown",
   "metadata": {},
   "source": [
    "# Generar variables lag y horizonte"
   ]
  },
  {
   "cell_type": "code",
   "execution_count": 49,
   "metadata": {},
   "outputs": [],
   "source": [
    "n_steps_in = 10\n",
    "n_steps_out = 3\n",
    "n_features = len(features)\n",
    "\n",
    "x_train, y_train = shift_join_data(df_x_train,df_y_train,iso_train,n_steps_in,n_steps_out)\n",
    "x_test, y_test = shift_join_data(df_x_test,df_y_test,iso_test,n_steps_in,n_steps_out)"
   ]
  },
  {
   "cell_type": "code",
   "execution_count": 15,
   "metadata": {},
   "outputs": [],
   "source": [
    "from tensorflow.keras.callbacks import EarlyStopping"
   ]
  },
  {
   "cell_type": "code",
   "execution_count": 16,
   "metadata": {},
   "outputs": [],
   "source": [
    "es = EarlyStopping(monitor='val_loss', mode='min', patience=50,restore_best_weights=True)"
   ]
  },
  {
   "cell_type": "code",
   "execution_count": 17,
   "metadata": {},
   "outputs": [],
   "source": [
    "n_batch = len(x_train)"
   ]
  },
  {
   "cell_type": "code",
   "execution_count": 18,
   "metadata": {},
   "outputs": [
    {
     "data": {
      "text/plain": [
       "1695"
      ]
     },
     "execution_count": 18,
     "metadata": {},
     "output_type": "execute_result"
    }
   ],
   "source": [
    "n_batch"
   ]
  },
  {
   "cell_type": "code",
   "execution_count": null,
   "metadata": {},
   "outputs": [],
   "source": []
  },
  {
   "cell_type": "code",
   "execution_count": 19,
   "metadata": {},
   "outputs": [],
   "source": [
    "#mlp = build_mlp(n_steps_in,n_features,n_steps_out,304,4,1e-4,'relu')\n",
    "#model = load_model('ajustes/Seq2Seq_20220724_2143.h5')"
   ]
  },
  {
   "cell_type": "code",
   "execution_count": 20,
   "metadata": {},
   "outputs": [],
   "source": [
    "nodes = 200\n",
    "rbm_layers = 3\n",
    "h_layers_structure = [nodes for i in range(rbm_layers)]\n",
    "learning_rate_rbm=1e-4\n",
    "learning_rate=1e-2\n",
    "n_epochs = 20\n",
    "n_iter_backprop=200\n",
    "batch_size=32\n",
    "activation_function='relu'\n",
    "dropout_p = 0.1"
   ]
  },
  {
   "cell_type": "code",
   "execution_count": 21,
   "metadata": {},
   "outputs": [],
   "source": [
    "model = SupervisedDBNRegression(\n",
    "    hidden_layers_structure = h_layers_structure,\n",
    "    learning_rate_rbm = learning_rate_rbm,\n",
    "    learning_rate = learning_rate,\n",
    "    n_epochs_rbm = n_epochs,\n",
    "    n_iter_backprop = n_iter_backprop,\n",
    "    batch_size = batch_size,\n",
    "    activation_function = activation_function,\n",
    "    dropout_p = dropout_p,\n",
    "    verbose = False\n",
    ")"
   ]
  },
  {
   "cell_type": "code",
   "execution_count": 50,
   "metadata": {},
   "outputs": [],
   "source": [
    "x_train = flatten(x_train)\n",
    "x_test = flatten(x_test)\n",
    "#y_train = y_train.flatten()\n",
    "#y_test = y_test.flatten()"
   ]
  },
  {
   "cell_type": "code",
   "execution_count": 23,
   "metadata": {},
   "outputs": [
    {
     "data": {
      "text/html": [
       "<style>#sk-container-id-1 {color: black;background-color: white;}#sk-container-id-1 pre{padding: 0;}#sk-container-id-1 div.sk-toggleable {background-color: white;}#sk-container-id-1 label.sk-toggleable__label {cursor: pointer;display: block;width: 100%;margin-bottom: 0;padding: 0.3em;box-sizing: border-box;text-align: center;}#sk-container-id-1 label.sk-toggleable__label-arrow:before {content: \"▸\";float: left;margin-right: 0.25em;color: #696969;}#sk-container-id-1 label.sk-toggleable__label-arrow:hover:before {color: black;}#sk-container-id-1 div.sk-estimator:hover label.sk-toggleable__label-arrow:before {color: black;}#sk-container-id-1 div.sk-toggleable__content {max-height: 0;max-width: 0;overflow: hidden;text-align: left;background-color: #f0f8ff;}#sk-container-id-1 div.sk-toggleable__content pre {margin: 0.2em;color: black;border-radius: 0.25em;background-color: #f0f8ff;}#sk-container-id-1 input.sk-toggleable__control:checked~div.sk-toggleable__content {max-height: 200px;max-width: 100%;overflow: auto;}#sk-container-id-1 input.sk-toggleable__control:checked~label.sk-toggleable__label-arrow:before {content: \"▾\";}#sk-container-id-1 div.sk-estimator input.sk-toggleable__control:checked~label.sk-toggleable__label {background-color: #d4ebff;}#sk-container-id-1 div.sk-label input.sk-toggleable__control:checked~label.sk-toggleable__label {background-color: #d4ebff;}#sk-container-id-1 input.sk-hidden--visually {border: 0;clip: rect(1px 1px 1px 1px);clip: rect(1px, 1px, 1px, 1px);height: 1px;margin: -1px;overflow: hidden;padding: 0;position: absolute;width: 1px;}#sk-container-id-1 div.sk-estimator {font-family: monospace;background-color: #f0f8ff;border: 1px dotted black;border-radius: 0.25em;box-sizing: border-box;margin-bottom: 0.5em;}#sk-container-id-1 div.sk-estimator:hover {background-color: #d4ebff;}#sk-container-id-1 div.sk-parallel-item::after {content: \"\";width: 100%;border-bottom: 1px solid gray;flex-grow: 1;}#sk-container-id-1 div.sk-label:hover label.sk-toggleable__label {background-color: #d4ebff;}#sk-container-id-1 div.sk-serial::before {content: \"\";position: absolute;border-left: 1px solid gray;box-sizing: border-box;top: 0;bottom: 0;left: 50%;z-index: 0;}#sk-container-id-1 div.sk-serial {display: flex;flex-direction: column;align-items: center;background-color: white;padding-right: 0.2em;padding-left: 0.2em;position: relative;}#sk-container-id-1 div.sk-item {position: relative;z-index: 1;}#sk-container-id-1 div.sk-parallel {display: flex;align-items: stretch;justify-content: center;background-color: white;position: relative;}#sk-container-id-1 div.sk-item::before, #sk-container-id-1 div.sk-parallel-item::before {content: \"\";position: absolute;border-left: 1px solid gray;box-sizing: border-box;top: 0;bottom: 0;left: 50%;z-index: -1;}#sk-container-id-1 div.sk-parallel-item {display: flex;flex-direction: column;z-index: 1;position: relative;background-color: white;}#sk-container-id-1 div.sk-parallel-item:first-child::after {align-self: flex-end;width: 50%;}#sk-container-id-1 div.sk-parallel-item:last-child::after {align-self: flex-start;width: 50%;}#sk-container-id-1 div.sk-parallel-item:only-child::after {width: 0;}#sk-container-id-1 div.sk-dashed-wrapped {border: 1px dashed gray;margin: 0 0.4em 0.5em 0.4em;box-sizing: border-box;padding-bottom: 0.4em;background-color: white;}#sk-container-id-1 div.sk-label label {font-family: monospace;font-weight: bold;display: inline-block;line-height: 1.2em;}#sk-container-id-1 div.sk-label-container {text-align: center;}#sk-container-id-1 div.sk-container {/* jupyter's `normalize.less` sets `[hidden] { display: none; }` but bootstrap.min.css set `[hidden] { display: none !important; }` so we also need the `!important` here to be able to override the default hidden behavior on the sphinx rendered scikit-learn.org. See: https://github.com/scikit-learn/scikit-learn/issues/21755 */display: inline-block !important;position: relative;}#sk-container-id-1 div.sk-text-repr-fallback {display: none;}</style><div id=\"sk-container-id-1\" class=\"sk-top-container\"><div class=\"sk-text-repr-fallback\"><pre>SupervisedDBNRegression()</pre><b>In a Jupyter environment, please rerun this cell to show the HTML representation or trust the notebook. <br />On GitHub, the HTML representation is unable to render, please try loading this page with nbviewer.org.</b></div><div class=\"sk-container\" hidden><div class=\"sk-item\"><div class=\"sk-estimator sk-toggleable\"><input class=\"sk-toggleable__control sk-hidden--visually\" id=\"sk-estimator-id-1\" type=\"checkbox\" checked><label for=\"sk-estimator-id-1\" class=\"sk-toggleable__label sk-toggleable__label-arrow\">SupervisedDBNRegression</label><div class=\"sk-toggleable__content\"><pre>SupervisedDBNRegression()</pre></div></div></div></div></div>"
      ],
      "text/plain": [
       "SupervisedDBNRegression()"
      ]
     },
     "execution_count": 23,
     "metadata": {},
     "output_type": "execute_result"
    }
   ],
   "source": [
    "model.fit(x_train, y_train)"
   ]
  },
  {
   "cell_type": "code",
   "execution_count": 24,
   "metadata": {},
   "outputs": [],
   "source": [
    "#history = model.fit(x_train,y_train,epochs=2000,batch_size=32,validation_split=0.3,verbose=0,callbacks=[es],shuffle=False)"
   ]
  },
  {
   "cell_type": "code",
   "execution_count": 25,
   "metadata": {},
   "outputs": [],
   "source": [
    "#plot_history(history,'loss')"
   ]
  },
  {
   "cell_type": "code",
   "execution_count": 51,
   "metadata": {},
   "outputs": [],
   "source": [
    "y_pred = model.predict(x_test)"
   ]
  },
  {
   "cell_type": "code",
   "execution_count": 27,
   "metadata": {},
   "outputs": [],
   "source": [
    "#shape = y_pred.shape\n",
    "#y_pred = y_pred.reshape(shape[0],shape[1])"
   ]
  },
  {
   "cell_type": "code",
   "execution_count": 52,
   "metadata": {},
   "outputs": [],
   "source": [
    "# dn_y_test = minmax_scaler_y_test.inverse_transform(y_test)\n",
    "# dn_y_pred = minmax_scaler_y_test.inverse_transform(y_pred)\n",
    "\n",
    "dn_y_test = std_scaler_y_test.inverse_transform(y_test)\n",
    "dn_y_pred = std_scaler_y_test.inverse_transform(y_pred)"
   ]
  },
  {
   "cell_type": "code",
   "execution_count": 53,
   "metadata": {},
   "outputs": [
    {
     "name": "stdout",
     "output_type": "stream",
     "text": [
      "[1.78772889 2.8698415  3.14567765]\n",
      "[2.19319396 3.47043754 3.86692942]\n",
      "[45.57968666 67.50941854 62.423671  ]\n"
     ]
    }
   ],
   "source": [
    "print(mae(dn_y_test, dn_y_pred))\n",
    "print(rmse(dn_y_test, dn_y_pred))\n",
    "print(mape(dn_y_test,dn_y_pred))"
   ]
  },
  {
   "cell_type": "code",
   "execution_count": 54,
   "metadata": {},
   "outputs": [
    {
     "data": {
      "image/png": "[encoded data removed]",
      "text/plain": [
       "<Figure size 360x864 with 3 Axes>"
      ]
     },
     "metadata": {
      "needs_background": "light"
     },
     "output_type": "display_data"
    }
   ],
   "source": [
    "plot_pred(dn_y_test,dn_y_pred)"
   ]
  },
  {
   "cell_type": "code",
   "execution_count": 55,
   "metadata": {},
   "outputs": [],
   "source": [
    "import matplotlib.pyplot as plt"
   ]
  },
  {
   "cell_type": "code",
   "execution_count": 93,
   "metadata": {},
   "outputs": [],
   "source": [
    "def plot_pred2(orig,pred,last_year, horizon):\n",
    "    n = len(orig)\n",
    "    y_o, y_p = orig.T, pred.T\n",
    "    df = pd.DataFrame()\n",
    "    df['year'] = [last_year-(n-i+2) for i in range(n)]\n",
    "    df['orig_1'] = y_o[0]\n",
    "    df['orig_2'] = y_o[1]\n",
    "    df['orig_3'] = y_o[2]\n",
    "    df['pred_1'] = y_p[0]\n",
    "    df['pred_2'] = y_p[1]\n",
    "    df['pred_3'] = y_p[2]\n",
    "    df = df.set_index('year')\n",
    "    \n",
    "    n = len(y_o)\n",
    "    print(y_o.shape)\n",
    "    for i in range(n):\n",
    "        fig, ax = plt.subplots(figsize=(8,4))\n",
    "        line_o, = ax.plot(df['orig_'+str(i+1)],label='orig')\n",
    "        line_p, = ax.plot(df['pred_'+str(i+1)],label='pred')\n",
    "        ax.legend(handles=[line_o,line_p])\n",
    "        ax.set_title('Horizonte {} año'.format(i+1))\n",
    "        ax.set_xlabel('Año')\n",
    "        ax.set_ylabel('Crecimiento PBI (%)')\n",
    "        plt.show()"
   ]
  },
  {
   "cell_type": "code",
   "execution_count": 94,
   "metadata": {},
   "outputs": [
    {
     "name": "stdout",
     "output_type": "stream",
     "text": [
      "        orig_1    orig_2     orig_3     pred_1     pred_2     pred_3\n",
      "year                                                                \n",
      "2009  8.332459  6.327192   6.139725  11.241747  11.479154  10.514531\n",
      "2010  6.327192  6.139725   5.852518  10.624738  10.711029   8.926355\n",
      "2011  6.139725  5.852518   2.382157   7.745833   7.799046   5.749106\n",
      "2012  5.852518  2.382157   3.252245   7.077172   7.486181   6.544335\n",
      "2013  2.382157  3.252245   3.953319   5.412615   6.239856   5.309126\n",
      "2014  3.252245  3.953319   2.518835   2.431536   3.507708   4.511226\n",
      "2015  3.953319  2.518835   3.969351   3.562262   4.511016   4.091669\n",
      "2016  2.518835  3.969351   2.240632   5.029323   5.048435   2.521101\n",
      "2017  3.969351  2.240632  -8.913955   4.208449   2.284848  -1.659886\n",
      "2018  2.240632 -8.913955  13.349509   3.088517  -3.538058   7.005469\n",
      "(3, 10)\n"
     ]
    },
    {
     "data": {
      "image/png": "[encoded data removed]",
      "text/plain": [
       "<Figure size 576x288 with 1 Axes>"
      ]
     },
     "metadata": {
      "needs_background": "light"
     },
     "output_type": "display_data"
    },
    {
     "data": {
      "image/png": "[encoded data removed]",
      "text/plain": [
       "<Figure size 576x288 with 1 Axes>"
      ]
     },
     "metadata": {
      "needs_background": "light"
     },
     "output_type": "display_data"
    },
    {
     "data": {
      "image/png": "[encoded data removed]",
      "text/plain": [
       "<Figure size 576x288 with 1 Axes>"
      ]
     },
     "metadata": {
      "needs_background": "light"
     },
     "output_type": "display_data"
    }
   ],
   "source": [
    "plot_pred2(dn_y_test,dn_y_pred,2021,3)"
   ]
  }
 ],
 "metadata": {
  "kernelspec": {
   "display_name": "Python 3.8.12 ('base')",
   "language": "python",
   "name": "python3"
  },
  "language_info": {
   "codemirror_mode": {
    "name": "ipython",
    "version": 3
   },
   "file_extension": ".py",
   "mimetype": "text/x-python",
   "name": "python",
   "nbconvert_exporter": "python",
   "pygments_lexer": "ipython3",
   "version": "3.8.13"
  },
  "orig_nbformat": 4,
  "vscode": {
   "interpreter": {
    "hash": "e6822839c80bb80c42f7f9e096efdd447a89633a8e8a553b5cfb2012f3a4eafe"
   }
  }
 },
 "nbformat": 4,
 "nbformat_minor": 2
}
