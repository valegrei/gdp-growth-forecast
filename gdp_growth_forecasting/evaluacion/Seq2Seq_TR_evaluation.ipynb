{
 "cells": [
  {
   "cell_type": "code",
   "execution_count": null,
   "metadata": {},
   "outputs": [],
   "source": [
    "#%xmode Verbose"
   ]
  },
  {
   "cell_type": "code",
   "execution_count": null,
   "metadata": {},
   "outputs": [],
   "source": [
    "import sys\n",
    "sys.path.append(\"../libs/\")"
   ]
  },
  {
   "cell_type": "code",
   "execution_count": null,
   "metadata": {},
   "outputs": [],
   "source": [
    "import pandas as pd\n",
    "import numpy as np\n",
    "from sklearn.preprocessing import StandardScaler\n",
    "from sklearn.model_selection import TimeSeriesSplit\n",
    "from tensorflow.keras.callbacks import EarlyStopping\n",
    "from utils import shift_join_data,rmse,print_line, plot_pred\n",
    "from keras.models import load_model\n",
    "import datetime\n",
    "from tensorflow.keras.optimizers import Adam"
   ]
  },
  {
   "cell_type": "code",
   "execution_count": null,
   "metadata": {},
   "outputs": [],
   "source": [
    "# Ruta del modelo con hiperparametros optimizados (sin entrenar)\n",
    "model_path = 'resultados/Seq2Seq_20220731_1209_27.h5'\n",
    "# Callback para detener el entrenamiento cuando el error de validacion no disminuye despues de 50 epocas\n",
    "es = EarlyStopping(monitor='val_loss', mode='min', patience=50,restore_best_weights=True)\n",
    "mini_batch = 32\n",
    "n_epochs= 2000  # Nro de epocas maximas\n",
    "fecha_hora = datetime.datetime.now().strftime('%Y%m%d_%H%M')\n",
    "res_name = 'resultados/Seq2Seq_TR_'+fecha_hora\n",
    "n_iter = 30\n",
    "learning_rate = 1e-3"
   ]
  },
  {
   "cell_type": "markdown",
   "metadata": {},
   "source": [
    "# Carga de datos"
   ]
  },
  {
   "cell_type": "code",
   "execution_count": null,
   "metadata": {},
   "outputs": [],
   "source": [
    "df = pd.read_csv('../data/wb_dataset_prep.csv')\n",
    "df = df.drop('country',axis=1)\n",
    "iso = df['iso'].unique()    #Codigos de paises\n",
    "df = df.set_index(['iso','year'])"
   ]
  },
  {
   "cell_type": "markdown",
   "metadata": {},
   "source": [
    "Paises"
   ]
  },
  {
   "cell_type": "code",
   "execution_count": null,
   "metadata": {},
   "outputs": [],
   "source": [
    "print(iso)"
   ]
  },
  {
   "cell_type": "markdown",
   "metadata": {},
   "source": [
    "Features"
   ]
  },
  {
   "cell_type": "code",
   "execution_count": null,
   "metadata": {},
   "outputs": [],
   "source": [
    "df.info()"
   ]
  },
  {
   "cell_type": "markdown",
   "metadata": {},
   "source": [
    "# Dividir Datos"
   ]
  },
  {
   "cell_type": "code",
   "execution_count": null,
   "metadata": {},
   "outputs": [],
   "source": [
    "iso_train = ['PER']\n",
    "target_col = ['rgdp_growth']\n",
    "features = df.columns[(df.columns!=target_col[0])]"
   ]
  },
  {
   "cell_type": "markdown",
   "metadata": {},
   "source": [
    "Países de Entrenamiento"
   ]
  },
  {
   "cell_type": "code",
   "execution_count": null,
   "metadata": {},
   "outputs": [],
   "source": [
    "print(iso_train)"
   ]
  },
  {
   "cell_type": "markdown",
   "metadata": {},
   "source": [
    "Features de Entrenamiento"
   ]
  },
  {
   "cell_type": "code",
   "execution_count": null,
   "metadata": {},
   "outputs": [],
   "source": [
    "print(features)"
   ]
  },
  {
   "cell_type": "markdown",
   "metadata": {},
   "source": [
    "# Normalizar"
   ]
  },
  {
   "cell_type": "code",
   "execution_count": null,
   "metadata": {},
   "outputs": [],
   "source": [
    "df_x = df.loc[iso_train][features].copy()\n",
    "df_y = df.loc[iso_train][target_col].copy()\n",
    "\n",
    "std_scaler_x = StandardScaler()\n",
    "std_scaler_y = StandardScaler()\n",
    "\n",
    "df_x.iloc[:,:] = std_scaler_x.fit_transform(df_x)\n",
    "df_y.iloc[:,:] = std_scaler_y.fit_transform(df_y)\n",
    "\n",
    "df_x.iloc[:,:] = np.clip(df_x,-3,3)\n",
    "df_y.iloc[:,:] = np.clip(df_y,-3,3)"
   ]
  },
  {
   "cell_type": "markdown",
   "metadata": {},
   "source": [
    "# Generar variables lag y horizonte"
   ]
  },
  {
   "cell_type": "code",
   "execution_count": null,
   "metadata": {},
   "outputs": [],
   "source": [
    "n_steps_in = 10\n",
    "n_steps_out = 3\n",
    "n_features = len(features)\n",
    "\n",
    "x, y = shift_join_data(df_x,df_y,iso_train,n_steps_in,n_steps_out)\n",
    "\n",
    "x_train, y_train = x[:-int(len(x)*0.2)], y[:-int(len(y)*0.2)]\n",
    "x_test, y_test = x[- int(len(x)*0.2):], y[- int(len(y)*0.2):]\n"
   ]
  },
  {
   "cell_type": "markdown",
   "metadata": {},
   "source": [
    "# Entrenamiento y evaluación"
   ]
  },
  {
   "cell_type": "code",
   "execution_count": null,
   "metadata": {},
   "outputs": [],
   "source": [
    "def evaluar_seq2seq_tr(x_train : np.ndarray, y_train : np.ndarray, x_test : np.ndarray,\n",
    "        y_test : np.ndarray, n_iter : int, scaler : StandardScaler):\n",
    "    n_splits = 5    # Nro de K Folds para CV\n",
    "    res_path = res_name+'.csv'\n",
    "    tscv = TimeSeriesSplit(n_splits = n_splits)\n",
    "    print_line(\"rmse\\n\",res_path)\n",
    "    # Inicio\n",
    "    gl_rmse = list()\n",
    "    nro = 0\n",
    "    print('Inicio de evaluacion:')\n",
    "    for i in range(n_iter):\n",
    "        val_rmse = list()\n",
    "        for train_idx, test_idx in tscv.split(x_train):\n",
    "            # CV split\n",
    "            x_t, y_t = x_train[train_idx], y_train[train_idx]\n",
    "            x_v, y_v = x_train[test_idx], y_train[test_idx]\n",
    "            # Entrenamiento\n",
    "            model = load_model(model_path)\n",
    "            model.compile(optimizer=Adam(learning_rate=learning_rate),loss='mse')\n",
    "            model.fit(x_t, y_t, validation_data = (x_v, y_v), epochs = n_epochs,\n",
    "                batch_size = mini_batch, callbacks = [es], shuffle = False, verbose = 0)\n",
    "            # Prediccion\n",
    "            y_pred = model(x_test)\n",
    "            y_pred = np.reshape(y_pred, (y_pred.shape[0], y_pred.shape[1]))\n",
    "            # Denormalizando\n",
    "            dn_y_test = scaler.inverse_transform(y_test)\n",
    "            dn_y_pred = scaler.inverse_transform(y_pred)\n",
    "            # Evaluacion\n",
    "            val_rmse.append(rmse(dn_y_test, dn_y_pred))\n",
    "            gl_rmse.append(rmse(dn_y_test, dn_y_pred))\n",
    "            model.save(res_name+'_'+str(nro)+'.h5')\n",
    "            nro += 1\n",
    "        # Promedios\n",
    "        mean_rmse = np.mean(val_rmse)\n",
    "        print_line('{}\\n'.format(mean_rmse),res_path)\n",
    "        print('Iter: {}/{} completado.'.format(i+1,n_iter))\n",
    "    print('Fin de evaluacion.')\n",
    "    mejor_modelo = np.argmin(gl_rmse)\n",
    "    print('Mejor modelo: {}'.format(mejor_modelo))\n",
    "    return mejor_modelo"
   ]
  },
  {
   "cell_type": "code",
   "execution_count": null,
   "metadata": {},
   "outputs": [],
   "source": [
    "# evaluar\n",
    "nro_mejor = evaluar_seq2seq_tr(x_train, y_train, x_test, y_test,n_iter,std_scaler_y)"
   ]
  },
  {
   "cell_type": "markdown",
   "metadata": {},
   "source": [
    "# Resultados"
   ]
  },
  {
   "cell_type": "code",
   "execution_count": null,
   "metadata": {},
   "outputs": [],
   "source": [
    "df_res = pd.read_csv(res_name+'.csv')"
   ]
  },
  {
   "cell_type": "code",
   "execution_count": null,
   "metadata": {},
   "outputs": [],
   "source": [
    "df_res.describe()"
   ]
  },
  {
   "cell_type": "code",
   "execution_count": null,
   "metadata": {},
   "outputs": [],
   "source": [
    "df_res.plot.box()"
   ]
  },
  {
   "cell_type": "markdown",
   "metadata": {},
   "source": [
    "# Prediccion"
   ]
  },
  {
   "cell_type": "code",
   "execution_count": null,
   "metadata": {},
   "outputs": [],
   "source": [
    "\n",
    "model = load_model(res_name+'_'+str(nro_mejor)+'.h5')\n",
    "y_pred = model(x_test)\n",
    "y_pred = np.reshape(y_pred, (y_pred.shape[0], y_pred.shape[1]))\n",
    "dn_y_test = std_scaler_y.inverse_transform(y_test)\n",
    "dn_y_pred = std_scaler_y.inverse_transform(y_pred)\n",
    "plot_pred(dn_y_test, dn_y_pred,2021)"
   ]
  },
  {
   "cell_type": "code",
   "execution_count": null,
   "metadata": {},
   "outputs": [],
   "source": [
    "from notifications import enviar_correo\n",
    "enviar_correo(\"Evaluacion Finalizado!\",\"Se ha completado: {}\".format(res_name))"
   ]
  }
 ],
 "metadata": {
  "kernelspec": {
   "display_name": "Python 3.8.13 ('base')",
   "language": "python",
   "name": "python3"
  },
  "language_info": {
   "codemirror_mode": {
    "name": "ipython",
    "version": 3
   },
   "file_extension": ".py",
   "mimetype": "text/x-python",
   "name": "python",
   "nbconvert_exporter": "python",
   "pygments_lexer": "ipython3",
   "version": "3.8.13"
  },
  "orig_nbformat": 4,
  "vscode": {
   "interpreter": {
    "hash": "e6822839c80bb80c42f7f9e096efdd447a89633a8e8a553b5cfb2012f3a4eafe"
   }
  }
 },
 "nbformat": 4,
 "nbformat_minor": 2
}
