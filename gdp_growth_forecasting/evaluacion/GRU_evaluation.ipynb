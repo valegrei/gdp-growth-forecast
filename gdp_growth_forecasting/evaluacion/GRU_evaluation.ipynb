{
 "cells": [
  {
   "cell_type": "code",
   "execution_count": 1,
   "metadata": {},
   "outputs": [],
   "source": [
    "#%xmode Verbose"
   ]
  },
  {
   "cell_type": "code",
   "execution_count": 1,
   "metadata": {},
   "outputs": [],
   "source": [
    "import sys\n",
    "sys.path.append(\"../libs/\")"
   ]
  },
  {
   "cell_type": "code",
   "execution_count": 2,
   "metadata": {},
   "outputs": [
    {
     "name": "stderr",
     "output_type": "stream",
     "text": [
      "Using TensorFlow backend.\n"
     ]
    }
   ],
   "source": [
    "import pandas as pd\n",
    "import numpy as np\n",
    "from sklearn.preprocessing import StandardScaler\n",
    "from sklearn.model_selection import TimeSeriesSplit\n",
    "from tensorflow.keras.callbacks import EarlyStopping\n",
    "from utils import shift_join_data, mae,rmse,mape,print_line, plot_pred, plot_history\n",
    "from keras.models import load_model\n",
    "from keras.utils.vis_utils import plot_model\n",
    "import datetime"
   ]
  },
  {
   "cell_type": "code",
   "execution_count": 3,
   "metadata": {},
   "outputs": [],
   "source": [
    "# Ruta del modelo con hiperparametros optimizados (sin entrenar)\n",
    "model_path = '../modelamiento/ajustes/GRU_20220723_1504.h5'\n",
    "# Callback para detener el entrenamiento cuando el error de validacion no disminuye despues de 50 epocas\n",
    "es = EarlyStopping(monitor='val_loss', mode='min', patience=50,restore_best_weights=True)\n",
    "mini_batch = 32\n",
    "n_epochs= 2000  # Nro de epocas maximas\n",
    "fecha_hora = datetime.datetime.now().strftime('%Y%m%d_%H%M')\n",
    "res_name = 'resultados/GRU_'+fecha_hora\n",
    "n_iter = 30"
   ]
  },
  {
   "cell_type": "markdown",
   "metadata": {},
   "source": [
    "# Carga de datos"
   ]
  },
  {
   "cell_type": "code",
   "execution_count": 4,
   "metadata": {},
   "outputs": [],
   "source": [
    "df = pd.read_csv('../data/wb_dataset_prep.csv')\n",
    "df = df.drop('country',axis=1)\n",
    "iso = df['iso'].unique()    #Codigos de paises\n",
    "df = df.set_index(['iso','year'])"
   ]
  },
  {
   "cell_type": "markdown",
   "metadata": {},
   "source": [
    "Paises"
   ]
  },
  {
   "cell_type": "code",
   "execution_count": 6,
   "metadata": {},
   "outputs": [
    {
     "name": "stdout",
     "output_type": "stream",
     "text": [
      "['DEU' 'AUS' 'AUT' 'BGD' 'BEL' 'BOL' 'BRA' 'CAN' 'CHL' 'CHN' 'COL' 'CRI'\n",
      " 'HRV' 'DNK' 'ECU' 'SLV' 'ESP' 'USA' 'EST' 'RUS' 'FIN' 'FRA' 'GRC' 'GTM'\n",
      " 'HND' 'HUN' 'IND' 'IDN' 'IRL' 'ISL' 'ISR' 'ITA' 'JPN' 'JOR' 'KEN' 'LTU'\n",
      " 'LUX' 'MYS' 'MLT' 'MAR' 'MEX' 'NGA' 'NOR' 'NLD' 'PAK' 'PAN' 'PRY' 'PER'\n",
      " 'POL' 'PRT' 'GBR' 'EGY' 'KOR' 'ROU' 'SWE' 'CHE' 'TUR' 'URY' 'NZL']\n"
     ]
    }
   ],
   "source": [
    "print(iso)"
   ]
  },
  {
   "cell_type": "markdown",
   "metadata": {},
   "source": [
    "Features"
   ]
  },
  {
   "cell_type": "code",
   "execution_count": 7,
   "metadata": {},
   "outputs": [
    {
     "name": "stdout",
     "output_type": "stream",
     "text": [
      "<class 'pandas.core.frame.DataFrame'>\n",
      "MultiIndex: 2444 entries, ('DEU', 1983) to ('NZL', 2021)\n",
      "Data columns (total 12 columns):\n",
      " #   Column       Non-Null Count  Dtype  \n",
      "---  ------       --------------  -----  \n",
      " 0   trade        2444 non-null   float64\n",
      " 1   exports      2444 non-null   float64\n",
      " 2   imports      2444 non-null   float64\n",
      " 3   ggfce        2444 non-null   float64\n",
      " 4   gfcf         2444 non-null   float64\n",
      " 5   unempl       2444 non-null   float64\n",
      " 6   rgdp_growth  2444 non-null   float64\n",
      " 7   infl_cpi     2444 non-null   float64\n",
      " 8   oil          2444 non-null   float64\n",
      " 9   gold         2444 non-null   float64\n",
      " 10  copper       2444 non-null   float64\n",
      " 11  sp500        2444 non-null   float64\n",
      "dtypes: float64(12)\n",
      "memory usage: 239.0+ KB\n"
     ]
    }
   ],
   "source": [
    "df.info()"
   ]
  },
  {
   "cell_type": "markdown",
   "metadata": {},
   "source": [
    "# Dividir Datos"
   ]
  },
  {
   "cell_type": "code",
   "execution_count": 5,
   "metadata": {},
   "outputs": [],
   "source": [
    "iso_test = ['PER']\n",
    "iso_train = iso[(iso != iso_test[0])]\n",
    "target_col = ['rgdp_growth']\n",
    "features = df.columns[(df.columns!=target_col[0])]\n",
    "df_test = df.copy()\n"
   ]
  },
  {
   "cell_type": "markdown",
   "metadata": {},
   "source": [
    "Países de Entrenamiento"
   ]
  },
  {
   "cell_type": "code",
   "execution_count": 9,
   "metadata": {},
   "outputs": [
    {
     "name": "stdout",
     "output_type": "stream",
     "text": [
      "['DEU' 'AUS' 'AUT' 'BGD' 'BEL' 'BOL' 'BRA' 'CAN' 'CHL' 'CHN' 'COL' 'CRI'\n",
      " 'HRV' 'DNK' 'ECU' 'SLV' 'ESP' 'USA' 'EST' 'RUS' 'FIN' 'FRA' 'GRC' 'GTM'\n",
      " 'HND' 'HUN' 'IND' 'IDN' 'IRL' 'ISL' 'ISR' 'ITA' 'JPN' 'JOR' 'KEN' 'LTU'\n",
      " 'LUX' 'MYS' 'MLT' 'MAR' 'MEX' 'NGA' 'NOR' 'NLD' 'PAK' 'PAN' 'PRY' 'POL'\n",
      " 'PRT' 'GBR' 'EGY' 'KOR' 'ROU' 'SWE' 'CHE' 'TUR' 'URY' 'NZL']\n"
     ]
    }
   ],
   "source": [
    "print(iso_train)"
   ]
  },
  {
   "cell_type": "markdown",
   "metadata": {},
   "source": [
    "Features de Entrenamiento"
   ]
  },
  {
   "cell_type": "code",
   "execution_count": 10,
   "metadata": {},
   "outputs": [
    {
     "name": "stdout",
     "output_type": "stream",
     "text": [
      "Index(['trade', 'exports', 'imports', 'ggfce', 'gfcf', 'unempl', 'infl_cpi',\n",
      "       'oil', 'gold', 'copper', 'sp500'],\n",
      "      dtype='object')\n"
     ]
    }
   ],
   "source": [
    "print(features)"
   ]
  },
  {
   "cell_type": "markdown",
   "metadata": {},
   "source": [
    "# Normalizar"
   ]
  },
  {
   "cell_type": "code",
   "execution_count": 6,
   "metadata": {},
   "outputs": [],
   "source": [
    "df_x_train = df.loc[iso_train][features].copy()\n",
    "df_y_train = df.loc[iso_train][target_col].copy()\n",
    "df_x_test = df_test.loc[iso_test][features].copy()\n",
    "df_y_test = df_test.loc[iso_test][target_col].copy()\n",
    "\n",
    "std_scaler_x_train = StandardScaler()\n",
    "std_scaler_y_train = StandardScaler()\n",
    "std_scaler_x_test = StandardScaler()\n",
    "std_scaler_y_test = StandardScaler()\n",
    "\n",
    "df_x_train.iloc[:,:] = std_scaler_x_train.fit_transform(df_x_train)\n",
    "df_y_train.iloc[:,:] = std_scaler_y_train.fit_transform(df_y_train)\n",
    "df_x_test.iloc[:,:] = std_scaler_x_test.fit_transform(df_x_test)\n",
    "df_y_test.iloc[:,:] = std_scaler_y_test.fit_transform(df_y_test)\n",
    "\n",
    "df_x_train.iloc[:,:] = np.clip(df_x_train,-3,3)\n",
    "df_y_train.iloc[:,:] = np.clip(df_y_train,-3,3)\n",
    "df_x_test.iloc[:,:] = np.clip(df_x_test,-3,3)\n",
    "df_y_test.iloc[:,:] = np.clip(df_y_test,-3,3)"
   ]
  },
  {
   "cell_type": "markdown",
   "metadata": {},
   "source": [
    "# Generar variables lag y horizonte"
   ]
  },
  {
   "cell_type": "code",
   "execution_count": 7,
   "metadata": {},
   "outputs": [],
   "source": [
    "n_steps_in = 10\n",
    "n_steps_out = 3\n",
    "n_features = len(features)\n",
    "\n",
    "x_train, y_train = shift_join_data(df_x_train,df_y_train,iso_train,n_steps_in,n_steps_out)\n",
    "x_test, y_test = shift_join_data(df_x_test,df_y_test,iso_test,n_steps_in,n_steps_out)\n",
    "x_test, y_test = x_test[- int(len(x_test)*0.3):], y_test[- int(len(y_test)*0.3):]\n"
   ]
  },
  {
   "cell_type": "markdown",
   "metadata": {},
   "source": [
    "# Entrenamiento y evaluación"
   ]
  },
  {
   "cell_type": "code",
   "execution_count": 13,
   "metadata": {},
   "outputs": [],
   "source": [
    "def evaluar_gru(x_train : np.ndarray, y_train : np.ndarray, x_test : np.ndarray,\n",
    "        y_test : np.ndarray, n_iter : int, scaler : StandardScaler):\n",
    "    n_splits = 5    # Nro de K Folds para CV\n",
    "    res_path = res_name+'.csv'\n",
    "    tscv = TimeSeriesSplit(n_splits = n_splits)\n",
    "    print_line(\"mae_1,mae_2,mae_3,rmse_1,rmse_2,rmse_3,mape_1,mape_2,mape_3\\n\",res_path)\n",
    "    # Inicio\n",
    "    print('Inicio de evaluacion:')\n",
    "    for i in range(n_iter):\n",
    "        val_mae = list()\n",
    "        val_rmse = list()\n",
    "        val_mape = list()\n",
    "        for train_idx, test_idx in tscv.split(x_train):\n",
    "            # CV split\n",
    "            x_t, y_t = x_train[train_idx], y_train[train_idx]\n",
    "            x_v, y_v = x_train[test_idx], y_train[test_idx]\n",
    "            # Entrenamiento\n",
    "            model = load_model(model_path)\n",
    "            model.fit(x_t, y_t, validation_data = (x_v, y_v), epochs = n_epochs,\n",
    "                batch_size = mini_batch, callbacks = [es], shuffle = False, verbose = 0)\n",
    "            # Prediccion\n",
    "            y_pred = model(x_test)\n",
    "            # Denormalizando\n",
    "            dn_y_test = scaler.inverse_transform(y_test)\n",
    "            dn_y_pred = scaler.inverse_transform(y_pred)\n",
    "            # Evaluacion\n",
    "            val_mae.append(mae(dn_y_test, dn_y_pred))\n",
    "            val_rmse.append(rmse(dn_y_test, dn_y_pred))\n",
    "            val_mape.append(mape(dn_y_test, dn_y_pred))\n",
    "        # Promedios\n",
    "        mean_mae = np.mean(val_mae,axis=0)\n",
    "        mean_rmse = np.mean(val_rmse,axis=0)\n",
    "        mean_mape = np.mean(val_mape,axis=0)\n",
    "        print_line('{},{},{},{},{},{},{},{},{}\\n'.format(mean_mae[0],mean_mae[1],mean_mae[2],\n",
    "            mean_rmse[0],mean_rmse[1],mean_rmse[2],mean_mape[0],mean_mape[1],mean_mape[2]),res_path)\n",
    "        print('Iter: {}/{} completado.'.format(i+1,n_iter))\n",
    "    print('Fin de evaluacion.')"
   ]
  },
  {
   "cell_type": "code",
   "execution_count": 14,
   "metadata": {},
   "outputs": [
    {
     "name": "stdout",
     "output_type": "stream",
     "text": [
      "Inicio de evaluacion:\n",
      "Iter: 1/30 completado.\n",
      "Iter: 2/30 completado.\n",
      "Iter: 3/30 completado.\n",
      "Iter: 4/30 completado.\n",
      "Iter: 5/30 completado.\n",
      "Iter: 6/30 completado.\n",
      "Iter: 7/30 completado.\n",
      "Iter: 8/30 completado.\n",
      "Iter: 9/30 completado.\n",
      "Iter: 10/30 completado.\n",
      "Iter: 11/30 completado.\n",
      "Iter: 12/30 completado.\n",
      "Iter: 13/30 completado.\n",
      "Iter: 14/30 completado.\n",
      "Iter: 15/30 completado.\n",
      "Iter: 16/30 completado.\n",
      "Iter: 17/30 completado.\n",
      "Iter: 18/30 completado.\n",
      "Iter: 19/30 completado.\n",
      "Iter: 20/30 completado.\n",
      "Iter: 21/30 completado.\n",
      "Iter: 22/30 completado.\n",
      "Iter: 23/30 completado.\n",
      "Iter: 24/30 completado.\n",
      "Iter: 25/30 completado.\n",
      "Iter: 26/30 completado.\n",
      "Iter: 27/30 completado.\n",
      "Iter: 28/30 completado.\n",
      "Iter: 29/30 completado.\n",
      "Iter: 30/30 completado.\n",
      "Fin de evaluacion.\n"
     ]
    }
   ],
   "source": [
    "# evaluar\n",
    "evaluar_gru(x_train, y_train, x_test, y_test,n_iter,std_scaler_y_test)"
   ]
  },
  {
   "cell_type": "markdown",
   "metadata": {},
   "source": [
    "# Resultados"
   ]
  },
  {
   "cell_type": "code",
   "execution_count": 15,
   "metadata": {},
   "outputs": [],
   "source": [
    "df_res = pd.read_csv(res_name+'.csv')"
   ]
  },
  {
   "cell_type": "code",
   "execution_count": 16,
   "metadata": {},
   "outputs": [
    {
     "data": {
      "text/html": [
       "<div>\n",
       "<style scoped>\n",
       "    .dataframe tbody tr th:only-of-type {\n",
       "        vertical-align: middle;\n",
       "    }\n",
       "\n",
       "    .dataframe tbody tr th {\n",
       "        vertical-align: top;\n",
       "    }\n",
       "\n",
       "    .dataframe thead th {\n",
       "        text-align: right;\n",
       "    }\n",
       "</style>\n",
       "<table border=\"1\" class=\"dataframe\">\n",
       "  <thead>\n",
       "    <tr style=\"text-align: right;\">\n",
       "      <th></th>\n",
       "      <th>mae_1</th>\n",
       "      <th>mae_2</th>\n",
       "      <th>mae_3</th>\n",
       "      <th>rmse_1</th>\n",
       "      <th>rmse_2</th>\n",
       "      <th>rmse_3</th>\n",
       "      <th>mape_1</th>\n",
       "      <th>mape_2</th>\n",
       "      <th>mape_3</th>\n",
       "    </tr>\n",
       "  </thead>\n",
       "  <tbody>\n",
       "    <tr>\n",
       "      <th>count</th>\n",
       "      <td>30.000000</td>\n",
       "      <td>30.000000</td>\n",
       "      <td>30.000000</td>\n",
       "      <td>30.000000</td>\n",
       "      <td>30.000000</td>\n",
       "      <td>30.000000</td>\n",
       "      <td>30.000000</td>\n",
       "      <td>30.000000</td>\n",
       "      <td>30.000000</td>\n",
       "    </tr>\n",
       "    <tr>\n",
       "      <th>mean</th>\n",
       "      <td>1.503914</td>\n",
       "      <td>1.571429</td>\n",
       "      <td>2.021659</td>\n",
       "      <td>1.970230</td>\n",
       "      <td>1.973068</td>\n",
       "      <td>2.726034</td>\n",
       "      <td>45.305383</td>\n",
       "      <td>52.748286</td>\n",
       "      <td>46.938918</td>\n",
       "    </tr>\n",
       "    <tr>\n",
       "      <th>std</th>\n",
       "      <td>0.102991</td>\n",
       "      <td>0.170665</td>\n",
       "      <td>0.205719</td>\n",
       "      <td>0.156764</td>\n",
       "      <td>0.207665</td>\n",
       "      <td>0.325649</td>\n",
       "      <td>5.364602</td>\n",
       "      <td>5.606610</td>\n",
       "      <td>4.278430</td>\n",
       "    </tr>\n",
       "    <tr>\n",
       "      <th>min</th>\n",
       "      <td>1.331909</td>\n",
       "      <td>1.239335</td>\n",
       "      <td>1.710579</td>\n",
       "      <td>1.713126</td>\n",
       "      <td>1.585703</td>\n",
       "      <td>2.288949</td>\n",
       "      <td>36.417161</td>\n",
       "      <td>40.627843</td>\n",
       "      <td>40.934626</td>\n",
       "    </tr>\n",
       "    <tr>\n",
       "      <th>25%</th>\n",
       "      <td>1.429360</td>\n",
       "      <td>1.466706</td>\n",
       "      <td>1.894254</td>\n",
       "      <td>1.844524</td>\n",
       "      <td>1.840469</td>\n",
       "      <td>2.484337</td>\n",
       "      <td>42.372153</td>\n",
       "      <td>49.664144</td>\n",
       "      <td>43.843392</td>\n",
       "    </tr>\n",
       "    <tr>\n",
       "      <th>50%</th>\n",
       "      <td>1.494264</td>\n",
       "      <td>1.558145</td>\n",
       "      <td>1.986638</td>\n",
       "      <td>1.969138</td>\n",
       "      <td>1.938168</td>\n",
       "      <td>2.609240</td>\n",
       "      <td>44.250643</td>\n",
       "      <td>52.913707</td>\n",
       "      <td>46.331562</td>\n",
       "    </tr>\n",
       "    <tr>\n",
       "      <th>75%</th>\n",
       "      <td>1.591526</td>\n",
       "      <td>1.638649</td>\n",
       "      <td>2.161870</td>\n",
       "      <td>2.091986</td>\n",
       "      <td>2.067161</td>\n",
       "      <td>2.962196</td>\n",
       "      <td>46.634285</td>\n",
       "      <td>57.450055</td>\n",
       "      <td>48.408958</td>\n",
       "    </tr>\n",
       "    <tr>\n",
       "      <th>max</th>\n",
       "      <td>1.714379</td>\n",
       "      <td>2.002939</td>\n",
       "      <td>2.503173</td>\n",
       "      <td>2.307203</td>\n",
       "      <td>2.430510</td>\n",
       "      <td>3.468952</td>\n",
       "      <td>59.504192</td>\n",
       "      <td>63.017858</td>\n",
       "      <td>56.529349</td>\n",
       "    </tr>\n",
       "  </tbody>\n",
       "</table>\n",
       "</div>"
      ],
      "text/plain": [
       "           mae_1      mae_2      mae_3     rmse_1     rmse_2     rmse_3  \\\n",
       "count  30.000000  30.000000  30.000000  30.000000  30.000000  30.000000   \n",
       "mean    1.503914   1.571429   2.021659   1.970230   1.973068   2.726034   \n",
       "std     0.102991   0.170665   0.205719   0.156764   0.207665   0.325649   \n",
       "min     1.331909   1.239335   1.710579   1.713126   1.585703   2.288949   \n",
       "25%     1.429360   1.466706   1.894254   1.844524   1.840469   2.484337   \n",
       "50%     1.494264   1.558145   1.986638   1.969138   1.938168   2.609240   \n",
       "75%     1.591526   1.638649   2.161870   2.091986   2.067161   2.962196   \n",
       "max     1.714379   2.002939   2.503173   2.307203   2.430510   3.468952   \n",
       "\n",
       "          mape_1     mape_2     mape_3  \n",
       "count  30.000000  30.000000  30.000000  \n",
       "mean   45.305383  52.748286  46.938918  \n",
       "std     5.364602   5.606610   4.278430  \n",
       "min    36.417161  40.627843  40.934626  \n",
       "25%    42.372153  49.664144  43.843392  \n",
       "50%    44.250643  52.913707  46.331562  \n",
       "75%    46.634285  57.450055  48.408958  \n",
       "max    59.504192  63.017858  56.529349  "
      ]
     },
     "execution_count": 16,
     "metadata": {},
     "output_type": "execute_result"
    }
   ],
   "source": [
    "df_res.describe()"
   ]
  },
  {
   "cell_type": "code",
   "execution_count": 17,
   "metadata": {},
   "outputs": [
    {
     "data": {
      "text/plain": [
       "<AxesSubplot:>"
      ]
     },
     "execution_count": 17,
     "metadata": {},
     "output_type": "execute_result"
    },
    {
     "data": {
      "image/png": "[encoded data removed]",
      "text/plain": [
       "<Figure size 432x288 with 1 Axes>"
      ]
     },
     "metadata": {
      "needs_background": "light"
     },
     "output_type": "display_data"
    }
   ],
   "source": [
    "df_res[['mae_1','mae_2','mae_3']].plot.box()"
   ]
  },
  {
   "cell_type": "code",
   "execution_count": 18,
   "metadata": {},
   "outputs": [
    {
     "data": {
      "text/plain": [
       "<AxesSubplot:>"
      ]
     },
     "execution_count": 18,
     "metadata": {},
     "output_type": "execute_result"
    },
    {
     "data": {
      "image/png": "[encoded data removed]",
      "text/plain": [
       "<Figure size 432x288 with 1 Axes>"
      ]
     },
     "metadata": {
      "needs_background": "light"
     },
     "output_type": "display_data"
    }
   ],
   "source": [
    "df_res[['rmse_1','rmse_2','rmse_3']].plot.box()"
   ]
  },
  {
   "cell_type": "code",
   "execution_count": 19,
   "metadata": {},
   "outputs": [
    {
     "data": {
      "text/plain": [
       "<AxesSubplot:>"
      ]
     },
     "execution_count": 19,
     "metadata": {},
     "output_type": "execute_result"
    },
    {
     "data": {
      "image/png": "[encoded data removed]",
      "text/plain": [
       "<Figure size 432x288 with 1 Axes>"
      ]
     },
     "metadata": {
      "needs_background": "light"
     },
     "output_type": "display_data"
    }
   ],
   "source": [
    "df_res[['mape_1','mape_2','mape_3']].plot.box()"
   ]
  },
  {
   "cell_type": "markdown",
   "metadata": {},
   "source": [
    "# Prediccion"
   ]
  },
  {
   "cell_type": "code",
   "execution_count": 8,
   "metadata": {},
   "outputs": [],
   "source": [
    "def predecir():\n",
    "    models = list()\n",
    "    rmse_vals = list()\n",
    "    for i in range(n_iter):\n",
    "        model = load_model(model_path)\n",
    "        model.fit(x_train, y_train, validation_split = 0.3, epochs = n_epochs,\n",
    "                    batch_size = mini_batch, callbacks = [es], shuffle = False, verbose = 0)\n",
    "        y_pred = model(x_test)\n",
    "        dn_y_test = std_scaler_y_test.inverse_transform(y_test)\n",
    "        dn_y_pred = std_scaler_y_test.inverse_transform(y_pred)\n",
    "        rmse_vals.append(rmse(dn_y_test, dn_y_pred)[0])\n",
    "        model.save(res_name+'_'+str(i)+'.h5')\n",
    "    print('Mejor valor: {}, iter: {}'.format(np.min(rmse_vals), np.argmin(rmse_vals)))\n",
    "    return np.argmin(rmse_vals)"
   ]
  },
  {
   "cell_type": "code",
   "execution_count": 9,
   "metadata": {},
   "outputs": [
    {
     "name": "stdout",
     "output_type": "stream",
     "text": [
      "Mejor valor: 1.4665539745394636, iter: 7\n"
     ]
    }
   ],
   "source": [
    "best_iter = predecir()"
   ]
  },
  {
   "cell_type": "code",
   "execution_count": 8,
   "metadata": {},
   "outputs": [
    {
     "name": "stdout",
     "output_type": "stream",
     "text": [
      "(3, 12)\n"
     ]
    },
    {
     "data": {
      "image/png": "[encoded data removed]",
      "text/plain": [
       "<Figure size 576x288 with 1 Axes>"
      ]
     },
     "metadata": {
      "needs_background": "light"
     },
     "output_type": "display_data"
    },
    {
     "data": {
      "image/png": "[encoded data removed]",
      "text/plain": [
       "<Figure size 576x288 with 1 Axes>"
      ]
     },
     "metadata": {
      "needs_background": "light"
     },
     "output_type": "display_data"
    },
    {
     "data": {
      "image/png": "[encoded data removed]",
      "text/plain": [
       "<Figure size 576x288 with 1 Axes>"
      ]
     },
     "metadata": {
      "needs_background": "light"
     },
     "output_type": "display_data"
    }
   ],
   "source": [
    "#model = load_model(res_name+'_'+str(best_iter)+'.h5')\n",
    "model = load_model('resultados/GRU_20220731_1052_7.h5')\n",
    "y_pred = model(x_test)\n",
    "dn_y_test = std_scaler_y_test.inverse_transform(y_test)\n",
    "dn_y_pred = std_scaler_y_test.inverse_transform(y_pred)\n",
    "plot_pred(dn_y_test, dn_y_pred,2021)"
   ]
  },
  {
   "cell_type": "code",
   "execution_count": 24,
   "metadata": {},
   "outputs": [
    {
     "data": {
      "image/png": "[encoded data removed]",
      "text/plain": [
       "<IPython.core.display.Image object>"
      ]
     },
     "execution_count": 24,
     "metadata": {},
     "output_type": "execute_result"
    }
   ],
   "source": [
    "plot_model(model,'GRU.png',show_shapes=True, show_layer_names=True)"
   ]
  },
  {
   "cell_type": "code",
   "execution_count": 25,
   "metadata": {},
   "outputs": [],
   "source": [
    "# from notifications import enviar_correo\n",
    "# enviar_correo(\"Evaluacion Finalizado!\",\"Se ha completado: {}\".format(res_name))"
   ]
  }
 ],
 "metadata": {
  "kernelspec": {
   "display_name": "Python 3.8.12 ('entornoGPU')",
   "language": "python",
   "name": "python3"
  },
  "language_info": {
   "codemirror_mode": {
    "name": "ipython",
    "version": 3
   },
   "file_extension": ".py",
   "mimetype": "text/x-python",
   "name": "python",
   "nbconvert_exporter": "python",
   "pygments_lexer": "ipython3",
   "version": "3.8.12"
  },
  "orig_nbformat": 4,
  "vscode": {
   "interpreter": {
    "hash": "2b5f45148ae3128c6dd6e07223b4f800e24d99a74d72c1203f234d906a82ee07"
   }
  }
 },
 "nbformat": 4,
 "nbformat_minor": 2
}
