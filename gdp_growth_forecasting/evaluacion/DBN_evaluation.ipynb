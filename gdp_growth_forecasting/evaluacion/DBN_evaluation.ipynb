{
 "cells": [
  {
   "cell_type": "code",
   "execution_count": 1,
   "metadata": {},
   "outputs": [],
   "source": [
    "#%xmode Verbose"
   ]
  },
  {
   "cell_type": "code",
   "execution_count": 2,
   "metadata": {},
   "outputs": [],
   "source": [
    "import sys\n",
    "sys.path.append(\"../libs/\")\n",
    "sys.path.append(\"../../../deep-belief-network/\")"
   ]
  },
  {
   "cell_type": "code",
   "execution_count": 3,
   "metadata": {},
   "outputs": [],
   "source": [
    "import pandas as pd\n",
    "import numpy as np\n",
    "from sklearn.preprocessing import StandardScaler\n",
    "from sklearn.model_selection import TimeSeriesSplit\n",
    "from utils import shift_join_data, mae,rmse,mape,print_line, plot_pred, flatten\n",
    "from dbn.models import SupervisedDBNRegression\n",
    "import datetime"
   ]
  },
  {
   "cell_type": "code",
   "execution_count": 4,
   "metadata": {},
   "outputs": [],
   "source": [
    "fecha_hora = datetime.datetime.now().strftime('%Y%m%d_%H%M')\n",
    "res_name = 'resultados/DBN_'+fecha_hora\n",
    "n_iter = 30"
   ]
  },
  {
   "cell_type": "code",
   "execution_count": 5,
   "metadata": {},
   "outputs": [],
   "source": [
    "# Parametros obtenidos por optimizacion\n",
    "rbm_layers = 2\n",
    "rbm_nodes = 112\n",
    "h_layers_structure = [rbm_nodes for _ in range(rbm_layers)]\n",
    "activation = 'tanh'\n",
    "dropout = 0.2\n",
    "rbm_learning_rate = 1e-4\n",
    "bp_learning_rate = 1e-2\n",
    "n_epochs = 20\n",
    "n_iter_backprop = 200\n",
    "mini_batch = 32"
   ]
  },
  {
   "cell_type": "markdown",
   "metadata": {},
   "source": [
    "# Carga de datos"
   ]
  },
  {
   "cell_type": "code",
   "execution_count": 6,
   "metadata": {},
   "outputs": [],
   "source": [
    "df = pd.read_csv('../data/wb_dataset_prep.csv')\n",
    "df = df.drop('country',axis=1)\n",
    "iso = df['iso'].unique()    #Codigos de paises\n",
    "df = df.set_index(['iso','year'])"
   ]
  },
  {
   "cell_type": "markdown",
   "metadata": {},
   "source": [
    "Paises"
   ]
  },
  {
   "cell_type": "code",
   "execution_count": 7,
   "metadata": {},
   "outputs": [
    {
     "name": "stdout",
     "output_type": "stream",
     "text": [
      "['DEU' 'AUS' 'AUT' 'BGD' 'BEL' 'BOL' 'BRA' 'CAN' 'CHL' 'CHN' 'COL' 'CRI'\n",
      " 'HRV' 'DNK' 'ECU' 'SLV' 'ESP' 'USA' 'EST' 'RUS' 'FIN' 'FRA' 'GRC' 'GTM'\n",
      " 'HND' 'HUN' 'IND' 'IDN' 'IRL' 'ISL' 'ISR' 'ITA' 'JPN' 'JOR' 'KEN' 'LTU'\n",
      " 'LUX' 'MYS' 'MLT' 'MAR' 'MEX' 'NGA' 'NOR' 'NLD' 'PAK' 'PAN' 'PRY' 'PER'\n",
      " 'POL' 'PRT' 'GBR' 'EGY' 'KOR' 'ROU' 'SWE' 'CHE' 'TUR' 'URY' 'NZL']\n"
     ]
    }
   ],
   "source": [
    "print(iso)"
   ]
  },
  {
   "cell_type": "markdown",
   "metadata": {},
   "source": [
    "Features"
   ]
  },
  {
   "cell_type": "code",
   "execution_count": 8,
   "metadata": {},
   "outputs": [
    {
     "name": "stdout",
     "output_type": "stream",
     "text": [
      "<class 'pandas.core.frame.DataFrame'>\n",
      "MultiIndex: 2444 entries, ('DEU', 1983) to ('NZL', 2021)\n",
      "Data columns (total 12 columns):\n",
      " #   Column       Non-Null Count  Dtype  \n",
      "---  ------       --------------  -----  \n",
      " 0   trade        2444 non-null   float64\n",
      " 1   exports      2444 non-null   float64\n",
      " 2   imports      2444 non-null   float64\n",
      " 3   ggfce        2444 non-null   float64\n",
      " 4   gfcf         2444 non-null   float64\n",
      " 5   unempl       2444 non-null   float64\n",
      " 6   rgdp_growth  2444 non-null   float64\n",
      " 7   infl_cpi     2444 non-null   float64\n",
      " 8   oil          2444 non-null   float64\n",
      " 9   gold         2444 non-null   float64\n",
      " 10  copper       2444 non-null   float64\n",
      " 11  sp500        2444 non-null   float64\n",
      "dtypes: float64(12)\n",
      "memory usage: 239.0+ KB\n"
     ]
    }
   ],
   "source": [
    "df.info()"
   ]
  },
  {
   "cell_type": "markdown",
   "metadata": {},
   "source": [
    "# Dividir Datos"
   ]
  },
  {
   "cell_type": "code",
   "execution_count": 9,
   "metadata": {},
   "outputs": [],
   "source": [
    "iso_test = ['PER']\n",
    "iso_train = iso[(iso != iso_test[0])]\n",
    "target_col = ['rgdp_growth']\n",
    "features = df.columns[(df.columns!=target_col[0])]\n",
    "df_test = df.copy()\n"
   ]
  },
  {
   "cell_type": "markdown",
   "metadata": {},
   "source": [
    "Países de Entrenamiento"
   ]
  },
  {
   "cell_type": "code",
   "execution_count": 10,
   "metadata": {},
   "outputs": [
    {
     "name": "stdout",
     "output_type": "stream",
     "text": [
      "['DEU' 'AUS' 'AUT' 'BGD' 'BEL' 'BOL' 'BRA' 'CAN' 'CHL' 'CHN' 'COL' 'CRI'\n",
      " 'HRV' 'DNK' 'ECU' 'SLV' 'ESP' 'USA' 'EST' 'RUS' 'FIN' 'FRA' 'GRC' 'GTM'\n",
      " 'HND' 'HUN' 'IND' 'IDN' 'IRL' 'ISL' 'ISR' 'ITA' 'JPN' 'JOR' 'KEN' 'LTU'\n",
      " 'LUX' 'MYS' 'MLT' 'MAR' 'MEX' 'NGA' 'NOR' 'NLD' 'PAK' 'PAN' 'PRY' 'POL'\n",
      " 'PRT' 'GBR' 'EGY' 'KOR' 'ROU' 'SWE' 'CHE' 'TUR' 'URY' 'NZL']\n"
     ]
    }
   ],
   "source": [
    "print(iso_train)"
   ]
  },
  {
   "cell_type": "markdown",
   "metadata": {},
   "source": [
    "Features de Entrenamiento"
   ]
  },
  {
   "cell_type": "code",
   "execution_count": 11,
   "metadata": {},
   "outputs": [
    {
     "name": "stdout",
     "output_type": "stream",
     "text": [
      "Index(['trade', 'exports', 'imports', 'ggfce', 'gfcf', 'unempl', 'infl_cpi',\n",
      "       'oil', 'gold', 'copper', 'sp500'],\n",
      "      dtype='object')\n"
     ]
    }
   ],
   "source": [
    "print(features)"
   ]
  },
  {
   "cell_type": "markdown",
   "metadata": {},
   "source": [
    "# Normalizar"
   ]
  },
  {
   "cell_type": "code",
   "execution_count": 12,
   "metadata": {},
   "outputs": [],
   "source": [
    "df_x_train = df.loc[iso_train][features].copy()\n",
    "df_y_train = df.loc[iso_train][target_col].copy()\n",
    "df_x_test = df_test.loc[iso_test][features].copy()\n",
    "df_y_test = df_test.loc[iso_test][target_col].copy()\n",
    "\n",
    "std_scaler_x_train = StandardScaler()\n",
    "std_scaler_y_train = StandardScaler()\n",
    "std_scaler_x_test = StandardScaler()\n",
    "std_scaler_y_test = StandardScaler()\n",
    "\n",
    "df_x_train.iloc[:,:] = std_scaler_x_train.fit_transform(df_x_train)\n",
    "df_y_train.iloc[:,:] = std_scaler_y_train.fit_transform(df_y_train)\n",
    "df_x_test.iloc[:,:] = std_scaler_x_test.fit_transform(df_x_test)\n",
    "df_y_test.iloc[:,:] = std_scaler_y_test.fit_transform(df_y_test)\n",
    "\n",
    "df_x_train.iloc[:,:] = np.clip(df_x_train,-3,3)\n",
    "df_y_train.iloc[:,:] = np.clip(df_y_train,-3,3)\n",
    "df_x_test.iloc[:,:] = np.clip(df_x_test,-3,3)\n",
    "df_y_test.iloc[:,:] = np.clip(df_y_test,-3,3)"
   ]
  },
  {
   "cell_type": "markdown",
   "metadata": {},
   "source": [
    "# Generar variables lag y horizonte"
   ]
  },
  {
   "cell_type": "code",
   "execution_count": 13,
   "metadata": {},
   "outputs": [],
   "source": [
    "n_steps_in = 10\n",
    "n_steps_out = 3\n",
    "n_features = len(features)\n",
    "\n",
    "x_train, y_train = shift_join_data(df_x_train,df_y_train,iso_train,n_steps_in,n_steps_out)\n",
    "x_test, y_test = shift_join_data(df_x_test,df_y_test,iso_test,n_steps_in,n_steps_out)\n",
    "x_test, y_test = x_test[- int(len(x_test)*0.3):], y_test[- int(len(y_test)*0.3):]\n",
    "x_train = flatten(x_train)\n",
    "x_test = flatten(x_test)"
   ]
  },
  {
   "cell_type": "markdown",
   "metadata": {},
   "source": [
    "# Entrenamiento y evaluación"
   ]
  },
  {
   "cell_type": "code",
   "execution_count": 14,
   "metadata": {},
   "outputs": [],
   "source": [
    "def evaluar_dbn(x_train : np.ndarray, y_train : np.ndarray, x_test : np.ndarray,\n",
    "        y_test : np.ndarray, n_iter : int, scaler : StandardScaler):\n",
    "    n_splits = 5    # Nro de K Folds para CV\n",
    "    res_path = res_name+'.csv'\n",
    "    tscv = TimeSeriesSplit(n_splits = n_splits)\n",
    "    print_line(\"mae_1,mae_2,mae_3,rmse_1,rmse_2,rmse_3,mape_1,mape_2,mape_3\\n\",res_path)\n",
    "    # Inicio\n",
    "    print('Inicio de evaluacion:')\n",
    "    for i in range(n_iter):\n",
    "        val_mae = list()\n",
    "        val_rmse = list()\n",
    "        val_mape = list()\n",
    "        for train_idx, _ in tscv.split(x_train):\n",
    "            # CV split\n",
    "            x_t, y_t = x_train[train_idx], y_train[train_idx]\n",
    "            # Entrenamiento\n",
    "            model = SupervisedDBNRegression(\n",
    "                        hidden_layers_structure = h_layers_structure,\n",
    "                        learning_rate_rbm = rbm_learning_rate,\n",
    "                        learning_rate = bp_learning_rate,\n",
    "                        n_epochs_rbm = n_epochs,\n",
    "                        n_iter_backprop = n_iter_backprop,\n",
    "                        batch_size = mini_batch,\n",
    "                        activation_function = activation,\n",
    "                        dropout_p = dropout,\n",
    "                        verbose = False)\n",
    "            model.fit(x_t, y_t)\n",
    "            # Prediccion\n",
    "            y_pred = model.predict(x_test)\n",
    "            # Denormalizando\n",
    "            dn_y_test = scaler.inverse_transform(y_test)\n",
    "            dn_y_pred = scaler.inverse_transform(y_pred)\n",
    "            # Evaluacion\n",
    "            val_mae.append(mae(dn_y_test, dn_y_pred))\n",
    "            val_rmse.append(rmse(dn_y_test, dn_y_pred))\n",
    "            val_mape.append(mape(dn_y_test, dn_y_pred))\n",
    "        # Promedios\n",
    "        mean_mae = np.mean(val_mae,axis=0)\n",
    "        mean_rmse = np.mean(val_rmse,axis=0)\n",
    "        mean_mape = np.mean(val_mape,axis=0)\n",
    "        print_line('{},{},{},{},{},{},{},{},{}\\n'.format(mean_mae[0],mean_mae[1],mean_mae[2],\n",
    "            mean_rmse[0],mean_rmse[1],mean_rmse[2],mean_mape[0],mean_mape[1],mean_mape[2]),res_path)\n",
    "        print('Iter: {}/{} completado.'.format(i+1,n_iter))\n",
    "    print('Fin de evaluacion.')"
   ]
  },
  {
   "cell_type": "code",
   "execution_count": 15,
   "metadata": {},
   "outputs": [
    {
     "name": "stdout",
     "output_type": "stream",
     "text": [
      "Inicio de evaluacion:\n",
      "Iter: 1/30 completado.\n",
      "Iter: 2/30 completado.\n",
      "Iter: 3/30 completado.\n",
      "Iter: 4/30 completado.\n",
      "Iter: 5/30 completado.\n",
      "Iter: 6/30 completado.\n",
      "Iter: 7/30 completado.\n",
      "Iter: 8/30 completado.\n",
      "Iter: 9/30 completado.\n",
      "Iter: 10/30 completado.\n",
      "Iter: 11/30 completado.\n",
      "Iter: 12/30 completado.\n",
      "Iter: 13/30 completado.\n",
      "Iter: 14/30 completado.\n",
      "Iter: 15/30 completado.\n",
      "Iter: 16/30 completado.\n",
      "Iter: 17/30 completado.\n",
      "Iter: 18/30 completado.\n",
      "Iter: 19/30 completado.\n",
      "Iter: 20/30 completado.\n",
      "Iter: 21/30 completado.\n",
      "Iter: 22/30 completado.\n",
      "Iter: 23/30 completado.\n",
      "Iter: 24/30 completado.\n",
      "Iter: 25/30 completado.\n",
      "Iter: 26/30 completado.\n",
      "Iter: 27/30 completado.\n",
      "Iter: 28/30 completado.\n",
      "Iter: 29/30 completado.\n",
      "Iter: 30/30 completado.\n",
      "Fin de evaluacion.\n"
     ]
    }
   ],
   "source": [
    "# evaluar\n",
    "evaluar_dbn(x_train, y_train, x_test, y_test,n_iter,std_scaler_y_test)"
   ]
  },
  {
   "cell_type": "markdown",
   "metadata": {},
   "source": [
    "# Resultados"
   ]
  },
  {
   "cell_type": "code",
   "execution_count": 16,
   "metadata": {},
   "outputs": [],
   "source": [
    "df_res = pd.read_csv(res_name+'.csv')"
   ]
  },
  {
   "cell_type": "code",
   "execution_count": 17,
   "metadata": {},
   "outputs": [
    {
     "data": {
      "text/html": [
       "<div>\n",
       "<style scoped>\n",
       "    .dataframe tbody tr th:only-of-type {\n",
       "        vertical-align: middle;\n",
       "    }\n",
       "\n",
       "    .dataframe tbody tr th {\n",
       "        vertical-align: top;\n",
       "    }\n",
       "\n",
       "    .dataframe thead th {\n",
       "        text-align: right;\n",
       "    }\n",
       "</style>\n",
       "<table border=\"1\" class=\"dataframe\">\n",
       "  <thead>\n",
       "    <tr style=\"text-align: right;\">\n",
       "      <th></th>\n",
       "      <th>mae_1</th>\n",
       "      <th>mae_2</th>\n",
       "      <th>mae_3</th>\n",
       "      <th>rmse_1</th>\n",
       "      <th>rmse_2</th>\n",
       "      <th>rmse_3</th>\n",
       "      <th>mape_1</th>\n",
       "      <th>mape_2</th>\n",
       "      <th>mape_3</th>\n",
       "    </tr>\n",
       "  </thead>\n",
       "  <tbody>\n",
       "    <tr>\n",
       "      <th>count</th>\n",
       "      <td>30.000000</td>\n",
       "      <td>30.000000</td>\n",
       "      <td>30.000000</td>\n",
       "      <td>30.000000</td>\n",
       "      <td>30.000000</td>\n",
       "      <td>30.000000</td>\n",
       "      <td>30.000000</td>\n",
       "      <td>30.000000</td>\n",
       "      <td>30.000000</td>\n",
       "    </tr>\n",
       "    <tr>\n",
       "      <th>mean</th>\n",
       "      <td>1.851883</td>\n",
       "      <td>2.663878</td>\n",
       "      <td>2.870867</td>\n",
       "      <td>2.304226</td>\n",
       "      <td>3.098255</td>\n",
       "      <td>4.142978</td>\n",
       "      <td>69.974745</td>\n",
       "      <td>85.685497</td>\n",
       "      <td>52.640341</td>\n",
       "    </tr>\n",
       "    <tr>\n",
       "      <th>std</th>\n",
       "      <td>0.047597</td>\n",
       "      <td>0.058198</td>\n",
       "      <td>0.050603</td>\n",
       "      <td>0.044393</td>\n",
       "      <td>0.049367</td>\n",
       "      <td>0.039541</td>\n",
       "      <td>1.580578</td>\n",
       "      <td>2.200356</td>\n",
       "      <td>1.612678</td>\n",
       "    </tr>\n",
       "    <tr>\n",
       "      <th>min</th>\n",
       "      <td>1.763167</td>\n",
       "      <td>2.547250</td>\n",
       "      <td>2.783711</td>\n",
       "      <td>2.220637</td>\n",
       "      <td>2.996118</td>\n",
       "      <td>4.058653</td>\n",
       "      <td>66.818304</td>\n",
       "      <td>80.321267</td>\n",
       "      <td>49.742364</td>\n",
       "    </tr>\n",
       "    <tr>\n",
       "      <th>25%</th>\n",
       "      <td>1.824323</td>\n",
       "      <td>2.626661</td>\n",
       "      <td>2.830693</td>\n",
       "      <td>2.272546</td>\n",
       "      <td>3.065823</td>\n",
       "      <td>4.121441</td>\n",
       "      <td>69.076212</td>\n",
       "      <td>84.351340</td>\n",
       "      <td>51.244872</td>\n",
       "    </tr>\n",
       "    <tr>\n",
       "      <th>50%</th>\n",
       "      <td>1.847168</td>\n",
       "      <td>2.674527</td>\n",
       "      <td>2.869084</td>\n",
       "      <td>2.305289</td>\n",
       "      <td>3.098672</td>\n",
       "      <td>4.153123</td>\n",
       "      <td>70.053206</td>\n",
       "      <td>85.949460</td>\n",
       "      <td>52.412453</td>\n",
       "    </tr>\n",
       "    <tr>\n",
       "      <th>75%</th>\n",
       "      <td>1.892450</td>\n",
       "      <td>2.701822</td>\n",
       "      <td>2.912235</td>\n",
       "      <td>2.334440</td>\n",
       "      <td>3.131911</td>\n",
       "      <td>4.169734</td>\n",
       "      <td>71.274670</td>\n",
       "      <td>87.049695</td>\n",
       "      <td>54.131650</td>\n",
       "    </tr>\n",
       "    <tr>\n",
       "      <th>max</th>\n",
       "      <td>1.926632</td>\n",
       "      <td>2.779617</td>\n",
       "      <td>2.961548</td>\n",
       "      <td>2.372106</td>\n",
       "      <td>3.215466</td>\n",
       "      <td>4.211938</td>\n",
       "      <td>72.683884</td>\n",
       "      <td>89.945518</td>\n",
       "      <td>55.507909</td>\n",
       "    </tr>\n",
       "  </tbody>\n",
       "</table>\n",
       "</div>"
      ],
      "text/plain": [
       "           mae_1      mae_2      mae_3     rmse_1     rmse_2     rmse_3  \\\n",
       "count  30.000000  30.000000  30.000000  30.000000  30.000000  30.000000   \n",
       "mean    1.851883   2.663878   2.870867   2.304226   3.098255   4.142978   \n",
       "std     0.047597   0.058198   0.050603   0.044393   0.049367   0.039541   \n",
       "min     1.763167   2.547250   2.783711   2.220637   2.996118   4.058653   \n",
       "25%     1.824323   2.626661   2.830693   2.272546   3.065823   4.121441   \n",
       "50%     1.847168   2.674527   2.869084   2.305289   3.098672   4.153123   \n",
       "75%     1.892450   2.701822   2.912235   2.334440   3.131911   4.169734   \n",
       "max     1.926632   2.779617   2.961548   2.372106   3.215466   4.211938   \n",
       "\n",
       "          mape_1     mape_2     mape_3  \n",
       "count  30.000000  30.000000  30.000000  \n",
       "mean   69.974745  85.685497  52.640341  \n",
       "std     1.580578   2.200356   1.612678  \n",
       "min    66.818304  80.321267  49.742364  \n",
       "25%    69.076212  84.351340  51.244872  \n",
       "50%    70.053206  85.949460  52.412453  \n",
       "75%    71.274670  87.049695  54.131650  \n",
       "max    72.683884  89.945518  55.507909  "
      ]
     },
     "execution_count": 17,
     "metadata": {},
     "output_type": "execute_result"
    }
   ],
   "source": [
    "df_res.describe()"
   ]
  },
  {
   "cell_type": "code",
   "execution_count": 18,
   "metadata": {},
   "outputs": [
    {
     "data": {
      "text/plain": [
       "<AxesSubplot:>"
      ]
     },
     "execution_count": 18,
     "metadata": {},
     "output_type": "execute_result"
    },
    {
     "data": {
      "image/png": "[encoded data removed]",
      "text/plain": [
       "<Figure size 432x288 with 1 Axes>"
      ]
     },
     "metadata": {
      "needs_background": "light"
     },
     "output_type": "display_data"
    }
   ],
   "source": [
    "df_res[['mae_1','mae_2','mae_3']].plot.box()"
   ]
  },
  {
   "cell_type": "code",
   "execution_count": 19,
   "metadata": {},
   "outputs": [
    {
     "data": {
      "text/plain": [
       "<AxesSubplot:>"
      ]
     },
     "execution_count": 19,
     "metadata": {},
     "output_type": "execute_result"
    },
    {
     "data": {
      "image/png": "[encoded data removed]",
      "text/plain": [
       "<Figure size 432x288 with 1 Axes>"
      ]
     },
     "metadata": {
      "needs_background": "light"
     },
     "output_type": "display_data"
    }
   ],
   "source": [
    "df_res[['rmse_1','rmse_2','rmse_3']].plot.box()"
   ]
  },
  {
   "cell_type": "code",
   "execution_count": 20,
   "metadata": {},
   "outputs": [
    {
     "data": {
      "text/plain": [
       "<AxesSubplot:>"
      ]
     },
     "execution_count": 20,
     "metadata": {},
     "output_type": "execute_result"
    },
    {
     "data": {
      "image/png": "[encoded data removed]",
      "text/plain": [
       "<Figure size 432x288 with 1 Axes>"
      ]
     },
     "metadata": {
      "needs_background": "light"
     },
     "output_type": "display_data"
    }
   ],
   "source": [
    "df_res[['mape_1','mape_2','mape_3']].plot.box()"
   ]
  },
  {
   "cell_type": "markdown",
   "metadata": {},
   "source": [
    "# Prediccion"
   ]
  },
  {
   "cell_type": "code",
   "execution_count": 21,
   "metadata": {},
   "outputs": [],
   "source": [
    "model = SupervisedDBNRegression(\n",
    "            hidden_layers_structure = h_layers_structure,\n",
    "            learning_rate_rbm = rbm_learning_rate,\n",
    "            learning_rate = bp_learning_rate,\n",
    "            n_epochs_rbm = n_epochs,\n",
    "            n_iter_backprop = n_iter_backprop,\n",
    "            batch_size = mini_batch,\n",
    "            activation_function = activation,\n",
    "            dropout_p = dropout,\n",
    "            verbose = False)\n",
    "history = model.fit(x_train, y_train)\n",
    "#model.save(res_name+'.h5')"
   ]
  },
  {
   "cell_type": "code",
   "execution_count": 22,
   "metadata": {},
   "outputs": [],
   "source": [
    "y_pred = model.predict(x_test)\n",
    "dn_y_test = std_scaler_y_test.inverse_transform(y_test)\n",
    "dn_y_pred = std_scaler_y_test.inverse_transform(y_pred)"
   ]
  },
  {
   "cell_type": "code",
   "execution_count": 23,
   "metadata": {},
   "outputs": [
    {
     "name": "stdout",
     "output_type": "stream",
     "text": [
      "(3, 12)\n"
     ]
    },
    {
     "data": {
      "image/png": "[encoded data removed]",
      "text/plain": [
       "<Figure size 576x288 with 1 Axes>"
      ]
     },
     "metadata": {
      "needs_background": "light"
     },
     "output_type": "display_data"
    },
    {
     "data": {
      "image/png": "[encoded data removed]",
      "text/plain": [
       "<Figure size 576x288 with 1 Axes>"
      ]
     },
     "metadata": {
      "needs_background": "light"
     },
     "output_type": "display_data"
    },
    {
     "data": {
      "image/png": "[encoded data removed]",
      "text/plain": [
       "<Figure size 576x288 with 1 Axes>"
      ]
     },
     "metadata": {
      "needs_background": "light"
     },
     "output_type": "display_data"
    }
   ],
   "source": [
    "plot_pred(dn_y_test, dn_y_pred,2021)"
   ]
  },
  {
   "cell_type": "code",
   "execution_count": 24,
   "metadata": {},
   "outputs": [],
   "source": [
    "# from notifications import enviar_correo\n",
    "# enviar_correo(\"Evaluacion Finalizado!\",\"Se ha completado: {}\".format(res_name))"
   ]
  }
 ],
 "metadata": {
  "kernelspec": {
   "display_name": "Python 3.8.13 ('base')",
   "language": "python",
   "name": "python3"
  },
  "language_info": {
   "codemirror_mode": {
    "name": "ipython",
    "version": 3
   },
   "file_extension": ".py",
   "mimetype": "text/x-python",
   "name": "python",
   "nbconvert_exporter": "python",
   "pygments_lexer": "ipython3",
   "version": "3.8.13"
  },
  "orig_nbformat": 4,
  "vscode": {
   "interpreter": {
    "hash": "e6822839c80bb80c42f7f9e096efdd447a89633a8e8a553b5cfb2012f3a4eafe"
   }
  }
 },
 "nbformat": 4,
 "nbformat_minor": 2
}
