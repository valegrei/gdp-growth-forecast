{
 "cells": [
  {
   "cell_type": "code",
   "execution_count": 1,
   "metadata": {},
   "outputs": [],
   "source": [
    "import pandas as pd\n",
    "import matplotlib.pyplot as plt\n",
    "import seaborn as sns"
   ]
  },
  {
   "cell_type": "code",
   "execution_count": 2,
   "metadata": {},
   "outputs": [],
   "source": [
    "df_mlp = pd.read_csv('resultados/MLP_20220801_2207.csv')\n",
    "df_mlp_tr = pd.read_csv('resultados/MLP_TR_20220801_2251.csv')\n",
    "df_cnn = pd.read_csv('resultados/CNN_20220801_2313.csv')\n",
    "df_cnn_tr = pd.read_csv('resultados/CNN_TR_20220802_0852.csv')\n",
    "df_lstm = pd.read_csv('resultados/LSTM_20220802_0907.csv')\n",
    "df_lstm_tr = pd.read_csv('resultados/LSTM_TR_20220802_1025.csv')\n",
    "df_gru = pd.read_csv('resultados/GRU_20220802_1053.csv')\n",
    "df_gru_tr = pd.read_csv('resultados/GRU_TR_20220802_1221.csv')\n",
    "df_seq2seq = pd.read_csv('resultados/Seq2Seq_20220802_1436.csv')\n",
    "df_seq2seq_tr = pd.read_csv('resultados/Seq2Seq_TR_20220802_1651.csv')\n",
    "df_dbn = pd.read_csv('resultados/DBN_20220802_1737.csv')"
   ]
  },
  {
   "cell_type": "code",
   "execution_count": 3,
   "metadata": {},
   "outputs": [],
   "source": [
    "df_rmse = pd.DataFrame()\n",
    "df_rmse['MLP'] = df_mlp['rmse']\n",
    "df_rmse['CNN'] = df_cnn['rmse']\n",
    "df_rmse['LSTM'] = df_lstm['rmse']\n",
    "df_rmse['GRU'] = df_gru['rmse']\n",
    "df_rmse['Seq2Seq'] = df_seq2seq['rmse']\n",
    "df_rmse['DBN'] = df_dbn['rmse']\n",
    "df_rmse['MLP_TR'] = df_mlp_tr['rmse']\n",
    "df_rmse['CNN_TR'] = df_cnn_tr['rmse']\n",
    "df_rmse['LSTM_TR'] = df_lstm_tr['rmse']\n",
    "df_rmse['GRU_TR'] = df_gru_tr['rmse']\n",
    "df_rmse['Seq2Seq_TR'] = df_seq2seq_tr['rmse']"
   ]
  },
  {
   "cell_type": "code",
   "execution_count": 6,
   "metadata": {},
   "outputs": [
    {
     "data": {
      "text/plain": [
       "MLP           1.936512\n",
       "CNN           2.948676\n",
       "LSTM          3.245233\n",
       "GRU           2.209680\n",
       "Seq2Seq       2.866173\n",
       "DBN           3.493816\n",
       "MLP_TR        1.381026\n",
       "CNN_TR        2.664481\n",
       "LSTM_TR       8.903310\n",
       "GRU_TR        1.429455\n",
       "Seq2Seq_TR    2.759780\n",
       "dtype: float64"
      ]
     },
     "execution_count": 6,
     "metadata": {},
     "output_type": "execute_result"
    }
   ],
   "source": [
    "df_rmse.mean()"
   ]
  },
  {
   "cell_type": "code",
   "execution_count": 4,
   "metadata": {},
   "outputs": [
    {
     "data": {
      "image/png": "[encoded data removed]",
      "text/plain": [
       "<Figure size 864x360 with 1 Axes>"
      ]
     },
     "metadata": {
      "needs_background": "light"
     },
     "output_type": "display_data"
    }
   ],
   "source": [
    "fig, ax = plt.subplots(figsize=(12,5))\n",
    "sns.barplot(data=df_rmse, ax=ax)\n",
    "ax.set_axisbelow(True)\n",
    "ax.set_title('Resultados de Evaluación')\n",
    "ax.set_ylabel('RMSE')\n",
    "ax.set_xlabel('Modelos')\n",
    "plt.grid(True, axis='y')"
   ]
  }
 ],
 "metadata": {
  "kernelspec": {
   "display_name": "Python 3.8.13 ('base')",
   "language": "python",
   "name": "python3"
  },
  "language_info": {
   "codemirror_mode": {
    "name": "ipython",
    "version": 3
   },
   "file_extension": ".py",
   "mimetype": "text/x-python",
   "name": "python",
   "nbconvert_exporter": "python",
   "pygments_lexer": "ipython3",
   "version": "3.8.13"
  },
  "orig_nbformat": 4,
  "vscode": {
   "interpreter": {
    "hash": "e6822839c80bb80c42f7f9e096efdd447a89633a8e8a553b5cfb2012f3a4eafe"
   }
  }
 },
 "nbformat": 4,
 "nbformat_minor": 2
}
