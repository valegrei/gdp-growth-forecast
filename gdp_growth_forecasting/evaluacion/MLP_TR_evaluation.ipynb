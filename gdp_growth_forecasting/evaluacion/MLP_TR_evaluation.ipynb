{
 "cells": [
  {
   "cell_type": "code",
   "execution_count": 1,
   "metadata": {},
   "outputs": [],
   "source": [
    "#%xmode Verbose"
   ]
  },
  {
   "cell_type": "code",
   "execution_count": 2,
   "metadata": {},
   "outputs": [],
   "source": [
    "import sys\n",
    "sys.path.append(\"../libs/\")"
   ]
  },
  {
   "cell_type": "code",
   "execution_count": 16,
   "metadata": {},
   "outputs": [],
   "source": [
    "import pandas as pd\n",
    "import numpy as np\n",
    "from sklearn.preprocessing import StandardScaler\n",
    "from sklearn.model_selection import TimeSeriesSplit\n",
    "from tensorflow.keras.callbacks import EarlyStopping\n",
    "from utils import shift_join_data, mae,rmse,mape,print_line, plot_pred, plot_history\n",
    "from keras.models import load_model\n",
    "from keras.utils.vis_utils import plot_model\n",
    "import datetime\n",
    "from tensorflow.keras.optimizers import Adam"
   ]
  },
  {
   "cell_type": "code",
   "execution_count": 4,
   "metadata": {},
   "outputs": [],
   "source": [
    "# Ruta del modelo con hiperparametros optimizados (sin entrenar)\n",
    "model_path = 'resultados/MLP_20220731_1032_7.h5'\n",
    "# Callback para detener el entrenamiento cuando el error de validacion no disminuye despues de 50 epocas\n",
    "es = EarlyStopping(monitor='val_loss', mode='min', patience=50,restore_best_weights=True)\n",
    "mini_batch = 32\n",
    "n_epochs= 2000  # Nro de epocas maximas\n",
    "fecha_hora = datetime.datetime.now().strftime('%Y%m%d_%H%M')\n",
    "res_name = 'resultados/MLP_TR_'+fecha_hora\n",
    "n_iter = 30\n",
    "learning_rate = 1e-3"
   ]
  },
  {
   "cell_type": "markdown",
   "metadata": {},
   "source": [
    "# Carga de datos"
   ]
  },
  {
   "cell_type": "code",
   "execution_count": 5,
   "metadata": {},
   "outputs": [],
   "source": [
    "df = pd.read_csv('../data/wb_dataset_prep.csv')\n",
    "df = df.drop('country',axis=1)\n",
    "iso = df['iso'].unique()    #Codigos de paises\n",
    "df = df.set_index(['iso','year'])"
   ]
  },
  {
   "cell_type": "markdown",
   "metadata": {},
   "source": [
    "Paises"
   ]
  },
  {
   "cell_type": "code",
   "execution_count": 6,
   "metadata": {},
   "outputs": [
    {
     "name": "stdout",
     "output_type": "stream",
     "text": [
      "['DEU' 'AUS' 'AUT' 'BGD' 'BEL' 'BOL' 'BRA' 'CAN' 'CHL' 'CHN' 'COL' 'CRI'\n",
      " 'HRV' 'DNK' 'ECU' 'SLV' 'ESP' 'USA' 'EST' 'RUS' 'FIN' 'FRA' 'GRC' 'GTM'\n",
      " 'HND' 'HUN' 'IND' 'IDN' 'IRL' 'ISL' 'ISR' 'ITA' 'JPN' 'JOR' 'KEN' 'LTU'\n",
      " 'LUX' 'MYS' 'MLT' 'MAR' 'MEX' 'NGA' 'NOR' 'NLD' 'PAK' 'PAN' 'PRY' 'PER'\n",
      " 'POL' 'PRT' 'GBR' 'EGY' 'KOR' 'ROU' 'SWE' 'CHE' 'TUR' 'URY' 'NZL']\n"
     ]
    }
   ],
   "source": [
    "print(iso)"
   ]
  },
  {
   "cell_type": "markdown",
   "metadata": {},
   "source": [
    "Features"
   ]
  },
  {
   "cell_type": "code",
   "execution_count": 7,
   "metadata": {},
   "outputs": [
    {
     "name": "stdout",
     "output_type": "stream",
     "text": [
      "<class 'pandas.core.frame.DataFrame'>\n",
      "MultiIndex: 2444 entries, ('DEU', 1983) to ('NZL', 2021)\n",
      "Data columns (total 12 columns):\n",
      " #   Column       Non-Null Count  Dtype  \n",
      "---  ------       --------------  -----  \n",
      " 0   trade        2444 non-null   float64\n",
      " 1   exports      2444 non-null   float64\n",
      " 2   imports      2444 non-null   float64\n",
      " 3   ggfce        2444 non-null   float64\n",
      " 4   gfcf         2444 non-null   float64\n",
      " 5   unempl       2444 non-null   float64\n",
      " 6   rgdp_growth  2444 non-null   float64\n",
      " 7   infl_cpi     2444 non-null   float64\n",
      " 8   oil          2444 non-null   float64\n",
      " 9   gold         2444 non-null   float64\n",
      " 10  copper       2444 non-null   float64\n",
      " 11  sp500        2444 non-null   float64\n",
      "dtypes: float64(12)\n",
      "memory usage: 239.0+ KB\n"
     ]
    }
   ],
   "source": [
    "df.info()"
   ]
  },
  {
   "cell_type": "markdown",
   "metadata": {},
   "source": [
    "# Dividir Datos"
   ]
  },
  {
   "cell_type": "code",
   "execution_count": 8,
   "metadata": {},
   "outputs": [],
   "source": [
    "iso_train = ['PER']\n",
    "target_col = ['rgdp_growth']\n",
    "features = df.columns[(df.columns!=target_col[0])]"
   ]
  },
  {
   "cell_type": "markdown",
   "metadata": {},
   "source": [
    "Países de Entrenamiento"
   ]
  },
  {
   "cell_type": "code",
   "execution_count": 9,
   "metadata": {},
   "outputs": [
    {
     "name": "stdout",
     "output_type": "stream",
     "text": [
      "['PER']\n"
     ]
    }
   ],
   "source": [
    "print(iso_train)"
   ]
  },
  {
   "cell_type": "markdown",
   "metadata": {},
   "source": [
    "Features de Entrenamiento"
   ]
  },
  {
   "cell_type": "code",
   "execution_count": 10,
   "metadata": {},
   "outputs": [
    {
     "name": "stdout",
     "output_type": "stream",
     "text": [
      "Index(['trade', 'exports', 'imports', 'ggfce', 'gfcf', 'unempl', 'infl_cpi',\n",
      "       'oil', 'gold', 'copper', 'sp500'],\n",
      "      dtype='object')\n"
     ]
    }
   ],
   "source": [
    "print(features)"
   ]
  },
  {
   "cell_type": "markdown",
   "metadata": {},
   "source": [
    "# Normalizar"
   ]
  },
  {
   "cell_type": "code",
   "execution_count": 11,
   "metadata": {},
   "outputs": [],
   "source": [
    "df_x = df.loc[iso_train][features].copy()\n",
    "df_y = df.loc[iso_train][target_col].copy()\n",
    "\n",
    "std_scaler_x = StandardScaler()\n",
    "std_scaler_y = StandardScaler()\n",
    "\n",
    "df_x.iloc[:,:] = std_scaler_x.fit_transform(df_x)\n",
    "df_y.iloc[:,:] = std_scaler_y.fit_transform(df_y)\n",
    "\n",
    "df_x.iloc[:,:] = np.clip(df_x,-3,3)\n",
    "df_y.iloc[:,:] = np.clip(df_y,-3,3)"
   ]
  },
  {
   "cell_type": "markdown",
   "metadata": {},
   "source": [
    "# Generar variables lag y horizonte"
   ]
  },
  {
   "cell_type": "code",
   "execution_count": 12,
   "metadata": {},
   "outputs": [],
   "source": [
    "n_steps_in = 10\n",
    "n_steps_out = 3\n",
    "n_features = len(features)\n",
    "\n",
    "x, y = shift_join_data(df_x,df_y,iso_train,n_steps_in,n_steps_out)\n",
    "\n",
    "x_train, y_train = x[:int(len(x)*0.7)], y[:int(len(y)*0.7)]\n",
    "x_test, y_test = x[- int(len(x)*0.3):], y[- int(len(y)*0.3):]\n"
   ]
  },
  {
   "cell_type": "markdown",
   "metadata": {},
   "source": [
    "# Entrenamiento y evaluación"
   ]
  },
  {
   "cell_type": "code",
   "execution_count": 17,
   "metadata": {},
   "outputs": [],
   "source": [
    "def evaluar_mlp_tr(x_train : np.ndarray, y_train : np.ndarray, x_test : np.ndarray,\n",
    "        y_test : np.ndarray, n_iter : int, scaler : StandardScaler):\n",
    "    n_splits = 5    # Nro de K Folds para CV\n",
    "    res_path = res_name+'.csv'\n",
    "    tscv = TimeSeriesSplit(n_splits = n_splits)\n",
    "    print_line(\"mae_1,mae_2,mae_3,rmse_1,rmse_2,rmse_3,mape_1,mape_2,mape_3\\n\",res_path)\n",
    "    # Inicio\n",
    "    print('Inicio de evaluacion:')\n",
    "    for i in range(n_iter):\n",
    "        val_mae = list()\n",
    "        val_rmse = list()\n",
    "        val_mape = list()\n",
    "        for train_idx, test_idx in tscv.split(x_train):\n",
    "            # CV split\n",
    "            x_t, y_t = x_train[train_idx], y_train[train_idx]\n",
    "            x_v, y_v = x_train[test_idx], y_train[test_idx]\n",
    "            # Entrenamiento\n",
    "            model = load_model(model_path)\n",
    "            model.compile(optimizer=Adam(learning_rate=learning_rate),loss='mse')\n",
    "            model.fit(x_t, y_t, validation_data = (x_v, y_v), epochs = n_epochs,\n",
    "                batch_size = mini_batch, callbacks = [es], shuffle = False, verbose = 0)\n",
    "            # Prediccion\n",
    "            y_pred = model(x_test)\n",
    "            # Denormalizando\n",
    "            dn_y_test = scaler.inverse_transform(y_test)\n",
    "            dn_y_pred = scaler.inverse_transform(y_pred)\n",
    "            # Evaluacion\n",
    "            val_mae.append(mae(dn_y_test, dn_y_pred))\n",
    "            val_rmse.append(rmse(dn_y_test, dn_y_pred))\n",
    "            val_mape.append(mape(dn_y_test, dn_y_pred))\n",
    "        # Promedios\n",
    "        mean_mae = np.mean(val_mae,axis=0)\n",
    "        mean_rmse = np.mean(val_rmse,axis=0)\n",
    "        mean_mape = np.mean(val_mape,axis=0)\n",
    "        print_line('{},{},{},{},{},{},{},{},{}\\n'.format(mean_mae[0],mean_mae[1],mean_mae[2],\n",
    "            mean_rmse[0],mean_rmse[1],mean_rmse[2],mean_mape[0],mean_mape[1],mean_mape[2]),res_path)\n",
    "        print('Iter: {}/{} completado.'.format(i+1,n_iter))\n",
    "    print('Fin de evaluacion.')"
   ]
  },
  {
   "cell_type": "code",
   "execution_count": 18,
   "metadata": {},
   "outputs": [
    {
     "name": "stdout",
     "output_type": "stream",
     "text": [
      "Inicio de evaluacion:\n",
      "Iter: 1/30 completado.\n",
      "Iter: 2/30 completado.\n",
      "Iter: 3/30 completado.\n",
      "Iter: 4/30 completado.\n",
      "Iter: 5/30 completado.\n",
      "Iter: 6/30 completado.\n",
      "Iter: 7/30 completado.\n",
      "Iter: 8/30 completado.\n",
      "Iter: 9/30 completado.\n",
      "Iter: 10/30 completado.\n",
      "Iter: 11/30 completado.\n",
      "Iter: 12/30 completado.\n",
      "Iter: 13/30 completado.\n",
      "Iter: 14/30 completado.\n",
      "Iter: 15/30 completado.\n",
      "Iter: 16/30 completado.\n",
      "Iter: 17/30 completado.\n",
      "Iter: 18/30 completado.\n",
      "Iter: 19/30 completado.\n",
      "Iter: 20/30 completado.\n",
      "Iter: 21/30 completado.\n",
      "Iter: 22/30 completado.\n",
      "Iter: 23/30 completado.\n",
      "Iter: 24/30 completado.\n",
      "Iter: 25/30 completado.\n",
      "Iter: 26/30 completado.\n",
      "Iter: 27/30 completado.\n",
      "Iter: 28/30 completado.\n",
      "Iter: 29/30 completado.\n",
      "Iter: 30/30 completado.\n",
      "Fin de evaluacion.\n"
     ]
    }
   ],
   "source": [
    "# evaluar\n",
    "evaluar_mlp_tr(x_train, y_train, x_test, y_test,n_iter,std_scaler_y)"
   ]
  },
  {
   "cell_type": "markdown",
   "metadata": {},
   "source": [
    "# Resultados"
   ]
  },
  {
   "cell_type": "code",
   "execution_count": 22,
   "metadata": {},
   "outputs": [],
   "source": [
    "df_res = pd.read_csv(res_name+'.csv')"
   ]
  },
  {
   "cell_type": "code",
   "execution_count": 23,
   "metadata": {},
   "outputs": [
    {
     "data": {
      "text/html": [
       "<div>\n",
       "<style scoped>\n",
       "    .dataframe tbody tr th:only-of-type {\n",
       "        vertical-align: middle;\n",
       "    }\n",
       "\n",
       "    .dataframe tbody tr th {\n",
       "        vertical-align: top;\n",
       "    }\n",
       "\n",
       "    .dataframe thead th {\n",
       "        text-align: right;\n",
       "    }\n",
       "</style>\n",
       "<table border=\"1\" class=\"dataframe\">\n",
       "  <thead>\n",
       "    <tr style=\"text-align: right;\">\n",
       "      <th></th>\n",
       "      <th>mae_1</th>\n",
       "      <th>mae_2</th>\n",
       "      <th>mae_3</th>\n",
       "      <th>rmse_1</th>\n",
       "      <th>rmse_2</th>\n",
       "      <th>rmse_3</th>\n",
       "      <th>mape_1</th>\n",
       "      <th>mape_2</th>\n",
       "      <th>mape_3</th>\n",
       "    </tr>\n",
       "  </thead>\n",
       "  <tbody>\n",
       "    <tr>\n",
       "      <th>count</th>\n",
       "      <td>30.000000</td>\n",
       "      <td>30.000000</td>\n",
       "      <td>30.000000</td>\n",
       "      <td>30.000000</td>\n",
       "      <td>30.000000</td>\n",
       "      <td>30.000000</td>\n",
       "      <td>30.000000</td>\n",
       "      <td>30.000000</td>\n",
       "      <td>30.000000</td>\n",
       "    </tr>\n",
       "    <tr>\n",
       "      <th>mean</th>\n",
       "      <td>1.986233</td>\n",
       "      <td>2.015848</td>\n",
       "      <td>3.131144</td>\n",
       "      <td>2.519011</td>\n",
       "      <td>2.582921</td>\n",
       "      <td>4.374224</td>\n",
       "      <td>53.057345</td>\n",
       "      <td>79.930534</td>\n",
       "      <td>54.688624</td>\n",
       "    </tr>\n",
       "    <tr>\n",
       "      <th>std</th>\n",
       "      <td>0.150320</td>\n",
       "      <td>0.062081</td>\n",
       "      <td>0.130508</td>\n",
       "      <td>0.170966</td>\n",
       "      <td>0.092320</td>\n",
       "      <td>0.216270</td>\n",
       "      <td>3.660759</td>\n",
       "      <td>3.354524</td>\n",
       "      <td>2.365839</td>\n",
       "    </tr>\n",
       "    <tr>\n",
       "      <th>min</th>\n",
       "      <td>1.709616</td>\n",
       "      <td>1.893059</td>\n",
       "      <td>2.951852</td>\n",
       "      <td>2.196594</td>\n",
       "      <td>2.431822</td>\n",
       "      <td>4.032795</td>\n",
       "      <td>46.694338</td>\n",
       "      <td>75.004219</td>\n",
       "      <td>51.270529</td>\n",
       "    </tr>\n",
       "    <tr>\n",
       "      <th>25%</th>\n",
       "      <td>1.878651</td>\n",
       "      <td>1.975563</td>\n",
       "      <td>3.021811</td>\n",
       "      <td>2.406793</td>\n",
       "      <td>2.527449</td>\n",
       "      <td>4.219195</td>\n",
       "      <td>50.857924</td>\n",
       "      <td>77.739458</td>\n",
       "      <td>53.187568</td>\n",
       "    </tr>\n",
       "    <tr>\n",
       "      <th>50%</th>\n",
       "      <td>1.948871</td>\n",
       "      <td>2.002268</td>\n",
       "      <td>3.098101</td>\n",
       "      <td>2.464923</td>\n",
       "      <td>2.565635</td>\n",
       "      <td>4.328195</td>\n",
       "      <td>52.163486</td>\n",
       "      <td>79.021658</td>\n",
       "      <td>54.208634</td>\n",
       "    </tr>\n",
       "    <tr>\n",
       "      <th>75%</th>\n",
       "      <td>2.093181</td>\n",
       "      <td>2.032286</td>\n",
       "      <td>3.220591</td>\n",
       "      <td>2.643803</td>\n",
       "      <td>2.603418</td>\n",
       "      <td>4.514450</td>\n",
       "      <td>54.944820</td>\n",
       "      <td>80.810552</td>\n",
       "      <td>56.375418</td>\n",
       "    </tr>\n",
       "    <tr>\n",
       "      <th>max</th>\n",
       "      <td>2.289294</td>\n",
       "      <td>2.155133</td>\n",
       "      <td>3.446725</td>\n",
       "      <td>2.870635</td>\n",
       "      <td>2.800281</td>\n",
       "      <td>4.922305</td>\n",
       "      <td>61.213207</td>\n",
       "      <td>88.805563</td>\n",
       "      <td>60.066061</td>\n",
       "    </tr>\n",
       "  </tbody>\n",
       "</table>\n",
       "</div>"
      ],
      "text/plain": [
       "           mae_1      mae_2      mae_3     rmse_1     rmse_2     rmse_3  \\\n",
       "count  30.000000  30.000000  30.000000  30.000000  30.000000  30.000000   \n",
       "mean    1.986233   2.015848   3.131144   2.519011   2.582921   4.374224   \n",
       "std     0.150320   0.062081   0.130508   0.170966   0.092320   0.216270   \n",
       "min     1.709616   1.893059   2.951852   2.196594   2.431822   4.032795   \n",
       "25%     1.878651   1.975563   3.021811   2.406793   2.527449   4.219195   \n",
       "50%     1.948871   2.002268   3.098101   2.464923   2.565635   4.328195   \n",
       "75%     2.093181   2.032286   3.220591   2.643803   2.603418   4.514450   \n",
       "max     2.289294   2.155133   3.446725   2.870635   2.800281   4.922305   \n",
       "\n",
       "          mape_1     mape_2     mape_3  \n",
       "count  30.000000  30.000000  30.000000  \n",
       "mean   53.057345  79.930534  54.688624  \n",
       "std     3.660759   3.354524   2.365839  \n",
       "min    46.694338  75.004219  51.270529  \n",
       "25%    50.857924  77.739458  53.187568  \n",
       "50%    52.163486  79.021658  54.208634  \n",
       "75%    54.944820  80.810552  56.375418  \n",
       "max    61.213207  88.805563  60.066061  "
      ]
     },
     "execution_count": 23,
     "metadata": {},
     "output_type": "execute_result"
    }
   ],
   "source": [
    "df_res.describe()"
   ]
  },
  {
   "cell_type": "code",
   "execution_count": 24,
   "metadata": {},
   "outputs": [
    {
     "data": {
      "text/plain": [
       "<AxesSubplot:>"
      ]
     },
     "execution_count": 24,
     "metadata": {},
     "output_type": "execute_result"
    },
    {
     "data": {
      "image/png": "[encoded data removed]",
      "text/plain": [
       "<Figure size 432x288 with 1 Axes>"
      ]
     },
     "metadata": {
      "needs_background": "light"
     },
     "output_type": "display_data"
    }
   ],
   "source": [
    "df_res[['mae_1','mae_2','mae_3']].plot.box()"
   ]
  },
  {
   "cell_type": "code",
   "execution_count": 25,
   "metadata": {},
   "outputs": [
    {
     "data": {
      "text/plain": [
       "<AxesSubplot:>"
      ]
     },
     "execution_count": 25,
     "metadata": {},
     "output_type": "execute_result"
    },
    {
     "data": {
      "image/png": "[encoded data removed]",
      "text/plain": [
       "<Figure size 432x288 with 1 Axes>"
      ]
     },
     "metadata": {
      "needs_background": "light"
     },
     "output_type": "display_data"
    }
   ],
   "source": [
    "df_res[['rmse_1','rmse_2','rmse_3']].plot.box()"
   ]
  },
  {
   "cell_type": "code",
   "execution_count": 26,
   "metadata": {},
   "outputs": [
    {
     "data": {
      "text/plain": [
       "<AxesSubplot:>"
      ]
     },
     "execution_count": 26,
     "metadata": {},
     "output_type": "execute_result"
    },
    {
     "data": {
      "image/png": "[encoded data removed]",
      "text/plain": [
       "<Figure size 432x288 with 1 Axes>"
      ]
     },
     "metadata": {
      "needs_background": "light"
     },
     "output_type": "display_data"
    }
   ],
   "source": [
    "df_res[['mape_1','mape_2','mape_3']].plot.box()"
   ]
  },
  {
   "cell_type": "markdown",
   "metadata": {},
   "source": [
    "# Prediccion"
   ]
  },
  {
   "cell_type": "code",
   "execution_count": 27,
   "metadata": {},
   "outputs": [],
   "source": [
    "def predecir():\n",
    "    models = list()\n",
    "    rmse_vals = list()\n",
    "    for i in range(n_iter):\n",
    "        model = load_model(model_path)\n",
    "        model.compile(optimizer=Adam(learning_rate=learning_rate),loss='mse')\n",
    "        model.fit(x_train, y_train, validation_split = 0.3, epochs = n_epochs,\n",
    "                    batch_size = mini_batch, callbacks = [es], shuffle = False, verbose = 0)\n",
    "        y_pred = model(x_test)\n",
    "        dn_y_test = std_scaler_y.inverse_transform(y_test)\n",
    "        dn_y_pred = std_scaler_y.inverse_transform(y_pred)\n",
    "        rmse_vals.append(rmse(dn_y_test, dn_y_pred)[0])\n",
    "        model.save(res_name+'_'+str(i)+'.h5')\n",
    "    print('Mejor valor: {}, iter: {}'.format(np.min(rmse_vals), np.argmin(rmse_vals)))\n",
    "    return np.argmin(rmse_vals)"
   ]
  },
  {
   "cell_type": "code",
   "execution_count": 28,
   "metadata": {},
   "outputs": [
    {
     "name": "stdout",
     "output_type": "stream",
     "text": [
      "Mejor valor: 1.5039001903810418, iter: 11\n"
     ]
    }
   ],
   "source": [
    "best_iter = predecir()"
   ]
  },
  {
   "cell_type": "code",
   "execution_count": 30,
   "metadata": {},
   "outputs": [
    {
     "name": "stdout",
     "output_type": "stream",
     "text": [
      "(3, 12)\n"
     ]
    },
    {
     "data": {
      "image/png": "[encoded data removed]",
      "text/plain": [
       "<Figure size 576x288 with 1 Axes>"
      ]
     },
     "metadata": {
      "needs_background": "light"
     },
     "output_type": "display_data"
    },
    {
     "data": {
      "image/png": "[encoded data removed]",
      "text/plain": [
       "<Figure size 576x288 with 1 Axes>"
      ]
     },
     "metadata": {
      "needs_background": "light"
     },
     "output_type": "display_data"
    },
    {
     "data": {
      "image/png": "[encoded data removed]",
      "text/plain": [
       "<Figure size 576x288 with 1 Axes>"
      ]
     },
     "metadata": {
      "needs_background": "light"
     },
     "output_type": "display_data"
    }
   ],
   "source": [
    "\n",
    "model = load_model(res_name+'_'+str(best_iter)+'.h5')\n",
    "y_pred = model(x_test)\n",
    "dn_y_test = std_scaler_y.inverse_transform(y_test)\n",
    "dn_y_pred = std_scaler_y.inverse_transform(y_pred)\n",
    "plot_pred(dn_y_test, dn_y_pred,2021)"
   ]
  },
  {
   "cell_type": "code",
   "execution_count": 31,
   "metadata": {},
   "outputs": [],
   "source": [
    "from notifications import enviar_correo\n",
    "enviar_correo(\"Evaluacion Finalizado!\",\"Se ha completado: {}\".format(res_name))"
   ]
  }
 ],
 "metadata": {
  "kernelspec": {
   "display_name": "Python 3.8.12 ('entornoGPU')",
   "language": "python",
   "name": "python3"
  },
  "language_info": {
   "codemirror_mode": {
    "name": "ipython",
    "version": 3
   },
   "file_extension": ".py",
   "mimetype": "text/x-python",
   "name": "python",
   "nbconvert_exporter": "python",
   "pygments_lexer": "ipython3",
   "version": "3.8.12"
  },
  "orig_nbformat": 4,
  "vscode": {
   "interpreter": {
    "hash": "2b5f45148ae3128c6dd6e07223b4f800e24d99a74d72c1203f234d906a82ee07"
   }
  }
 },
 "nbformat": 4,
 "nbformat_minor": 2
}
